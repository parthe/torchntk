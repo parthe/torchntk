{
 "cells": [
  {
   "cell_type": "code",
   "execution_count": 128,
   "metadata": {
    "id": "0SxpUP6Cp62I"
   },
   "outputs": [],
   "source": [
    "import numpy as np\n",
    "import matplotlib\n",
    "import matplotlib.pyplot as plt\n",
    "import pickle\n",
    "import os\n",
    "import torch\n",
    "from torch import nn"
   ]
  },
  {
   "cell_type": "code",
   "execution_count": 129,
   "metadata": {},
   "outputs": [],
   "source": [
    "N_datapoints = 10_000\n",
    "input_features = 5\n",
    "hidden_layer = 2000"
   ]
  },
  {
   "cell_type": "code",
   "execution_count": 134,
   "metadata": {},
   "outputs": [],
   "source": [
    "def activation(x):\n",
    "    return torch.tanh(x)\n",
    "    \n",
    "def d_activation(x):\n",
    "    return torch.cosh(x)**-2\n",
    "\n",
    "# def activation(x):\n",
    "#     return 2/np.pi * torch.arctan(np.pi/2 * x)\n",
    "\n",
    "# def d_activation(x):\n",
    "#     return 4/(np.pi**2 * x**2 + 4)"
   ]
  },
  {
   "cell_type": "code",
   "execution_count": 135,
   "metadata": {},
   "outputs": [],
   "source": [
    "X = np.random.normal(0,1,(N_datapoints,input_features)).astype(np.float32)\n",
    "X = torch.from_numpy(X)\n",
    "\n",
    "class Model(nn.Module):\n",
    "    def __init__(self):\n",
    "        super(Model, self).__init__()\n",
    "        self.fc1 = nn.Linear(input_features,hidden_layer,bias=False)\n",
    "        self.fc2 = nn.Linear(hidden_layer,1,bias=False)\n",
    "    def forward(self, x_0):\n",
    "        x_1 = activation(self.fc1(x_0))\n",
    "        x_2 = self.fc2(x_1) # instead of Heaviside step fn\n",
    "        return x_2, x_1, x_0\n",
    "    \n",
    "model = Model()\n",
    "x_2, x_1, x_0 = model(X)"
   ]
  },
  {
   "cell_type": "code",
   "execution_count": 136,
   "metadata": {},
   "outputs": [],
   "source": [
    "Ws = []\n",
    "Ws.append(model.fc1.weight.detach().numpy())\n",
    "Ws.append(model.fc2.weight.detach().numpy())\n",
    "\n",
    "Xs = []\n",
    "Xs.append(x_0.numpy().T)\n",
    "Xs.append(x_1.detach().numpy().T)\n",
    "\n",
    "ds = []\n",
    "ds.append(5)\n",
    "ds.append(model.fc1.weight.shape[0])"
   ]
  },
  {
   "cell_type": "code",
   "execution_count": 137,
   "metadata": {
    "id": "jJGKCxaUtx4O"
   },
   "outputs": [],
   "source": [
    "def cross(X):\n",
    "    return np.dot(np.transpose(X),X)"
   ]
  },
  {
   "cell_type": "code",
   "execution_count": 138,
   "metadata": {
    "id": "8AA_nsQTqYIZ"
   },
   "outputs": [],
   "source": [
    "# Ws =     [W1, W2, ..., WL, w]\n",
    "# Xs = [X0,X1, ..., XL]\n",
    "# d = [d0, d1, ..., dL]\n",
    "\n",
    "#therefore these all have the same lengths\n",
    "\n",
    "def compute_NTK(Ws,Xs,d): #L counts from 1 to number of layers.\n",
    "    L = len(Xs)-1 #number of layers, Xs goes from inputs to outputs; X_0 is the input, X_L is the output\n",
    "    n = Xs[0].shape[1] #number of datapoints\n",
    "    Ds = [[]] #holds the derivatives, first value is empty list...?\n",
    "    for l in range(L):\n",
    "        Ds.append(d_activation(np.dot(Ws[l],Xs[l])))\n",
    "    KNTK = cross(Xs[L]) #this is eventually summed over\n",
    "    for l in range(1,L+1):\n",
    "        #we are going to construct terms that look like ( S^T S ) * (X^T X)\n",
    "        XtX = cross(Xs[l-1])\n",
    "        S = np.zeros((d[l],n))\n",
    "        for i in range(n):\n",
    "            s = Ws[-1].T.reshape(-1)/np.sqrt(d[L])\n",
    "            for k in range(L,l-1,-1):\n",
    "                s = Ds[k][:,i]*s\n",
    "                if k > l:\n",
    "                    s = np.dot(Ws[k-1],s)/np.sqrt(d[k-1])\n",
    "            S[:,i] = s\n",
    "        KNTK += cross(S) * XtX\n",
    "    return KNTK"
   ]
  },
  {
   "cell_type": "code",
   "execution_count": 139,
   "metadata": {},
   "outputs": [
    {
     "name": "stdout",
     "output_type": "stream",
     "text": [
      "Number of parameters:  12000\n",
      "Number of datapoints: \n"
     ]
    }
   ],
   "source": [
    "print('Number of parameters: ',sum(p.numel() for p in model.parameters() if p.requires_grad))\n",
    "print('Number of datapoints: ',N_datapoints)"
   ]
  },
  {
   "cell_type": "code",
   "execution_count": 124,
   "metadata": {},
   "outputs": [
    {
     "name": "stdout",
     "output_type": "stream",
     "text": [
      "6.65 s ± 402 ms per loop (mean ± std. dev. of 7 runs, 1 loop each)\n"
     ]
    }
   ],
   "source": [
    "%%timeit\n",
    "KNTK = compute_NTK(Ws,Xs,ds)"
   ]
  }
 ],
 "metadata": {
  "colab": {
   "name": "NTK.ipynb",
   "provenance": []
  },
  "kernelspec": {
   "display_name": "Python 3",
   "language": "python",
   "name": "python3"
  },
  "language_info": {
   "codemirror_mode": {
    "name": "ipython",
    "version": 3
   },
   "file_extension": ".py",
   "mimetype": "text/x-python",
   "name": "python",
   "nbconvert_exporter": "python",
   "pygments_lexer": "ipython3",
   "version": "3.9.6"
  }
 },
 "nbformat": 4,
 "nbformat_minor": 1
}
