{
 "cells": [
  {
   "cell_type": "code",
   "execution_count": 1,
   "id": "a4879588",
   "metadata": {},
   "outputs": [],
   "source": [
    "import numpy as np\n",
    "import matplotlib.pyplot as plt\n",
    "import torch"
   ]
  },
  {
   "cell_type": "code",
   "execution_count": null,
   "id": "e66e17c8",
   "metadata": {},
   "outputs": [],
   "source": [
    "# There is an alternative formula for the NTK that uses conjugate kernels to calcualte the NTK in pieces instead of \n",
    "# relying on the Jacobian. This may be a faster route to calculating the NTK without a huge memory constraint\n"
   ]
  }
 ],
 "metadata": {
  "kernelspec": {
   "display_name": "Python 3",
   "language": "python",
   "name": "python3"
  },
  "language_info": {
   "codemirror_mode": {
    "name": "ipython",
    "version": 3
   },
   "file_extension": ".py",
   "mimetype": "text/x-python",
   "name": "python",
   "nbconvert_exporter": "python",
   "pygments_lexer": "ipython3",
   "version": "3.9.6"
  }
 },
 "nbformat": 4,
 "nbformat_minor": 5
}
