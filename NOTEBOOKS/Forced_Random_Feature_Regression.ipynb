{
 "cells": [
  {
   "cell_type": "code",
   "execution_count": 4,
   "metadata": {},
   "outputs": [],
   "source": [
    "import numpy as np\n",
    "import torch\n",
    "import random\n",
    "\n",
    "import matplotlib.pyplot as plt\n",
    "\n",
    "\n",
    "import torch\n",
    "from torch import nn, optim\n",
    "from torch import load\n",
    "from torch.nn import functional as F\n",
    "from torch import autograd\n",
    "\n",
    "from torchvision import datasets\n",
    "\n",
    "from torch.utils.data import TensorDataset\n",
    "from torch.utils.data import DataLoader\n",
    "\n",
    "import time\n",
    "\n",
    "import sys\n",
    "from pathlib import Path\n",
    "\n",
    "from numba import njit\n",
    "\n",
    "import os\n",
    "\n",
    "import gc"
   ]
  },
  {
   "cell_type": "code",
   "execution_count": 6,
   "metadata": {},
   "outputs": [
    {
     "name": "stdout",
     "output_type": "stream",
     "text": [
      "torch.vmap is currently available only on nightly releases: torch version  1.11.0.dev20220127\n"
     ]
    }
   ],
   "source": [
    "from torchntk.explicit import explicit_ntk"
   ]
  },
  {
   "cell_type": "code",
   "execution_count": 7,
   "metadata": {},
   "outputs": [],
   "source": [
    "experiment_base_path = './experiment'\n",
    "\n",
    "d1_path = os.path.join(experiment_base_path,'d1_component')\n",
    "d2_path = os.path.join(experiment_base_path,'d2_component')\n",
    "d3_path = os.path.join(experiment_base_path,'d3_component')\n",
    "d4_path = os.path.join(experiment_base_path,'d4_component')\n",
    "\n",
    "ntk_path = os.path.join(experiment_base_path,'ntk')"
   ]
  },
  {
   "cell_type": "code",
   "execution_count": 8,
   "metadata": {},
   "outputs": [],
   "source": [
    "os.makedirs(d1_path,exist_ok=True)\n",
    "os.makedirs(d2_path,exist_ok=True)\n",
    "os.makedirs(d3_path,exist_ok=True)\n",
    "os.makedirs(d4_path,exist_ok=True)\n",
    "os.makedirs(ntk_path,exist_ok=True)"
   ]
  },
  {
   "cell_type": "code",
   "execution_count": 9,
   "metadata": {},
   "outputs": [],
   "source": [
    "SEED = 0\n",
    "number_datapoints = 10_000\n",
    "N_EPOCHS = 600_000"
   ]
  },
  {
   "cell_type": "code",
   "execution_count": 10,
   "metadata": {},
   "outputs": [],
   "source": [
    "def activation(x):\n",
    "    return torch.tanh(x)\n",
    "\n",
    "def d_activationt(x):\n",
    "    return torch.cosh(x)**-2"
   ]
  },
  {
   "cell_type": "code",
   "execution_count": 11,
   "metadata": {},
   "outputs": [],
   "source": [
    "def NTK_weights(m):\n",
    "    if isinstance(m, nn.Linear):\n",
    "        print(m.weight.shape)\n",
    "        nn.init.normal_(m.weight.data)#/m.weight.shape[0]\n",
    "        if m.bias != None:\n",
    "            nn.init.normal_(m.bias.data)#/m.weight.shape[0]\n",
    "    if isinstance(m, nn.Conv2d):\n",
    "        print(m.weight.shape)\n",
    "        nn.init.normal_(m.weight.data)#/m.weight.shape[0]\n",
    "        if m.bias != None:\n",
    "            nn.init.normal_(m.bias.data)#/m.weight.shape[0]"
   ]
  },
  {
   "cell_type": "code",
   "execution_count": 12,
   "metadata": {},
   "outputs": [],
   "source": [
    "class FC(torch.nn.Module):\n",
    "    '''\n",
    "    simple network for test cases\n",
    "    \n",
    "    \n",
    "    It seems like bias vectors aren't trivially added.\n",
    "    '''\n",
    "    def __init__(self,):\n",
    "        super(FC, self).__init__()\n",
    "        #input size=(N,784)\n",
    "        self.d1 = torch.nn.Linear(784,50,bias=False)\n",
    "        self.d2 = torch.nn.Linear(50,50,bias=False)\n",
    "        self.d3 = torch.nn.Linear(50,1,bias=False)\n",
    "        \n",
    "    def forward(self, x0):\n",
    "        x1 = 1/np.sqrt(50.0) *  activation(self.d1(x0))\n",
    "        x2 = 1/np.sqrt(50.0) *  activation(self.d2(x1))\n",
    "        x3 = 1/np.sqrt(1.00) *  activation(self.d3(x2))\n",
    "        return x3, x2, x1, x0"
   ]
  },
  {
   "cell_type": "code",
   "execution_count": 13,
   "metadata": {},
   "outputs": [
    {
     "name": "stdout",
     "output_type": "stream",
     "text": [
      "torch.Size([50, 784])\n",
      "torch.Size([50, 50])\n",
      "torch.Size([1, 50])\n"
     ]
    },
    {
     "data": {
      "text/plain": [
       "FC(\n",
       "  (d1): Linear(in_features=784, out_features=50, bias=False)\n",
       "  (d2): Linear(in_features=50, out_features=50, bias=False)\n",
       "  (d3): Linear(in_features=50, out_features=1, bias=False)\n",
       ")"
      ]
     },
     "execution_count": 13,
     "metadata": {},
     "output_type": "execute_result"
    }
   ],
   "source": [
    "torch.manual_seed(SEED)\n",
    "random.seed(SEED)\n",
    "np.random.seed(SEED)\n",
    "\n",
    "model = FC()\n",
    "model.apply(NTK_weights)\n",
    "\n",
    "torch.manual_seed(SEED)\n",
    "random.seed(SEED)\n",
    "np.random.seed(SEED)\n",
    "\n",
    "model.cuda()"
   ]
  },
  {
   "cell_type": "code",
   "execution_count": 14,
   "metadata": {},
   "outputs": [],
   "source": [
    "train_data = datasets.MNIST(\n",
    "    root = './DATA/',\n",
    "    train = True,                          \n",
    "    download = True,            \n",
    ")\n",
    "\n",
    "test_data = datasets.MNIST(\n",
    "    root = './DATA/', \n",
    "    train = False, \n",
    "    download=True,\n",
    ")"
   ]
  },
  {
   "cell_type": "code",
   "execution_count": 15,
   "metadata": {},
   "outputs": [],
   "source": [
    "train_x = train_data.data\n",
    "test_x = test_data.data\n",
    "\n",
    "train_y = train_data.targets\n",
    "test_y = test_data.targets\n",
    "\n",
    "train_mask = torch.logical_or(train_y==6,train_y==9)\n",
    "test_mask = torch.logical_or(test_y==6,test_y==9)\n",
    "\n",
    "train_x = train_x[train_mask]\n",
    "train_y = train_y[train_mask]\n",
    "\n",
    "test_x = test_x[test_mask]\n",
    "test_y = test_y[test_mask]\n",
    "\n",
    "train_x = train_x/255.0\n",
    "test_x = test_x/255.0\n",
    "\n",
    "train_y[train_y==6] = 0\n",
    "train_y[train_y==9] = 1\n",
    "\n",
    "test_y[test_y==6] = 0\n",
    "test_y[test_y==9] = 1\n",
    "\n",
    "train_x = train_x.reshape(-1,784)\n",
    "test_x = test_x.reshape(-1,784)\n",
    "\n",
    "train_y = train_y.float()\n",
    "test_y = test_y.float()\n",
    "\n",
    "train_x = train_x - torch.mean(train_x)\n",
    "train_x = train_x / torch.std(train_x)\n",
    "\n",
    "test_x = test_x - torch.mean(train_x)\n",
    "test_x = test_x / torch.std(test_x)\n",
    "\n",
    "mask_6 = train_y == 0\n",
    "mask_9 = train_y == 1\n",
    "\n",
    "train_x_6 = train_x[mask_6]\n",
    "train_x_9 = train_x[mask_9]\n",
    "\n",
    "train_y_6 = train_y[mask_6]\n",
    "train_y_9 = train_y[mask_9]\n",
    "\n",
    "#grab 2000 from each, turn that back into train x and train y, which is now sorted.\n",
    "\n",
    "train_y = torch.cat([train_y_6[0:5000],train_y_9[0:5000]])\n",
    "train_x = torch.cat([train_x_6[0:5000],train_x_9[0:5000]])\n",
    "\n",
    "train_x = train_x.to('cuda')\n",
    "train_y = train_y.to('cuda')"
   ]
  },
  {
   "cell_type": "code",
   "execution_count": 16,
   "metadata": {},
   "outputs": [],
   "source": [
    "criterion = torch.nn.BCEWithLogitsLoss()"
   ]
  },
  {
   "cell_type": "code",
   "execution_count": 28,
   "metadata": {},
   "outputs": [],
   "source": [
    "def forward(model, x_test):\n",
    "    x_3, x_2, x_1, x_0 = model(x_test)\n",
    "\n",
    "    Xs = [] # Xs are shape (output x #DP) ; however, typical python notation is reversed, so we take transpose here\n",
    "    Xs.append(x_0.T.detach())\n",
    "    Xs.append(x_1.T.detach())\n",
    "    Xs.append(x_2.T.detach())\n",
    "\n",
    "    #This is used to create arrays-- needs to be integer list to play nice with compilers\n",
    "    d_int = []\n",
    "    d_int.append(50)\n",
    "    d_int.append(50)\n",
    "    d_int.append(1)\n",
    "\n",
    "    d_array = [] #this is for the NTK formulation, \n",
    "    #ds_array.append(torch.tensor([1.0],dtype=torch.float32).to(device)) #first element is a spacer, could be anything.\n",
    "\n",
    "    d_array.append(torch.tensor([50.0],dtype=torch.float32).to(device)) \n",
    "    d_array.append(torch.tensor([50.0],dtype=torch.float32).to(device)) \n",
    "    d_array.append(torch.tensor([1.0],dtype=torch.float32).to(device))\n",
    "\n",
    "    layers=[model.d1,\n",
    "            model.d2,\n",
    "            model.d3,\n",
    "           ]\n",
    "    \n",
    "    #Ws Ks Xs d_int d_array strides padding layers d_activationt, device=\"cuda\"\n",
    "    return x_3[:,0], {'Xs':Xs, 'd_int':d_int, 'd_array':d_array, 'layers':layers, 'd_activationt':d_activationt, 'device':'cuda'}"
   ]
  },
  {
   "cell_type": "code",
   "execution_count": 29,
   "metadata": {},
   "outputs": [],
   "source": [
    "def visualize_spectrum(NTK_component,epoch,save_str):\n",
    "    '''\n",
    "    takes a numpy array and saves the image to save_str\n",
    "    '''\n",
    "    fig = plt.figure(figsize=(8,8))\n",
    "    plt.hist(torch.linalg.eigvalsh(NTK_component).detach().cpu().numpy(), bins=np.logspace(-14,4,100,10.0))\n",
    "    med = torch.mean(NTK_component)\n",
    "    plt.xscale('log')\n",
    "    plt.xlabel('eigenvalue')\n",
    "    plt.title('MNIST-2 {} eigenvalue spectrum, step={}'.format(save_str,str(epoch).zfill(5)))\n",
    "    plt.vlines(med.detach().cpu().numpy(),0,200,color='k',linestyle='dashed')\n",
    "    #plt.savefig(os.path.join(experiment_base_path,'images',save_str,str(epoch).zfill(5)+'.png'))\n",
    "    plt.savefig(os.path.join('./images','spectrumMNIST2'+save_str+'_'+str(epoch).zfill(5)+'.pdf'))\n",
    "    plt.close()\n",
    "    #plt.show()\n",
    "    \n",
    "def visualize_spectrum_linear(NTK_component,epoch,save_str):\n",
    "    '''\n",
    "    takes a numpy array and saves the image to save_str\n",
    "    '''\n",
    "    fig = plt.figure(figsize=(8,8))\n",
    "    plt.hist(torch.linalg.eigvalsh(NTK_component).detach().cpu().numpy(), bins=np.linspace(1e-14,1e4,100,10.0))\n",
    "    plt.xlabel('eigenvalue')\n",
    "    plt.title('{} eigenvalue spectrum: {}'.format(save_str,str(epoch).zfill(5)))\n",
    "    plt.savefig(os.path.join(experiment_base_path,'images',save_str,str(epoch).zfill(5)+'.png'))\n",
    "    plt.close()\n",
    "    #plt.show()\n",
    "    \n",
    "def visualize_ntk_matrix(NTK_component,epoch,save_str):\n",
    "    '''\n",
    "    plots a heatmap of the NTK, and does so without changing the values\n",
    "    '''\n",
    "    fig = plt.figure(figsize=(8,8))\n",
    "    plt.imshow(NTK_component.detach().cpu().numpy(),cmap='Greys')\n",
    "    plt.colorbar()\n",
    "    plt.xlabel('NTK index j')\n",
    "    plt.ylabel('NTK index i')\n",
    "    plt.title('{} matrix map: {}'.format(save_str,str(epoch).zfill(5)))\n",
    "    plt.show()\n",
    "    #plt.savefig(os.path.join(experiment_base_path,'images_matrixmap',save_str,str(epoch).zfill(5)+'.png'))\n",
    "    #plt.close()\n",
    "    \n",
    "def visualize_ntk_matrix_scaled(NTK_component,epoch,save_str):\n",
    "    '''\n",
    "    plots a heatmap of the NTK, and does so by scaling the data first to be between -1 and 1\n",
    "    '''\n",
    "    NTK_component = NTK_component.detach().cpu().numpy()\n",
    "    #scale between 0, 1\n",
    "    vmin, vmax = np.quantile(NTK_component,[0.01,0.99])\n",
    "    #\n",
    "    fig = plt.figure(figsize=(8,8))\n",
    "    plt.imshow(NTK_component,cmap='Greys',vmin=vmin, vmax=vmax)\n",
    "    plt.colorbar()\n",
    "    plt.xlabel('NTK index j')\n",
    "    plt.ylabel('NTK index i')\n",
    "    plt.title('MNIST-2 {} matrix map, step={}'.format(save_str,str(epoch).zfill(5)))\n",
    "    \n",
    "    #plt.show()\n",
    "    #plt.savefig(os.path.join(experiment_base_path,'images_matrixmapscaled',save_str,str(epoch).zfill(5)+'.png'))\n",
    "    plt.savefig(os.path.join('./images','matrixMNIST2_rel_'+save_str+'_'+str(epoch).zfill(5)+'.pdf'))\n",
    "    plt.close()\n",
    "    \n",
    "def visualize_ntk_matrix_absscaled(NTK_component,epoch,save_str,vmin,vmax):\n",
    "    '''\n",
    "    plots a heatmap of the NTK, and does so by scaling the data first to be between -1 and 1\n",
    "    '''\n",
    "    NTK_component = NTK_component.detach().cpu().numpy()\n",
    "    #\n",
    "    fig = plt.figure(figsize=(8,8))\n",
    "    plt.imshow(NTK_component,cmap='Greys',vmin=vmin, vmax=vmax)\n",
    "    plt.colorbar()\n",
    "    plt.xlabel('NTK index j')\n",
    "    plt.ylabel('NTK index i')\n",
    "    plt.title('MNIST-2 {} matrix map, step={}'.format(save_str,str(epoch).zfill(5)))\n",
    "    \n",
    "    plt.savefig(os.path.join('./images','matrixMNIST2_abs_'+save_str+'_'+str(epoch).zfill(5)+'.pdf'))\n",
    "    plt.close()\n",
    "    #plt.show()\n",
    "    #plt.savefig(os.path.join(experiment_base_path,'images_matrixmapscaled',save_str,str(epoch).zfill(5)+'.png'))\n",
    "    #plt.close()\n",
    "    \n",
    "def distributions(NTK_component,epoch,save_str):\n",
    "    '''\n",
    "    plots the distribution of all values in sixs and all values in nines\n",
    "    '''\n",
    "    NTK_component = NTK_component.detach().cpu().numpy()\n",
    "    \n",
    "    \n",
    "    #This would be used to determine if the value is six or nine, not the distribution.\n",
    "    sixes_and_sixes = NTK_component[0:5000,0:5000]\n",
    "    sixes_and_nines= NTK_component[0:5000,5000::]\n",
    "                            \n",
    "    nines_and_sixes= NTK_component[5000::,0:5000]\n",
    "    nines_and_nines = NTK_component[5000::,5000::]\n",
    "    \n",
    "    #Now  plot two things: first the distribution of 6s with 6s and the distribution of 6s with 9s\n",
    "    fig = plt.figure(figsize=(8,8))\n",
    "    bins = np.linspace(np.quantile(NTK_component[0:5000,:],0.001), np.quantile(NTK_component[0:5000,:],0.999), 300)\n",
    "    plt.hist(sixes_and_sixes.flatten(),histtype='step',color='tab:blue',label='6s with 6s',bins=bins)\n",
    "    plt.hist(sixes_and_nines.flatten(),histtype='step',color='tab:orange',label='6s with 9s',bins=bins)\n",
    "    plt.title('MNIST-2 {} Histogram of 6s, step={}'.format(save_str,str(epoch).zfill(5)))\n",
    "    plt.legend()\n",
    "    plt.savefig(os.path.join('./images','distributionMNIST2_'+save_str+'_'+str(epoch).zfill(5)+'.pdf'))\n",
    "    plt.close()\n",
    "    #plt.show()"
   ]
  },
  {
   "cell_type": "code",
   "execution_count": 30,
   "metadata": {},
   "outputs": [],
   "source": [
    "from tqdm import tqdm"
   ]
  },
  {
   "cell_type": "code",
   "execution_count": 31,
   "metadata": {},
   "outputs": [],
   "source": [
    "model.d1.weight.requires_grad=False\n",
    "device='cuda'\n",
    "LR=1e-3"
   ]
  },
  {
   "cell_type": "code",
   "execution_count": 32,
   "metadata": {},
   "outputs": [
    {
     "name": "stderr",
     "output_type": "stream",
     "text": [
      "  0%|                                                                                           | 0/100 [00:00<?, ?it/s]/people/enge625/src/easy_ntk/easyntk/explicit/explicit_ntk.py:92: UserWarning: The use of `x.T` on tensors of dimension other than 2 to reverse their shape is deprecated and it will throw an error in a future release. Consider `x.mT` to transpose batches of matricesor `x.permute(*torch.arange(x.ndim - 1, -1, -1))` to reverse the dimensions of a tensor. (Triggered internally at  /opt/conda/conda-bld/pytorch_1643271046729/work/aten/src/ATen/native/TensorShape.cpp:2336.)\n",
      "  return X.T.matmul(X)\n",
      " 99%|████████████████████████████████████████████████████████████████████████████████▏| 99/100 [00:00<00:00, 781.54it/s]\n"
     ]
    }
   ],
   "source": [
    "losses=[]\n",
    "accuracies=[]\n",
    "\n",
    "step=0\n",
    "for step in tqdm(range(1,N_EPOCHS+1)):\n",
    "    now = time.time()\n",
    "    \n",
    "    model.zero_grad()\n",
    "    \n",
    "    output, params = forward(model, train_x)\n",
    "    \n",
    "    if step==1:\n",
    "        components_init = explicit_ntk(**params)\n",
    "        torch.cuda.empty_cache()\n",
    "    \n",
    "    loss = criterion(output,train_y)\n",
    "    loss.backward()\n",
    "    losses.append(loss.item())\n",
    "        \n",
    "    with torch.no_grad():\n",
    "        for name,W in model.named_parameters():\n",
    "            if W.requires_grad:\n",
    "                W-= LR * W.grad\n",
    "            \n",
    "    predictions = torch.round(torch.sigmoid(output))\n",
    "    acc = torch.sum(predictions==train_y)\n",
    "    accuracies.append(acc.detach().cpu().numpy()/len(train_y))\n",
    "\n",
    "    if step==N_EPOCHS:\n",
    "        components_end = explicit_ntk(**params)\n",
    "        torch.cuda.empty_cache()\n",
    "        break\n",
    "    "
   ]
  },
  {
   "cell_type": "code",
   "execution_count": 33,
   "metadata": {},
   "outputs": [
    {
     "data": {
      "image/png": "[encoded data removed]",
      "text/plain": [
       "<Figure size 432x288 with 1 Axes>"
      ]
     },
     "metadata": {
      "needs_background": "light"
     },
     "output_type": "display_data"
    },
    {
     "data": {
      "image/png": "[encoded data removed]",
      "text/plain": [
       "<Figure size 432x288 with 1 Axes>"
      ]
     },
     "metadata": {
      "needs_background": "light"
     },
     "output_type": "display_data"
    }
   ],
   "source": [
    "plt.plot(accuracies)\n",
    "plt.show()\n",
    "\n",
    "plt.plot(losses)\n",
    "plt.show()"
   ]
  },
  {
   "cell_type": "code",
   "execution_count": 54,
   "metadata": {},
   "outputs": [
    {
     "data": {
      "text/plain": [
       "0.4137"
      ]
     },
     "execution_count": 54,
     "metadata": {},
     "output_type": "execute_result"
    }
   ],
   "source": [
    "accuracies[0]"
   ]
  },
  {
   "cell_type": "code",
   "execution_count": 22,
   "metadata": {},
   "outputs": [],
   "source": [
    "ntk_init = torch.sum(torch.stack(components_init),dim=0)\n",
    "ntk_end = torch.sum(torch.stack(components_end),dim=0)"
   ]
  },
  {
   "cell_type": "code",
   "execution_count": 44,
   "metadata": {},
   "outputs": [],
   "source": [
    "def visualize_ntk_matrix_scaled(NTK_component,epoch,save_str):\n",
    "    '''\n",
    "    plots a heatmap of the NTK, and does so by scaling the data first to be between -1 and 1\n",
    "    '''\n",
    "    NTK_component = NTK_component.detach().cpu().numpy()\n",
    "    #scale between 0, 1\n",
    "    vmin, vmax = np.quantile(NTK_component,[0.01,0.99])\n",
    "    #\n",
    "    fig = plt.figure(figsize=(8,8))\n",
    "    plt.imshow(NTK_component,cmap='Greys',vmin=vmin, vmax=vmax)\n",
    "    plt.colorbar()\n",
    "    plt.xlabel('NTK index j')\n",
    "    plt.ylabel('NTK index i')\n",
    "    plt.title('MNIST-2 {} matrix map, step={}'.format(save_str,str(epoch).zfill(5)))\n",
    "    plt.show()\n",
    "    #plt.savefig(os.path.join(experiment_base_path,'images_matrixmapscaled',save_str,str(epoch).zfill(5)+'.png'))\n",
    "    #plt.savefig(os.path.join('./images','matrixMNIST2_rel_'+save_str+'_'+str(epoch).zfill(5)+'.pdf'))\n",
    "    #plt.close()\n",
    "    \n",
    "def visualize_ntk_matrix_absscaled(NTK_component,epoch,save_str,vmin,vmax):\n",
    "    '''\n",
    "    plots a heatmap of the NTK, and does so by scaling the data first to be between -1 and 1\n",
    "    '''\n",
    "    NTK_component = NTK_component.detach().cpu().numpy()\n",
    "    #\n",
    "    fig = plt.figure(figsize=(8,8))\n",
    "    plt.imshow(NTK_component,cmap='Greys',vmin=vmin, vmax=vmax)\n",
    "    plt.colorbar()\n",
    "    plt.xlabel('NTK index j')\n",
    "    plt.ylabel('NTK index i')\n",
    "    plt.title('MNIST-2 {} matrix map, step={}'.format(save_str,str(epoch).zfill(5)))\n",
    "    plt.savefig(os.path.join('./images/222022/','matrixMNIST2_22_abs_'+save_str+'_'+str(epoch).zfill(5)+'.pdf'))\n",
    "    plt.close()\n",
    "    #plt.show()\n",
    "    #plt.savefig(os.path.join(experiment_base_path,'images_matrixmapscaled',save_str,str(epoch).zfill(5)+'.png'))\n",
    "    #plt.close()"
   ]
  },
  {
   "cell_type": "code",
   "execution_count": 45,
   "metadata": {},
   "outputs": [],
   "source": [
    "visualize_ntk_matrix_absscaled(components_init[-1],1,'l1',-0.1,4)"
   ]
  },
  {
   "cell_type": "code",
   "execution_count": 46,
   "metadata": {},
   "outputs": [],
   "source": [
    "visualize_ntk_matrix_absscaled(components_init[-2],1,'l2',-0.2,0.55)"
   ]
  },
  {
   "cell_type": "code",
   "execution_count": 47,
   "metadata": {},
   "outputs": [],
   "source": [
    "visualize_ntk_matrix_absscaled(components_init[-3],1,'l3',-0.15,0.3)"
   ]
  },
  {
   "cell_type": "code",
   "execution_count": 48,
   "metadata": {},
   "outputs": [],
   "source": [
    "visualize_ntk_matrix_absscaled(ntk_init,1,'ntk',-0.1,4)"
   ]
  },
  {
   "cell_type": "code",
   "execution_count": 49,
   "metadata": {},
   "outputs": [],
   "source": [
    "visualize_ntk_matrix_absscaled(components_end[-1],600_000,'l1',-0.1,4)"
   ]
  },
  {
   "cell_type": "code",
   "execution_count": 50,
   "metadata": {},
   "outputs": [],
   "source": [
    "visualize_ntk_matrix_absscaled(components_end[-2],600_000,'l2',-0.2,0.55)"
   ]
  },
  {
   "cell_type": "code",
   "execution_count": 51,
   "metadata": {},
   "outputs": [],
   "source": [
    "visualize_ntk_matrix_absscaled(components_end[-3],600_000,'l3',-0.15,0.3)"
   ]
  },
  {
   "cell_type": "code",
   "execution_count": 52,
   "metadata": {},
   "outputs": [],
   "source": [
    "visualize_ntk_matrix_absscaled(ntk_end,600_000,'ntk',-0.1,4)"
   ]
  },
  {
   "cell_type": "code",
   "execution_count": 32,
   "metadata": {},
   "outputs": [],
   "source": [
    "L2_ntk = torch.sqrt(torch.sum(torch.square(ntk_init - ntk_end)))\n",
    "L2_l1 = torch.sqrt(torch.sum(torch.square(components_end[-1] - components_init[-1])))\n",
    "L2_l2 = torch.sqrt(torch.sum(torch.square(components_end[-2] - components_init[-2])))\n",
    "L2_l3 = torch.sqrt(torch.sum(torch.square(components_end[-3] - components_init[-3])))"
   ]
  },
  {
   "cell_type": "code",
   "execution_count": 33,
   "metadata": {},
   "outputs": [
    {
     "name": "stdout",
     "output_type": "stream",
     "text": [
      "tensor(35667.7422, device='cuda:0')\n",
      "tensor(35486.7734, device='cuda:0')\n",
      "tensor(1093.3002, device='cuda:0')\n",
      "tensor(394.8870, device='cuda:0')\n"
     ]
    }
   ],
   "source": [
    "print(L2_ntk)\n",
    "print(L2_l1)\n",
    "print(L2_l2)\n",
    "print(L2_l3)"
   ]
  }
 ],
 "metadata": {
  "kernelspec": {
   "display_name": "Python 3",
   "language": "python",
   "name": "python3"
  },
  "language_info": {
   "codemirror_mode": {
    "name": "ipython",
    "version": 3
   },
   "file_extension": ".py",
   "mimetype": "text/x-python",
   "name": "python",
   "nbconvert_exporter": "python",
   "pygments_lexer": "ipython3",
   "version": "3.7.7"
  }
 },
 "nbformat": 4,
 "nbformat_minor": 5
}
