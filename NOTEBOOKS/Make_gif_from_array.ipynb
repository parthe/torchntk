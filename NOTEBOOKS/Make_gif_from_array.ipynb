{
 "cells": [
  {
   "cell_type": "code",
   "execution_count": 75,
   "id": "a27f1cf0",
   "metadata": {},
   "outputs": [],
   "source": [
    "import numpy as np\n",
    "import matplotlib.pyplot as plt\n",
    "import matplotlib.animation as animation"
   ]
  },
  {
   "cell_type": "code",
   "execution_count": 94,
   "id": "51cb37d1",
   "metadata": {},
   "outputs": [],
   "source": [
    "A = np.load('./../../data/NTKs_eigs.npy')"
   ]
  },
  {
   "cell_type": "code",
   "execution_count": 99,
   "id": "89234d42",
   "metadata": {},
   "outputs": [
    {
     "data": {
      "image/png": "[encoded data removed]",
      "text/plain": [
       "<Figure size 432x288 with 1 Axes>"
      ]
     },
     "metadata": {
      "needs_background": "light"
     },
     "output_type": "display_data"
    }
   ],
   "source": [
    "eigs = A[0]\n",
    "plt.hist(eigs,bins=np.logspace(-7,8,num=50,base=10.0))\n",
    "#plt.hist(eigs)\n",
    "plt.xscale('log')\n",
    "plt.xlabel('Weight eigenvalues [log]')\n",
    "plt.title('NTK eigenvalues Histogram')\n",
    "plt.xlim(1e-7,1e8)\n",
    "plt.ylim(0,130)\n",
    "plt.show()"
   ]
  },
  {
   "cell_type": "code",
   "execution_count": 102,
   "id": "36b996fd",
   "metadata": {},
   "outputs": [],
   "source": [
    "for i in range(len(A)):\n",
    "    eigs = A[i]\n",
    "    plt.hist(eigs,bins=np.logspace(-7,8,num=50,base=10.0))\n",
    "    #plt.hist(eigs)\n",
    "    plt.xscale('log')\n",
    "    plt.xlabel('NTK eigenvalues [log]')\n",
    "    plt.title('NTK eigenvalues Histogram epoch{}'.format(i))\n",
    "    plt.xlim(1e-7,1e8)\n",
    "    plt.ylim(0,130)\n",
    "    plt.savefig('./../../data/images_to_animate/'+str(i).zfill(4)+'.jpeg')\n",
    "    plt.close() \n"
   ]
  },
  {
   "cell_type": "code",
   "execution_count": 103,
   "id": "a5ce909b",
   "metadata": {},
   "outputs": [],
   "source": [
    "from PIL import Image\n",
    "import glob\n",
    "# Create the frames\n",
    "frames = []\n",
    "imgs = glob.glob(\"./../../data/images_to_animate/*.jpeg\")\n",
    "for i in imgs:\n",
    "    new_frame = Image.open(i)\n",
    "    frames.append(new_frame)\n",
    "    \n",
    "# Save into a GIF file that loops forever\n",
    "frames[0].save('./wo_momentum.gif', format='GIF',\n",
    "                append_images=frames[1:],\n",
    "                save_all=True,\n",
    "                duration=100, loop=0)"
   ]
  },
  {
   "cell_type": "markdown",
   "id": "064ad6c7",
   "metadata": {},
   "source": [
    "# Now animate the NTK value itself"
   ]
  },
  {
   "cell_type": "code",
   "execution_count": null,
   "id": "d33e17fc",
   "metadata": {},
   "outputs": [],
   "source": []
  }
 ],
 "metadata": {
  "kernelspec": {
   "display_name": "Python 3",
   "language": "python",
   "name": "python3"
  },
  "language_info": {
   "codemirror_mode": {
    "name": "ipython",
    "version": 3
   },
   "file_extension": ".py",
   "mimetype": "text/x-python",
   "name": "python",
   "nbconvert_exporter": "python",
   "pygments_lexer": "ipython3",
   "version": "3.9.6"
  }
 },
 "nbformat": 4,
 "nbformat_minor": 5
}
