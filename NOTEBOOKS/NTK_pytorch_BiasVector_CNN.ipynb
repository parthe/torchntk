{
 "cells": [
  {
   "cell_type": "markdown",
   "id": "aceb24f1",
   "metadata": {},
   "source": [
    "# This code attempts to check the validity of my jacobian layerwise method given a layer with biases. We will take the right answer as given by the 'easy' method, since it just computes straight jacobians"
   ]
  },
  {
   "cell_type": "code",
   "execution_count": 1,
   "id": "318e76b9",
   "metadata": {},
   "outputs": [],
   "source": [
    "import numpy as np\n",
    "import torch\n",
    "import random\n",
    "\n",
    "import matplotlib.pyplot as plt\n",
    "\n",
    "\n",
    "import torch\n",
    "from torch import nn, optim\n",
    "from torch import load\n",
    "from torch.nn import functional as F\n",
    "from torch import autograd\n",
    "\n",
    "from torch.utils.data import TensorDataset\n",
    "from torch.utils.data import DataLoader\n",
    "\n",
    "#from ..easy_ntk import calculate_NTK\n",
    "#from einops import rearrange\n",
    "\n",
    "import time\n",
    "\n",
    "import sys\n",
    "from pathlib import Path\n",
    "\n",
    "from numba import njit\n",
    "from numba.typed import List\n",
    "\n",
    "%matplotlib inline\n",
    "%load_ext line_profiler\n",
    "%load_ext memory_profiler"
   ]
  },
  {
   "cell_type": "code",
   "execution_count": 2,
   "id": "7c3a07aa",
   "metadata": {},
   "outputs": [],
   "source": [
    "import copy\n",
    "\n",
    "def _del_nested_attr(obj, names):\n",
    "    \"\"\"\n",
    "    Deletes the attribute specified by the given list of names.\n",
    "    For example, to delete the attribute obj.conv.weight,\n",
    "    use _del_nested_attr(obj, ['conv', 'weight'])\n",
    "    \"\"\"\n",
    "    if len(names) == 1:\n",
    "        delattr(obj, names[0])\n",
    "    else:\n",
    "        _del_nested_attr(getattr(obj, names[0]), names[1:])\n",
    "\n",
    "def _set_nested_attr(obj, names, value):\n",
    "    \"\"\"\n",
    "    Set the attribute specified by the given list of names to value.\n",
    "    For example, to set the attribute obj.conv.weight,\n",
    "    use _del_nested_attr(obj, ['conv', 'weight'], value)\n",
    "    \"\"\"\n",
    "    if len(names) == 1:\n",
    "        setattr(obj, names[0], value)\n",
    "    else:\n",
    "        _set_nested_attr(getattr(obj, names[0]), names[1:], value)\n",
    "\n",
    "def extract_weights(mod):\n",
    "    \"\"\"\n",
    "    This function removes all the Parameters from the model and\n",
    "    return them as a tuple as well as their original attribute names.\n",
    "    The weights must be re-loaded with `load_weights` before the model\n",
    "    can be used again.\n",
    "    Note that this function modifies the model in place and after this\n",
    "    call, mod.parameters() will be empty.\n",
    "    \"\"\"\n",
    "    orig_params = tuple(mod.parameters())\n",
    "    # Remove all the parameters in the model\n",
    "    names = []\n",
    "    for name, p in list(mod.named_parameters()):\n",
    "        _del_nested_attr(mod, name.split(\".\"))\n",
    "        names.append(name)\n",
    "\n",
    "    # Make params regular Tensors instead of nn.Parameter\n",
    "    params = tuple(p.detach().requires_grad_() for p in orig_params)\n",
    "    return params, names\n",
    "\n",
    "def load_weights(mod, names, params):\n",
    "    \"\"\"\n",
    "    Reload a set of weights so that `mod` can be used again to perform a forward pass.\n",
    "    Note that the `params` are regular Tensors (that can have history) and so are left\n",
    "    as Tensors. This means that mod.parameters() will still be empty after this call.\n",
    "    \"\"\"\n",
    "    for name, p in zip(names, params):\n",
    "        _set_nested_attr(mod, name.split(\".\"), p)\n",
    "        \n",
    "def calculate_NTK(model,x,device='cpu',MODE='samples'):\n",
    "    \"\"\"\n",
    "    INPUTS:\n",
    "        model: torch.nn.Module \n",
    "        x: torch.Tensor\n",
    "        device: 'cpu',\n",
    "        MODE: 'minima'\n",
    "    \n",
    "    OUTPUTS:\n",
    "        NTK: torch.Tensor\n",
    "    \n",
    "    Calculates the NTK for a model, p_dict a state dictionary, and x, a single tensor fed into the model\n",
    "    \n",
    "    The NTK is the grammian of the Jacobian of the model output to w.r.t. the weights of the model\n",
    "    \n",
    "    This function will output the NTK such that the minima matrix size is used. If the Jacobian is an NxM\n",
    "    matrix, then the NTK is formulated so that if N < M; NTK is NxN. If M<N, then NTK is MxM.\n",
    "    \n",
    "    #EXAMPLE USAGE:\n",
    "    device='cpu'\n",
    "    model = MODEL() #a torch.nn.Module object \n",
    "    model.to(device)\n",
    "    state_dict = model.state_dict()\n",
    "\n",
    "    x_test = np.ones((100,1,28,28),dtype=np.float32)\n",
    "    x_test = torch.from_numpy(x_test)\n",
    "\n",
    "    NTK = calculate_NTK(model,x_test)\n",
    "    \"\"\"\n",
    "    if not(MODE in ['minima','samples','params']):\n",
    "        raise ValueError(\"MODE must be one of 'minima','samples','params'\")\n",
    "    \n",
    "    x = x.to(device)\n",
    "    x.requires_grad=False\n",
    "    N = x.shape[0]\n",
    "    M = sum(p.numel() for p in model.parameters() if p.requires_grad)\n",
    "    \n",
    "    #We need to create a clone of the model or else we make it unusable as part of the trickery \n",
    "    #to get pytorch to do what we want. Unforutantely, this exlcludes super big models. but, eh.\n",
    "    model_clone = copy.deepcopy(model)\n",
    "    \n",
    "    params, names = extract_weights(model_clone)\n",
    "    def model_ntk(*args,model=model_clone, names=names):\n",
    "        params = tuple(args)\n",
    "        load_weights(model, names, params)\n",
    "        return model(x)\n",
    "    \n",
    "    Js = torch.autograd.functional.jacobian(model_ntk, tuple(params), create_graph=False, vectorize=True)\n",
    "    \n",
    "    Js = list(Js)\n",
    "    #Js = [element for tupl in Js for element in tupl]\n",
    "    #collapse the tensors\n",
    "    for i,tensor in enumerate(Js):\n",
    "        Js[i] = tensor.reshape(N,-1)\n",
    "    \n",
    "    J = torch.cat(Js,axis=1)\n",
    "    \n",
    "    if MODE=='minima':\n",
    "        if N < M: #if datasize points is less than number of parameters:\n",
    "            NTK = torch.matmul(J,J.T)\n",
    "\n",
    "        if N >= M:#if number of parameters is less than datasize:\n",
    "            NTK = torch.matmul(J.T,J)\n",
    "    elif MODE=='samples':\n",
    "        NTK = torch.matmul(J,J.T)\n",
    "    elif MODE=='params':\n",
    "        NTK = torch.matmul(J.T,J)\n",
    "    \n",
    "    return NTK"
   ]
  },
  {
   "cell_type": "code",
   "execution_count": 3,
   "id": "acdbfa50",
   "metadata": {},
   "outputs": [],
   "source": [
    "def relu(X,normalize=False):\n",
    "    X = F.relu(X)\n",
    "    if normalize:\n",
    "        return np.sqrt(2*np.pi/(np.pi-1))*(X-1/np.sqrt(2*np.pi))\n",
    "    else:\n",
    "        return X\n",
    "    \n",
    "\n",
    "# #Identity\n",
    "# def activation(x):\n",
    "#     return x\n",
    "\n",
    "# @njit\n",
    "# def d_activation(x):\n",
    "#     return np.ones(np.shape(x),dtype=np.float32) \n",
    "\n",
    "\n",
    "#Tanh\n",
    "def activation(x):\n",
    "    return torch.tanh(x)\n",
    "\n",
    "@njit\n",
    "def d_activation(x):\n",
    "    return np.cosh(x)**-2"
   ]
  },
  {
   "cell_type": "code",
   "execution_count": 4,
   "id": "b5bbdd75",
   "metadata": {},
   "outputs": [],
   "source": [
    "SEED = 1"
   ]
  },
  {
   "cell_type": "code",
   "execution_count": 5,
   "id": "dc0c4f53",
   "metadata": {},
   "outputs": [],
   "source": [
    "def NTK_weights(m):\n",
    "    if isinstance(m, nn.Linear):\n",
    "        print(m.weight.shape)\n",
    "        nn.init.normal_(m.weight.data)#/m.weight.shape[0]\n",
    "        if m.bias != None:\n",
    "            nn.init.normal_(m.bias.data)#/m.weight.shape[0]\n",
    "    if isinstance(m, nn.Conv2d):\n",
    "        print(m.weight.shape)\n",
    "        nn.init.normal_(m.weight.data)#/m.weight.shape[0]\n",
    "        if m.bias != None:\n",
    "            nn.init.normal_(m.bias.data)#/m.weight.shape[0]"
   ]
  },
  {
   "cell_type": "code",
   "execution_count": 42,
   "id": "0ddd4e70",
   "metadata": {},
   "outputs": [],
   "source": [
    "# Easy NTK expects one output alone\n",
    "class dumb_small(torch.nn.Module):\n",
    "    '''\n",
    "    simple network for test cases\n",
    "    \n",
    "    \n",
    "    It seems like bias vectors aren't trivially added.\n",
    "    '''\n",
    "    def __init__(self,):\n",
    "        super(dumb_small, self).__init__()\n",
    "        \n",
    "        self.d1 = torch.nn.Linear(5,256,bias=True)\n",
    "        self.d2 = torch.nn.Linear(256,256,bias=True)\n",
    "        self.d3 = torch.nn.Linear(256,256,bias=True)\n",
    "        self.d4 = torch.nn.Linear(256,1,bias=False)\n",
    "        \n",
    "    def forward(self, x_0):\n",
    "        x_1 = activation(self.d1(x_0)) / np.sqrt(256)\n",
    "        x_2 = activation(self.d2(x_1)) / np.sqrt(256)\n",
    "        x_3 = activation(self.d3(x_2)) / np.sqrt(256)\n",
    "        x_4 = self.d4(x_3)\n",
    "        return x_4"
   ]
  },
  {
   "cell_type": "code",
   "execution_count": 43,
   "id": "4b7f4757",
   "metadata": {},
   "outputs": [
    {
     "name": "stdout",
     "output_type": "stream",
     "text": [
      "torch.Size([256, 5])\n",
      "torch.Size([256, 256])\n",
      "torch.Size([256, 256])\n",
      "torch.Size([1, 256])\n"
     ]
    }
   ],
   "source": [
    "torch.manual_seed(SEED)\n",
    "random.seed(SEED)\n",
    "np.random.seed(SEED)\n",
    "device='cpu'\n",
    "\n",
    "model_small = dumb_small()\n",
    "model_small.to(device)\n",
    "model_small.apply(NTK_weights)\n",
    "\n",
    "x_test = np.random.normal(0,1,(10,5)).astype(np.float32)\n",
    "x_test = torch.from_numpy(x_test)"
   ]
  },
  {
   "cell_type": "markdown",
   "id": "800c0794",
   "metadata": {},
   "source": [
    "#### Jacobian autograd"
   ]
  },
  {
   "cell_type": "code",
   "execution_count": 44,
   "id": "1aea495f",
   "metadata": {},
   "outputs": [],
   "source": [
    "NTK_easy = calculate_NTK(model_small,x_test).detach().numpy()"
   ]
  },
  {
   "cell_type": "markdown",
   "id": "860ab7a5",
   "metadata": {},
   "source": [
    "# Compare"
   ]
  },
  {
   "cell_type": "code",
   "execution_count": 45,
   "id": "db163930",
   "metadata": {},
   "outputs": [
    {
     "name": "stdout",
     "output_type": "stream",
     "text": [
      "[[1.6082418  0.78865474 1.4226712  0.96147966 0.82881945 1.0671781\n",
      "  1.0429941  0.96164554 0.9174976  0.8706212 ]\n",
      " [0.78865474 1.5072196  0.75161815 1.131173   1.1097087  1.0987914\n",
      "  1.0313911  0.86794126 0.9297676  0.8734958 ]\n",
      " [1.4226712  0.75161815 1.6992437  0.9873619  0.8369214  1.0702881\n",
      "  1.038669   1.06961    1.001262   0.9081332 ]\n",
      " [0.96147966 1.131173   0.9873619  1.3857301  1.0011244  1.3634785\n",
      "  1.1525166  0.94906884 1.036931   0.8774627 ]\n",
      " [0.82881945 1.1097087  0.8369214  1.0011244  1.4609115  0.9590928\n",
      "  0.89021856 0.9942888  0.9264419  1.136893  ]\n",
      " [1.0671781  1.0987914  1.0702881  1.3634785  0.9590928  1.4511997\n",
      "  1.2238289  0.9317817  1.0226927  0.85774785]\n",
      " [1.0429941  1.0313911  1.038669   1.1525166  0.89021856 1.2238289\n",
      "  1.5406871  0.86796474 0.9619671  0.8749953 ]\n",
      " [0.96164554 0.86794126 1.06961    0.94906884 0.9942888  0.9317817\n",
      "  0.86796474 1.3861303  1.1500888  0.998226  ]\n",
      " [0.9174976  0.9297676  1.001262   1.036931   0.9264419  1.0226927\n",
      "  0.9619671  1.1500888  1.3249114  0.86017954]\n",
      " [0.8706212  0.8734958  0.9081332  0.8774627  1.136893   0.85774785\n",
      "  0.8749953  0.998226   0.86017954 1.3475777 ]]\n"
     ]
    }
   ],
   "source": [
    "print(NTK_easy)"
   ]
  },
  {
   "cell_type": "markdown",
   "id": "f8dad52e",
   "metadata": {},
   "source": [
    "# Can we get pytorch to give us the matrices with the correct kinds of derivative?"
   ]
  },
  {
   "cell_type": "code",
   "execution_count": 46,
   "id": "c2661e77",
   "metadata": {},
   "outputs": [],
   "source": [
    "model_small.zero_grad()\n",
    "x_4 = model_small(x_test)"
   ]
  },
  {
   "cell_type": "code",
   "execution_count": 47,
   "id": "5e1448c4",
   "metadata": {},
   "outputs": [],
   "source": [
    "#this method agrees between model layerwise and model small; meaning that the calculation is indepdent of those\n",
    "#two models. the insinuation is somehting is wrong with both my methods for calculating,--- the same thing, since\n",
    "#they agree with one another.\n",
    "\n",
    "#in the future we would iterate over layers instead of like this...\n",
    "layer_components_w1 = [] \n",
    "layer_components_w2 = []\n",
    "layer_components_w3 = []\n",
    "layer_components_w4 = []\n",
    "\n",
    "layer_components_b1 = []\n",
    "layer_components_b2 = []\n",
    "layer_components_b3 = []\n",
    "\n",
    "\n",
    "for output in x_4:\n",
    "    model_small.zero_grad()\n",
    "    \n",
    "    output.backward(retain_graph=True)\n",
    "\n",
    "    #Get the tensors\n",
    "    w4_grad = model_small.d4.weight.grad.detach().numpy()\n",
    "    w3_grad = model_small.d3.weight.grad.detach().numpy()\n",
    "    w2_grad = model_small.d2.weight.grad.detach().numpy()\n",
    "    w1_grad = model_small.d1.weight.grad.detach().numpy()\n",
    "    b1_grad = model_small.d1.bias.grad.detach().numpy()\n",
    "    b2_grad = model_small.d2.bias.grad.detach().numpy()\n",
    "    b3_grad = model_small.d3.bias.grad.detach().numpy()\n",
    "\n",
    "    #reshape and append. deep copy neccessary or else they are the same objects\n",
    "    layer_components_w1.append(w1_grad.reshape(-1).copy())\n",
    "    layer_components_w2.append(w2_grad.reshape(-1).copy())\n",
    "    layer_components_w3.append(w3_grad.reshape(-1).copy())\n",
    "    layer_components_w4.append(w4_grad.reshape(-1).copy())\n",
    "    layer_components_b1.append(b1_grad.reshape(-1).copy())\n",
    "    layer_components_b2.append(b2_grad.reshape(-1).copy())\n",
    "    layer_components_b3.append(b3_grad.reshape(-1).copy())\n"
   ]
  },
  {
   "cell_type": "code",
   "execution_count": 48,
   "id": "42b817fa",
   "metadata": {},
   "outputs": [],
   "source": [
    "layer_components_w1 = np.array(layer_components_w1)\n",
    "layer_components_w2 = np.array(layer_components_w2)\n",
    "layer_components_w3 = np.array(layer_components_w3)\n",
    "layer_components_w4 = np.array(layer_components_w4)\n",
    "\n",
    "layer_components_b1 = np.array(layer_components_b1)\n",
    "layer_components_b2 = np.array(layer_components_b2)\n",
    "layer_components_b3 = np.array(layer_components_b3)"
   ]
  },
  {
   "cell_type": "code",
   "execution_count": 49,
   "id": "0a0cc4bb",
   "metadata": {},
   "outputs": [],
   "source": [
    "autograd_NTK = layer_components_w1 @ layer_components_w1.T+\\\n",
    "    layer_components_w2 @ layer_components_w2.T+\\\n",
    "    layer_components_w3 @ layer_components_w3.T+\\\n",
    "    layer_components_w4 @ layer_components_w4.T+\\\n",
    "    layer_components_b1 @ layer_components_b1.T+\\\n",
    "    layer_components_b2 @ layer_components_b2.T+\\\n",
    "    layer_components_b3 @ layer_components_b3.T"
   ]
  },
  {
   "cell_type": "code",
   "execution_count": 50,
   "id": "96e7d15b",
   "metadata": {},
   "outputs": [
    {
     "data": {
      "text/plain": [
       "array([[1.6082417 , 0.7886546 , 1.4226713 , 0.9614797 , 0.8288195 ,\n",
       "        1.0671782 , 1.0429943 , 0.96164566, 0.91749746, 0.8706212 ],\n",
       "       [0.7886546 , 1.5072201 , 0.7516182 , 1.131173  , 1.1097085 ,\n",
       "        1.0987915 , 1.0313914 , 0.86794114, 0.9297677 , 0.8734957 ],\n",
       "       [1.4226713 , 0.7516182 , 1.6992437 , 0.9873618 , 0.8369217 ,\n",
       "        1.0702883 , 1.0386689 , 1.0696099 , 1.0012618 , 0.90813327],\n",
       "       [0.9614797 , 1.131173  , 0.9873618 , 1.38573   , 1.0011241 ,\n",
       "        1.3634782 , 1.1525165 , 0.9490689 , 1.0369308 , 0.8774627 ],\n",
       "       [0.8288195 , 1.1097085 , 0.8369217 , 1.0011241 , 1.4609115 ,\n",
       "        0.9590931 , 0.8902186 , 0.99428856, 0.9264417 , 1.136893  ],\n",
       "       [1.0671782 , 1.0987915 , 1.0702883 , 1.3634782 , 0.9590931 ,\n",
       "        1.451199  , 1.2238294 , 0.93178177, 1.0226927 , 0.8577478 ],\n",
       "       [1.0429943 , 1.0313914 , 1.0386689 , 1.1525165 , 0.8902186 ,\n",
       "        1.2238294 , 1.540687  , 0.86796474, 0.96196723, 0.87499523],\n",
       "       [0.96164566, 0.86794114, 1.0696099 , 0.9490689 , 0.99428856,\n",
       "        0.93178177, 0.86796474, 1.3861306 , 1.1500888 , 0.9982258 ],\n",
       "       [0.91749746, 0.9297677 , 1.0012618 , 1.0369308 , 0.9264417 ,\n",
       "        1.0226927 , 0.96196723, 1.1500888 , 1.3249114 , 0.8601793 ],\n",
       "       [0.8706212 , 0.8734957 , 0.90813327, 0.8774627 , 1.136893  ,\n",
       "        0.8577478 , 0.87499523, 0.9982258 , 0.8601793 , 1.3475778 ]],\n",
       "      dtype=float32)"
      ]
     },
     "execution_count": 50,
     "metadata": {},
     "output_type": "execute_result"
    }
   ],
   "source": [
    "autograd_NTK"
   ]
  },
  {
   "cell_type": "code",
   "execution_count": 51,
   "id": "0ca7037a",
   "metadata": {},
   "outputs": [
    {
     "data": {
      "text/plain": [
       "array([[1.6082418 , 0.78865474, 1.4226712 , 0.96147966, 0.82881945,\n",
       "        1.0671781 , 1.0429941 , 0.96164554, 0.9174976 , 0.8706212 ],\n",
       "       [0.78865474, 1.5072196 , 0.75161815, 1.131173  , 1.1097087 ,\n",
       "        1.0987914 , 1.0313911 , 0.86794126, 0.9297676 , 0.8734958 ],\n",
       "       [1.4226712 , 0.75161815, 1.6992437 , 0.9873619 , 0.8369214 ,\n",
       "        1.0702881 , 1.038669  , 1.06961   , 1.001262  , 0.9081332 ],\n",
       "       [0.96147966, 1.131173  , 0.9873619 , 1.3857301 , 1.0011244 ,\n",
       "        1.3634785 , 1.1525166 , 0.94906884, 1.036931  , 0.8774627 ],\n",
       "       [0.82881945, 1.1097087 , 0.8369214 , 1.0011244 , 1.4609115 ,\n",
       "        0.9590928 , 0.89021856, 0.9942888 , 0.9264419 , 1.136893  ],\n",
       "       [1.0671781 , 1.0987914 , 1.0702881 , 1.3634785 , 0.9590928 ,\n",
       "        1.4511997 , 1.2238289 , 0.9317817 , 1.0226927 , 0.85774785],\n",
       "       [1.0429941 , 1.0313911 , 1.038669  , 1.1525166 , 0.89021856,\n",
       "        1.2238289 , 1.5406871 , 0.86796474, 0.9619671 , 0.8749953 ],\n",
       "       [0.96164554, 0.86794126, 1.06961   , 0.94906884, 0.9942888 ,\n",
       "        0.9317817 , 0.86796474, 1.3861303 , 1.1500888 , 0.998226  ],\n",
       "       [0.9174976 , 0.9297676 , 1.001262  , 1.036931  , 0.9264419 ,\n",
       "        1.0226927 , 0.9619671 , 1.1500888 , 1.3249114 , 0.86017954],\n",
       "       [0.8706212 , 0.8734958 , 0.9081332 , 0.8774627 , 1.136893  ,\n",
       "        0.85774785, 0.8749953 , 0.998226  , 0.86017954, 1.3475777 ]],\n",
       "      dtype=float32)"
      ]
     },
     "execution_count": 51,
     "metadata": {},
     "output_type": "execute_result"
    }
   ],
   "source": [
    "NTK_easy"
   ]
  },
  {
   "cell_type": "code",
   "execution_count": 68,
   "id": "df19f69f",
   "metadata": {},
   "outputs": [
    {
     "data": {
      "text/plain": [
       "False"
      ]
     },
     "execution_count": 68,
     "metadata": {},
     "output_type": "execute_result"
    }
   ],
   "source": [
    "np.allclose(NTK_easy,autograd_NTK,rtol=0.000001)"
   ]
  },
  {
   "cell_type": "markdown",
   "id": "b4372016",
   "metadata": {},
   "source": [
    "# Now show for CNNs"
   ]
  },
  {
   "cell_type": "code",
   "execution_count": 78,
   "id": "aafdc6b9",
   "metadata": {},
   "outputs": [],
   "source": [
    "class small_CNN(torch.nn.Module):\n",
    "    '''\n",
    "    simple CNN to see if convolutional layers also behave this way.\n",
    "    '''\n",
    "    def __init__(self,):\n",
    "        super(small_CNN, self).__init__()\n",
    "        self.c1 = torch.nn.Conv2d(1,3,3,bias=False)\n",
    "        self.d1 = torch.nn.Linear(3*26*26,1,bias=False)\n",
    "    def forward(self, x_0):\n",
    "        x_1 = activation(self.c1(x_0)) / np.sqrt(3*3*3)\n",
    "        x_1 = x_1.view(len(x_1),-1)\n",
    "        x_2 = self.d1(x_1)\n",
    "        return x_2\n",
    "    "
   ]
  },
  {
   "cell_type": "code",
   "execution_count": 79,
   "id": "f85d81d1",
   "metadata": {},
   "outputs": [
    {
     "name": "stdout",
     "output_type": "stream",
     "text": [
      "torch.Size([3, 1, 3, 3])\n",
      "torch.Size([1, 2028])\n"
     ]
    }
   ],
   "source": [
    "torch.manual_seed(SEED)\n",
    "random.seed(SEED)\n",
    "np.random.seed(SEED)\n",
    "device='cpu'\n",
    "\n",
    "model_small = small_CNN()\n",
    "model_small.to(device)\n",
    "model_small.apply(NTK_weights)\n",
    "\n",
    "#Reset the seed and \n",
    "# torch.manual_seed(SEED)\n",
    "# random.seed(SEED)\n",
    "# np.random.seed(SEED)\n",
    "\n",
    "\n",
    "# model_layerwise = dumb_small_layerwise()\n",
    "# model_layerwise.to(device)\n",
    "# model_layerwise.apply(NTK_weights)\n",
    "\n",
    "x_test = np.random.normal(0,1,(10,1,28,28)).astype(np.float32)\n",
    "x_test = torch.from_numpy(x_test)"
   ]
  },
  {
   "cell_type": "code",
   "execution_count": 80,
   "id": "cbb4d6fe",
   "metadata": {},
   "outputs": [],
   "source": [
    "model_small.zero_grad()\n",
    "x_4 = model_small(x_test)"
   ]
  },
  {
   "cell_type": "code",
   "execution_count": 81,
   "id": "d5f0028b",
   "metadata": {},
   "outputs": [],
   "source": [
    "#this method agrees between model layerwise and model small; meaning that the calculation is indepdent of those\n",
    "#two models. the insinuation is somehting is wrong with both my methods for calculating,--- the same thing, since\n",
    "#they agree with one another.\n",
    "\n",
    "#in the future we would iterate over layers instead of like this...\n",
    "layer_components_w1 = [] #and we can make these arrays since we will know their size and slice into them\n",
    "# and we would only do this one array element at a time.\n",
    "layer_components_c1 = []\n",
    "\n",
    "\n",
    "\n",
    "for output in x_4:\n",
    "    model_small.zero_grad()\n",
    "    \n",
    "    output.backward(retain_graph=True)\n",
    "    \n",
    "    c1_grad = model_small.c1.weight.grad.detach().numpy()\n",
    "    w1_grad = model_small.d1.weight.grad.detach().numpy()\n",
    "    \n",
    "    layer_components_w1.append(w1_grad.reshape(-1).copy())\n",
    "    layer_components_c1.append(c1_grad.reshape(-1).copy())\n",
    "\n",
    "    \n",
    "layer_components_w1 = np.array(layer_components_w1)\n",
    "layer_components_c1 = np.array(layer_components_c1)\n",
    "\n",
    "autograd_NTK = layer_components_w1 @ layer_components_w1.T+\\\n",
    "    layer_components_c1 @ layer_components_c1.T"
   ]
  },
  {
   "cell_type": "code",
   "execution_count": 84,
   "id": "4aaf3957",
   "metadata": {},
   "outputs": [],
   "source": [
    "NTK_easy = calculate_NTK(model_small,x_test).detach().numpy()"
   ]
  },
  {
   "cell_type": "code",
   "execution_count": 82,
   "id": "07bf26cb",
   "metadata": {},
   "outputs": [
    {
     "data": {
      "text/plain": [
       "array([[185.849     ,   4.753747  ,  35.843     , -10.557724  ,\n",
       "        -27.003904  ,  -6.7686734 ,   4.9796295 ,  -3.574995  ,\n",
       "         60.676533  ,  18.215563  ],\n",
       "       [  4.753747  , 127.567924  , -25.370993  ,   0.65108633,\n",
       "        -18.790497  ,   4.472741  ,  11.494589  , -18.128845  ,\n",
       "          1.4599648 ,  14.607652  ],\n",
       "       [ 35.843     , -25.370993  , 162.48811   , -20.927635  ,\n",
       "        -24.948666  , -25.155651  ,  20.570183  ,  17.539974  ,\n",
       "         15.7003765 , -15.755165  ],\n",
       "       [-10.557724  ,   0.65108633, -20.927635  , 120.6505    ,\n",
       "         20.385773  ,  13.934135  , -22.998585  , -32.750645  ,\n",
       "        -16.121796  ,  25.182693  ],\n",
       "       [-27.003904  , -18.790497  , -24.948666  ,  20.385773  ,\n",
       "        213.54944   ,   0.3297494 , -58.5591    ,  -5.195174  ,\n",
       "        -37.370903  ,   5.855665  ],\n",
       "       [ -6.7686734 ,   4.472741  , -25.155651  ,  13.934135  ,\n",
       "          0.3297494 , 124.84943   , -20.54618   ,  12.445291  ,\n",
       "         45.03541   ,  11.195108  ],\n",
       "       [  4.9796295 ,  11.494589  ,  20.570183  , -22.998585  ,\n",
       "        -58.5591    , -20.54618   , 184.6416    , -47.967422  ,\n",
       "        -37.626846  , -11.427607  ],\n",
       "       [ -3.574995  , -18.128845  ,  17.539974  , -32.750645  ,\n",
       "         -5.195174  ,  12.445291  , -47.967422  , 158.14551   ,\n",
       "         30.519993  , -37.30198   ],\n",
       "       [ 60.676533  ,   1.4599648 ,  15.7003765 , -16.121796  ,\n",
       "        -37.370903  ,  45.03541   , -37.626846  ,  30.519993  ,\n",
       "        192.05496   ,  12.1163025 ],\n",
       "       [ 18.215563  ,  14.607652  , -15.755165  ,  25.182693  ,\n",
       "          5.855665  ,  11.195108  , -11.427607  , -37.30198   ,\n",
       "         12.1163025 , 128.41118   ]], dtype=float32)"
      ]
     },
     "execution_count": 82,
     "metadata": {},
     "output_type": "execute_result"
    }
   ],
   "source": [
    "autograd_NTK"
   ]
  },
  {
   "cell_type": "code",
   "execution_count": 85,
   "id": "ac949975",
   "metadata": {},
   "outputs": [
    {
     "data": {
      "text/plain": [
       "array([[185.84906   ,   4.7537465 ,  35.842987  , -10.557731  ,\n",
       "        -27.003891  ,  -6.7686663 ,   4.979627  ,  -3.5749938 ,\n",
       "         60.676544  ,  18.215565  ],\n",
       "       [  4.7537465 , 127.56792   , -25.371012  ,   0.65108544,\n",
       "        -18.790497  ,   4.472741  ,  11.494592  , -18.128847  ,\n",
       "          1.4599633 ,  14.607651  ],\n",
       "       [ 35.842987  , -25.371012  , 162.48807   , -20.927633  ,\n",
       "        -24.948662  , -25.155651  ,  20.570179  ,  17.539986  ,\n",
       "         15.700378  , -15.755162  ],\n",
       "       [-10.557731  ,   0.65108544, -20.927633  , 120.65047   ,\n",
       "         20.385775  ,  13.93413   , -22.998564  , -32.75066   ,\n",
       "        -16.121792  ,  25.182676  ],\n",
       "       [-27.003891  , -18.790497  , -24.948662  ,  20.385775  ,\n",
       "        213.54947   ,   0.3297524 , -58.559105  ,  -5.195169  ,\n",
       "        -37.37091   ,   5.8556623 ],\n",
       "       [ -6.7686663 ,   4.472741  , -25.155651  ,  13.93413   ,\n",
       "          0.3297524 , 124.84941   , -20.546185  ,  12.4452915 ,\n",
       "         45.03543   ,  11.195114  ],\n",
       "       [  4.979627  ,  11.494592  ,  20.570179  , -22.998564  ,\n",
       "        -58.559105  , -20.546185  , 184.64154   , -47.967445  ,\n",
       "        -37.62683   , -11.427608  ],\n",
       "       [ -3.5749938 , -18.128847  ,  17.539986  , -32.75066   ,\n",
       "         -5.195169  ,  12.4452915 , -47.967445  , 158.1455    ,\n",
       "         30.519997  , -37.301952  ],\n",
       "       [ 60.676544  ,   1.4599633 ,  15.700378  , -16.121792  ,\n",
       "        -37.37091   ,  45.03543   , -37.62683   ,  30.519997  ,\n",
       "        192.05484   ,  12.116306  ],\n",
       "       [ 18.215565  ,  14.607651  , -15.755162  ,  25.182676  ,\n",
       "          5.8556623 ,  11.195114  , -11.427608  , -37.301952  ,\n",
       "         12.116307  , 128.41118   ]], dtype=float32)"
      ]
     },
     "execution_count": 85,
     "metadata": {},
     "output_type": "execute_result"
    }
   ],
   "source": [
    "NTK_easy"
   ]
  },
  {
   "cell_type": "code",
   "execution_count": 94,
   "id": "4609d6bc",
   "metadata": {},
   "outputs": [
    {
     "data": {
      "text/plain": [
       "False"
      ]
     },
     "execution_count": 94,
     "metadata": {},
     "output_type": "execute_result"
    }
   ],
   "source": [
    "np.allclose(NTK_easy,autograd_NTK,rtol=0.00001)"
   ]
  },
  {
   "cell_type": "code",
   "execution_count": null,
   "id": "5162ece4",
   "metadata": {},
   "outputs": [],
   "source": []
  }
 ],
 "metadata": {
  "kernelspec": {
   "display_name": "Python 3",
   "language": "python",
   "name": "python3"
  },
  "language_info": {
   "codemirror_mode": {
    "name": "ipython",
    "version": 3
   },
   "file_extension": ".py",
   "mimetype": "text/x-python",
   "name": "python",
   "nbconvert_exporter": "python",
   "pygments_lexer": "ipython3",
   "version": "3.9.6"
  }
 },
 "nbformat": 4,
 "nbformat_minor": 5
}
