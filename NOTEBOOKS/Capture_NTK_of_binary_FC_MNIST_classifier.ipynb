{
 "cells": [
  {
   "cell_type": "code",
   "execution_count": 1,
   "id": "4380e90d",
   "metadata": {},
   "outputs": [],
   "source": [
    "import numpy as np\n",
    "import torch\n",
    "import random\n",
    "\n",
    "import matplotlib.pyplot as plt\n",
    "\n",
    "\n",
    "import torch\n",
    "from torch import nn, optim\n",
    "from torch import load\n",
    "from torch.nn import functional as F\n",
    "from torch import autograd\n",
    "\n",
    "from torchvision import datasets\n",
    "\n",
    "from torch.utils.data import TensorDataset\n",
    "from torch.utils.data import DataLoader\n",
    "\n",
    "import time\n",
    "\n",
    "import sys\n",
    "from pathlib import Path\n",
    "\n",
    "from numba import njit\n",
    "\n",
    "import os\n",
    "\n",
    "import gc"
   ]
  },
  {
   "cell_type": "code",
   "execution_count": 2,
   "id": "bd216249",
   "metadata": {},
   "outputs": [],
   "source": [
    "from easy_ntk import compute_NTK_CNN"
   ]
  },
  {
   "cell_type": "code",
   "execution_count": 3,
   "id": "02f9ea41",
   "metadata": {},
   "outputs": [],
   "source": [
    "experiment_base_path = '/rcfs/projects/task0_pmml/easy_ntk/experiments_data/12_9_binary_mnist/'\n",
    "\n",
    "d1_path = os.path.join(experiment_base_path,'d1_component')\n",
    "d2_path = os.path.join(experiment_base_path,'d2_component')\n",
    "d3_path = os.path.join(experiment_base_path,'d3_component')\n",
    "d4_path = os.path.join(experiment_base_path,'d4_component')\n",
    "\n",
    "ntk_path = os.path.join(experiment_base_path,'ntk')"
   ]
  },
  {
   "cell_type": "code",
   "execution_count": 4,
   "id": "7be8687a",
   "metadata": {},
   "outputs": [],
   "source": [
    "SEED = 0\n",
    "N_EPOCHS=1_000_000\n",
    "LR=1e-4"
   ]
  },
  {
   "cell_type": "code",
   "execution_count": 5,
   "id": "5cf0076a",
   "metadata": {},
   "outputs": [],
   "source": [
    "def activation(x):\n",
    "    return torch.tanh(x)\n",
    "\n",
    "def d_activationt(x):\n",
    "    return torch.cosh(x)**-2"
   ]
  },
  {
   "cell_type": "code",
   "execution_count": 6,
   "id": "28847a43",
   "metadata": {},
   "outputs": [],
   "source": [
    "def NTK_weights(m):\n",
    "    if isinstance(m, nn.Linear):\n",
    "        print(m.weight.shape)\n",
    "        nn.init.normal_(m.weight.data)#/m.weight.shape[0]\n",
    "        if m.bias != None:\n",
    "            nn.init.normal_(m.bias.data)#/m.weight.shape[0]\n",
    "    if isinstance(m, nn.Conv2d):\n",
    "        print(m.weight.shape)\n",
    "        nn.init.normal_(m.weight.data)#/m.weight.shape[0]\n",
    "        if m.bias != None:\n",
    "            nn.init.normal_(m.bias.data)#/m.weight.shape[0]"
   ]
  },
  {
   "cell_type": "code",
   "execution_count": 7,
   "id": "5a1ca5c4",
   "metadata": {},
   "outputs": [],
   "source": [
    "class FC(torch.nn.Module):\n",
    "    '''\n",
    "    simple network for test cases\n",
    "    \n",
    "    \n",
    "    It seems like bias vectors aren't trivially added.\n",
    "    '''\n",
    "    def __init__(self,):\n",
    "        super(FC, self).__init__()\n",
    "        #input size=(N,784)\n",
    "        self.d1 = torch.nn.Linear(784,50,bias=False)\n",
    "\n",
    "        self.d2 = torch.nn.Linear(50,50,bias=False)\n",
    "        \n",
    "        self.d3 = torch.nn.Linear(50,50,bias=False)\n",
    "        \n",
    "        self.d4 = torch.nn.Linear(50,1,bias=False)\n",
    "        \n",
    "    def forward(self, x0):\n",
    "        x1 = 1/np.sqrt(50) * activation(self.d1(x0))\n",
    "        x2 = 1/np.sqrt(50) * activation(self.d2(x1))\n",
    "        x3 = 1/np.sqrt(50) * activation(self.d3(x2))\n",
    "        x4 = self.d4(x3)\n",
    "        return x4, x3, x2, x1, x0"
   ]
  },
  {
   "cell_type": "code",
   "execution_count": 8,
   "id": "106f6d7e",
   "metadata": {},
   "outputs": [
    {
     "name": "stdout",
     "output_type": "stream",
     "text": [
      "torch.Size([50, 784])\n",
      "torch.Size([50, 50])\n",
      "torch.Size([50, 50])\n",
      "torch.Size([1, 50])\n"
     ]
    },
    {
     "data": {
      "text/plain": [
       "FC(\n",
       "  (d1): Linear(in_features=784, out_features=50, bias=False)\n",
       "  (d2): Linear(in_features=50, out_features=50, bias=False)\n",
       "  (d3): Linear(in_features=50, out_features=50, bias=False)\n",
       "  (d4): Linear(in_features=50, out_features=1, bias=False)\n",
       ")"
      ]
     },
     "execution_count": 8,
     "metadata": {},
     "output_type": "execute_result"
    }
   ],
   "source": [
    "torch.manual_seed(SEED)\n",
    "random.seed(SEED)\n",
    "np.random.seed(SEED)\n",
    "device='cuda'\n",
    "\n",
    "model = FC()\n",
    "model.to(device)\n",
    "model.apply(NTK_weights)"
   ]
  },
  {
   "cell_type": "code",
   "execution_count": 9,
   "id": "a44c578b",
   "metadata": {
    "scrolled": true
   },
   "outputs": [],
   "source": [
    "train_data = datasets.MNIST(\n",
    "    root = '/people/enge625/NOTEBOOKS/',\n",
    "    train = True,                          \n",
    "    download = False,            \n",
    ")\n",
    "\n",
    "\n",
    "test_data = datasets.MNIST(\n",
    "    root = '/people/enge625/NOTEBOOKS/', \n",
    "    train = False, \n",
    "    download=False,\n",
    ")"
   ]
  },
  {
   "cell_type": "code",
   "execution_count": 10,
   "id": "bca5ebe0",
   "metadata": {},
   "outputs": [],
   "source": [
    "train_x = train_data.data\n",
    "test_x = test_data.data\n",
    "\n",
    "train_y = train_data.targets\n",
    "test_y = test_data.targets\n",
    "\n",
    "train_mask = torch.logical_or(train_y==6,train_y==9)\n",
    "test_mask = torch.logical_or(test_y==6,test_y==9)\n",
    "\n",
    "train_x = train_x[train_mask]\n",
    "train_y = train_y[train_mask]\n",
    "\n",
    "test_x = test_x[test_mask]\n",
    "test_y = test_y[test_mask]\n",
    "\n",
    "train_x = train_x/255.0\n",
    "test_x = test_x/255.0\n",
    "\n",
    "train_y[train_y==6] = 0\n",
    "train_y[train_y==9] = 1\n",
    "\n",
    "test_y[test_y==6] = 0\n",
    "test_y[test_y==9] = 1\n",
    "\n",
    "train_x = train_x.reshape(-1,784)\n",
    "test_x = test_x.reshape(-1,784)\n",
    "\n",
    "train_y = train_y.float()\n",
    "test_y = test_y.float()\n",
    "\n",
    "mask = torch.zeros((11867),dtype=torch.bool)\n",
    "mask[:] = True\n",
    "\n",
    "train_x=train_x[mask]\n",
    "train_y=train_y[mask]\n",
    "\n",
    "train_x = train_x.to('cuda')\n",
    "train_y = train_y.to('cuda')\n",
    "#test_x = test_x.to('cuda')\n",
    "#test_y = train_y.to('cuda')\n",
    "\n",
    "#we don't need a dataloader because we will just implement vanilla gradient descent"
   ]
  },
  {
   "cell_type": "code",
   "execution_count": 11,
   "id": "a4c7c064",
   "metadata": {},
   "outputs": [],
   "source": [
    "model.d1.bias"
   ]
  },
  {
   "cell_type": "code",
   "execution_count": 12,
   "id": "b32bb63d",
   "metadata": {},
   "outputs": [],
   "source": [
    "criterion = torch.nn.BCEWithLogitsLoss()"
   ]
  },
  {
   "cell_type": "code",
   "execution_count": 13,
   "id": "4ed61820",
   "metadata": {},
   "outputs": [],
   "source": [
    "def forward(model, x_test):\n",
    "    x_4, x_3, x_2, x_1, x_0 = model(x_test)\n",
    "\n",
    "    #These need to be numpy\n",
    "    Ws = []\n",
    "    Ws.append(model.d1.weight.detach())\n",
    "    Ws.append(model.d2.weight.detach())\n",
    "    Ws.append(model.d3.weight.detach())\n",
    "    Ws.append(model.d4.weight.detach())\n",
    "\n",
    "    #Kernel Matrices, Need to be numpy\n",
    "    Ks = []\n",
    "    Ks.append(torch.tensor([0.0],dtype=torch.float32)) \n",
    "    Ks.append(torch.tensor([0.0],dtype=torch.float32))\n",
    "    Ks.append(torch.tensor([0.0],dtype=torch.float32))\n",
    "    Ks.append(torch.tensor([0.0],dtype=torch.float32))\n",
    "\n",
    "\n",
    "    Xs = [] # Xs are shape (output x #DP) ; however, typical python notation is reversed, so we take transpose here\n",
    "    Xs.append(x_0.T.detach())\n",
    "    Xs.append(x_1.T.detach())\n",
    "    Xs.append(x_2.T.detach())\n",
    "    Xs.append(x_3.T.detach())\n",
    "\n",
    "    #This is used to create arrays-- needs to be integer list to play nice with compilers\n",
    "    d_int = []\n",
    "    d_int.append(50)\n",
    "    d_int.append(50)\n",
    "    d_int.append(50)\n",
    "    d_int.append(50)\n",
    "\n",
    "    d_array = [] #this is for the NTK formulation, \n",
    "    #ds_array.append(torch.tensor([1.0],dtype=torch.float32).to(device)) #first element is a spacer, could be anything.\n",
    "\n",
    "    d_array.append(torch.tensor([50.0],dtype=torch.float32).to(device)) \n",
    "    d_array.append(torch.tensor([50.0],dtype=torch.float32).to(device)) \n",
    "    d_array.append(torch.tensor([50.0],dtype=torch.float32).to(device))\n",
    "    d_array.append(torch.tensor([50.0],dtype=torch.float32).to(device))\n",
    "    d_array.append(torch.tensor([50.0],dtype=torch.float32).to(device))\n",
    "\n",
    "    filters = []\n",
    "    filters.append(0)\n",
    "    filters.append(0)\n",
    "    filters.append(0)\n",
    "    filters.append(0)\n",
    "\n",
    "    padding = []\n",
    "    padding.append(0)\n",
    "    padding.append(0)\n",
    "    padding.append(0)\n",
    "    padding.append(0)\n",
    "\n",
    "    strides = []\n",
    "    strides.append(0)\n",
    "    strides.append(0)\n",
    "    strides.append(0)\n",
    "    strides.append(0)\n",
    "\n",
    "    layers=[model.d1,\n",
    "            model.d2,\n",
    "            model.d3,\n",
    "            model.d4,\n",
    "           ]\n",
    "    \n",
    "    #Ws Ks Xs d_int d_array strides padding layers d_activationt, device=\"cuda\"\n",
    "    return x_4[:,0], {'Ws':Ws, 'Ks':Ks, 'Xs':Xs, 'd_int':d_int, 'd_array':d_array, 'strides':strides, 'padding':padding, 'layers':layers, 'd_activationt':d_activationt, 'device':'cuda'}"
   ]
  },
  {
   "cell_type": "code",
   "execution_count": 14,
   "id": "0a57d877",
   "metadata": {},
   "outputs": [],
   "source": [
    "def visualize_spectrum(NTK_component,epoch,save_str):\n",
    "    '''\n",
    "    takes a numpy array and saves the image to save_str\n",
    "    '''\n",
    "    fig = plt.figure(figsize=(8,8))\n",
    "    plt.hist(torch.linalg.eigvalsh(NTK_component).detach().cpu().numpy(), bins=np.logspace(-14,4,100,10.0))\n",
    "    plt.xscale('log')\n",
    "    plt.xlabel('eigenvalue')\n",
    "    plt.title('{} eigenvalue spectrum: {}'.format(save_str,str(epoch).zfill(5)))\n",
    "    #plt.savefig(os.path.join(experiment_base_path,'images',save_str,str(epoch).zfill(5)+'.png'))\n",
    "    #plt.close()\n",
    "    plt.show()\n",
    "    \n",
    "def visualize_spectrum_linear(NTK_component,epoch,save_str):\n",
    "    '''\n",
    "    takes a numpy array and saves the image to save_str\n",
    "    '''\n",
    "    fig = plt.figure(figsize=(8,8))\n",
    "    plt.hist(torch.linalg.eigvalsh(NTK_component).detach().cpu().numpy(), bins=np.linspace(1e-14,1e4,100,10.0))\n",
    "    plt.xlabel('eigenvalue')\n",
    "    plt.title('{} eigenvalue spectrum: {}'.format(save_str,str(epoch).zfill(5)))\n",
    "    #plt.savefig(os.path.join(experiment_base_path,'images',save_str,str(epoch).zfill(5)+'.png'))\n",
    "    #plt.close()\n",
    "    plt.show()\n",
    "    "
   ]
  },
  {
   "cell_type": "code",
   "execution_count": 15,
   "id": "3754215b",
   "metadata": {},
   "outputs": [],
   "source": [
    "from tqdm import tqdm"
   ]
  },
  {
   "cell_type": "code",
   "execution_count": 16,
   "id": "5ec10353",
   "metadata": {},
   "outputs": [
    {
     "name": "stderr",
     "output_type": "stream",
     "text": [
      "100%|████████████████████████████████████████████████████████████████████████▉| 999999/1000000 [31:37<00:00, 527.09it/s]\n"
     ]
    }
   ],
   "source": [
    "losses=[]\n",
    "accuracies=[]\n",
    "\n",
    "step=0\n",
    "#while True:\n",
    "for step in tqdm(range(1,N_EPOCHS+1)):\n",
    "    now = time.time()\n",
    "    \n",
    "    model.zero_grad()\n",
    "    \n",
    "    output, params = forward(model, train_x)\n",
    "    \n",
    "    if step==1:\n",
    "        components_init = compute_NTK_CNN(**params)\n",
    "        #NTK_init = torch.sum(torch.stack(components),dim=0)\n",
    "        #del components[:]\n",
    "        #del components\n",
    "        #torch.cuda.empty_cache()\n",
    "    \n",
    "    loss = criterion(output,train_y)\n",
    "    loss.backward()\n",
    "    \n",
    "    losses.append(loss.item())\n",
    "        \n",
    "    \n",
    "    with torch.no_grad():\n",
    "        for name,W in model.named_parameters():\n",
    "            W-= LR * W.grad\n",
    "            \n",
    "    predictions = torch.round(torch.sigmoid(output))\n",
    "    acc = torch.sum(predictions==train_y)\n",
    "    accuracies.append(acc.detach().cpu().numpy()/len(train_y))\n",
    "\n",
    "    if (losses[-1] < 1e-5) or accuracies[-1]==1.0 or step==N_EPOCHS:\n",
    "        components_end = compute_NTK_CNN(**params)\n",
    "        #NTK_end = torch.sum(torch.stack(components),dim=0)\n",
    "        #del components[:]\n",
    "        #del components\n",
    "        #torch.cuda.empty_cache()\n",
    "        break\n",
    "    #step+=1\n",
    "    \n",
    "    "
   ]
  },
  {
   "cell_type": "code",
   "execution_count": 17,
   "id": "0da4bde1",
   "metadata": {},
   "outputs": [
    {
     "data": {
      "text/plain": [
       "1000000"
      ]
     },
     "execution_count": 17,
     "metadata": {},
     "output_type": "execute_result"
    }
   ],
   "source": [
    "step"
   ]
  },
  {
   "cell_type": "code",
   "execution_count": 18,
   "id": "61ed102b",
   "metadata": {},
   "outputs": [
    {
     "data": {
      "text/plain": [
       "0.9732872672115952"
      ]
     },
     "execution_count": 18,
     "metadata": {},
     "output_type": "execute_result"
    }
   ],
   "source": [
    "accuracies[-1]"
   ]
  },
  {
   "cell_type": "code",
   "execution_count": 19,
   "id": "8972a4e5",
   "metadata": {},
   "outputs": [],
   "source": [
    "#np.save(os.path.join(experiment_base_path,'loss'),np.array(losses))\n",
    "#np.save(os.path.join(experiment_base_path,'accuracy'),np.array(accuracies))"
   ]
  },
  {
   "cell_type": "code",
   "execution_count": 20,
   "id": "6c75c143",
   "metadata": {},
   "outputs": [
    {
     "data": {
      "image/png": "[encoded data removed]",
      "text/plain": [
       "<Figure size 432x288 with 1 Axes>"
      ]
     },
     "metadata": {
      "needs_background": "light"
     },
     "output_type": "display_data"
    },
    {
     "data": {
      "image/png": "[encoded data removed]",
      "text/plain": [
       "<Figure size 432x288 with 1 Axes>"
      ]
     },
     "metadata": {
      "needs_background": "light"
     },
     "output_type": "display_data"
    },
    {
     "name": "stdout",
     "output_type": "stream",
     "text": [
      "0.1555199921131134\n"
     ]
    }
   ],
   "source": [
    "plt.plot(losses)\n",
    "plt.title('Losses')\n",
    "plt.ylabel('Loss')\n",
    "plt.show() \n",
    "\n",
    "plt.plot(accuracies,label='train')\n",
    "plt.title('Accuracies')\n",
    "plt.xlabel('Accuracy')\n",
    "plt.ylabel('Step')\n",
    "plt.ylim(-0.01,1.01)\n",
    "plt.show()\n",
    "\n",
    "print(losses[-1])"
   ]
  },
  {
   "cell_type": "code",
   "execution_count": 21,
   "id": "8060ce2d",
   "metadata": {},
   "outputs": [
    {
     "data": {
      "image/png": "[encoded data removed]",
      "text/plain": [
       "<Figure size 576x576 with 1 Axes>"
      ]
     },
     "metadata": {
      "needs_background": "light"
     },
     "output_type": "display_data"
    }
   ],
   "source": [
    "fig = plt.figure(figsize=(8,8))\n",
    "plt.hist(torch.linalg.eigvalsh(components_init[0]).detach().cpu().numpy(), bins=np.logspace(-14,4,100,10.0),histtype='step',label='init')\n",
    "plt.hist(torch.linalg.eigvalsh(components_end[0]).detach().cpu().numpy(), bins=np.logspace(-14,4,100,10.0),histtype='step',label='end')\n",
    "plt.xscale('log')\n",
    "plt.xlabel('eigenvalue')\n",
    "plt.legend()\n",
    "plt.title('{} eigenvalue spectrum'.format('layer 4'))\n",
    "plt.show()"
   ]
  },
  {
   "cell_type": "code",
   "execution_count": 22,
   "id": "9f56c714",
   "metadata": {},
   "outputs": [
    {
     "data": {
      "image/png": "[encoded data removed]",
      "text/plain": [
       "<Figure size 576x576 with 1 Axes>"
      ]
     },
     "metadata": {
      "needs_background": "light"
     },
     "output_type": "display_data"
    }
   ],
   "source": [
    "fig = plt.figure(figsize=(8,8))\n",
    "plt.hist(torch.linalg.eigvalsh(components_init[1]).detach().cpu().numpy(), bins=np.logspace(-14,4,100,10.0),histtype='step',label='init')\n",
    "plt.hist(torch.linalg.eigvalsh(components_end[1]).detach().cpu().numpy(), bins=np.logspace(-14,4,100,10.0),histtype='step',label='end')\n",
    "plt.xscale('log')\n",
    "plt.xlabel('eigenvalue')\n",
    "plt.legend()\n",
    "plt.title('{} eigenvalue spectrum'.format('layer 3'))\n",
    "plt.show()"
   ]
  },
  {
   "cell_type": "code",
   "execution_count": 23,
   "id": "b7ee1e7a",
   "metadata": {},
   "outputs": [
    {
     "data": {
      "image/png": "[encoded data removed]",
      "text/plain": [
       "<Figure size 576x576 with 1 Axes>"
      ]
     },
     "metadata": {
      "needs_background": "light"
     },
     "output_type": "display_data"
    }
   ],
   "source": [
    "fig = plt.figure(figsize=(8,8))\n",
    "plt.hist(torch.linalg.eigvalsh(components_init[2]).detach().cpu().numpy(), bins=np.logspace(-14,4,100,10.0),histtype='step',label='init')\n",
    "plt.hist(torch.linalg.eigvalsh(components_end[2]).detach().cpu().numpy(), bins=np.logspace(-14,4,100,10.0),histtype='step',label='end')\n",
    "plt.xscale('log')\n",
    "plt.xlabel('eigenvalue')\n",
    "plt.legend()\n",
    "plt.title('{} eigenvalue spectrum'.format('layer 2'))\n",
    "plt.show()"
   ]
  },
  {
   "cell_type": "code",
   "execution_count": 24,
   "id": "58ad6419",
   "metadata": {},
   "outputs": [
    {
     "data": {
      "image/png": "[encoded data removed]",
      "text/plain": [
       "<Figure size 576x576 with 1 Axes>"
      ]
     },
     "metadata": {
      "needs_background": "light"
     },
     "output_type": "display_data"
    }
   ],
   "source": [
    "fig = plt.figure(figsize=(8,8))\n",
    "plt.hist(torch.linalg.eigvalsh(components_init[3]).detach().cpu().numpy(), bins=np.logspace(-14,4,100,10.0),histtype='step',label='init')\n",
    "plt.hist(torch.linalg.eigvalsh(components_end[3]).detach().cpu().numpy(), bins=np.logspace(-14,4,100,10.0),histtype='step',label='end')\n",
    "plt.xscale('log')\n",
    "plt.xlabel('eigenvalue')\n",
    "plt.legend()\n",
    "plt.title('{} eigenvalue spectrum'.format('layer 1'))\n",
    "plt.show()"
   ]
  },
  {
   "cell_type": "code",
   "execution_count": 25,
   "id": "a55f8e6e",
   "metadata": {},
   "outputs": [
    {
     "data": {
      "image/png": "[encoded data removed]",
      "text/plain": [
       "<Figure size 576x576 with 1 Axes>"
      ]
     },
     "metadata": {
      "needs_background": "light"
     },
     "output_type": "display_data"
    }
   ],
   "source": [
    "fig = plt.figure(figsize=(8,8))\n",
    "plt.hist(torch.linalg.eigvalsh(torch.sum(torch.stack(components_init),dim=0)).detach().cpu().numpy(), bins=np.logspace(-14,4,100,10.0),histtype='step',label='init')\n",
    "plt.hist(torch.linalg.eigvalsh(torch.sum(torch.stack(components_end),dim=0)).detach().cpu().numpy(), bins=np.logspace(-14,4,100,10.0),histtype='step',label='end')\n",
    "plt.xscale('log')\n",
    "plt.xlabel('eigenvalue')\n",
    "plt.legend()\n",
    "plt.title('{} eigenvalue spectrum'.format('NTK'))\n",
    "plt.show()"
   ]
  },
  {
   "cell_type": "code",
   "execution_count": 26,
   "id": "2d49dfcd",
   "metadata": {},
   "outputs": [
    {
     "data": {
      "text/plain": [
       "1000000"
      ]
     },
     "execution_count": 26,
     "metadata": {},
     "output_type": "execute_result"
    }
   ],
   "source": [
    "step"
   ]
  },
  {
   "cell_type": "code",
   "execution_count": 27,
   "id": "219c2dff",
   "metadata": {},
   "outputs": [
    {
     "name": "stdout",
     "output_type": "stream",
     "text": [
      "tensor(179.2429, device='cuda:0')\n"
     ]
    }
   ],
   "source": [
    "L2 = torch.sqrt(torch.sum(torch.square(torch.sum(torch.stack(components_init),dim=0) - torch.sum(torch.stack(components_end),dim=0))))\n",
    "print(L2)"
   ]
  },
  {
   "cell_type": "code",
   "execution_count": 28,
   "id": "b00e25b2",
   "metadata": {},
   "outputs": [],
   "source": [
    "np.save('./NTK_init.npy',torch.sum(torch.stack(components_init),dim=0).detach().cpu().numpy())\n",
    "np.save('./NTK_end.npy',torch.sum(torch.stack(components_end),dim=0).detach().cpu().numpy())"
   ]
  }
 ],
 "metadata": {
  "kernelspec": {
   "display_name": "Python 3 (ipykernel)",
   "language": "python",
   "name": "python3"
  },
  "language_info": {
   "codemirror_mode": {
    "name": "ipython",
    "version": 3
   },
   "file_extension": ".py",
   "mimetype": "text/x-python",
   "name": "python",
   "nbconvert_exporter": "python",
   "pygments_lexer": "ipython3",
   "version": "3.7.11"
  }
 },
 "nbformat": 4,
 "nbformat_minor": 5
}
