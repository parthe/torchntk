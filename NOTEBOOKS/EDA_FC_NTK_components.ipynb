{
 "cells": [
  {
   "cell_type": "code",
   "execution_count": 1,
   "id": "d5f855db",
   "metadata": {},
   "outputs": [],
   "source": [
    "import numpy as np\n",
    "import torch\n",
    "import random\n",
    "\n",
    "import matplotlib.pyplot as plt\n",
    "\n",
    "\n",
    "import torch\n",
    "from torch import nn, optim\n",
    "from torch import load\n",
    "from torch.nn import functional as F\n",
    "from torch import autograd\n",
    "\n",
    "from torch.utils.data import TensorDataset\n",
    "from torch.utils.data import DataLoader\n",
    "\n",
    "#from easy_ntk import calculate_NTK\n",
    "from einops import rearrange\n",
    "\n",
    "import time\n",
    "\n",
    "import sys\n",
    "from pathlib import Path\n",
    "\n",
    "from numba import njit\n",
    "from numba.typed import List"
   ]
  },
  {
   "cell_type": "code",
   "execution_count": 2,
   "id": "a9f8e541",
   "metadata": {},
   "outputs": [],
   "source": [
    "SEED = 0"
   ]
  },
  {
   "cell_type": "code",
   "execution_count": 3,
   "id": "3a654837",
   "metadata": {},
   "outputs": [],
   "source": [
    "def activation(x):\n",
    "    return torch.tanh(x)\n",
    "\n",
    "def d_activationt(x):\n",
    "    return torch.cosh(x)**-2"
   ]
  },
  {
   "cell_type": "code",
   "execution_count": 4,
   "id": "a1bffcf9",
   "metadata": {},
   "outputs": [],
   "source": [
    "def NTK_weights(m):\n",
    "    if isinstance(m, nn.Linear):\n",
    "        print(m.weight.shape)\n",
    "        nn.init.normal_(m.weight.data)#/m.weight.shape[0]\n",
    "        if m.bias != None:\n",
    "            nn.init.normal_(m.bias.data)#/m.weight.shape[0]\n",
    "    if isinstance(m, nn.Conv2d):\n",
    "        print(m.weight.shape)\n",
    "        nn.init.normal_(m.weight.data)#/m.weight.shape[0]\n",
    "        if m.bias != None:\n",
    "            nn.init.normal_(m.bias.data)#/m.weight.shape[0]"
   ]
  },
  {
   "cell_type": "code",
   "execution_count": 5,
   "id": "d5cc095b",
   "metadata": {},
   "outputs": [],
   "source": [
    "class FC(torch.nn.Module):\n",
    "    '''\n",
    "    simple network for test cases\n",
    "    \n",
    "    \n",
    "    It seems like bias vectors aren't trivially added.\n",
    "    '''\n",
    "    def __init__(self,):\n",
    "        super(FC, self).__init__()\n",
    "        #input size=(N,784)\n",
    "        self.d1 = torch.nn.Linear(784,100,bias=False)\n",
    "\n",
    "        self.d2 = torch.nn.Linear(100,100,bias=False)\n",
    "        \n",
    "        self.d3 = torch.nn.Linear(100,100,bias=False)\n",
    "        \n",
    "        self.d4 = torch.nn.Linear(100,1,bias=False)\n",
    "        \n",
    "    def forward(self, x0):\n",
    "        x1 = 1/np.sqrt(100) * activation(self.d1(x0))\n",
    "        x2 = 1/np.sqrt(100) * activation(self.d2(x1))\n",
    "        x3 = 1/np.sqrt(100) * activation(self.d3(x2))\n",
    "        x4 = self.d4(x3)\n",
    "        return x4, x3, x2, x1, x0"
   ]
  },
  {
   "cell_type": "code",
   "execution_count": 6,
   "id": "1945e434",
   "metadata": {},
   "outputs": [
    {
     "name": "stdout",
     "output_type": "stream",
     "text": [
      "torch.Size([100, 784])\n",
      "torch.Size([100, 100])\n",
      "torch.Size([100, 100])\n",
      "torch.Size([1, 100])\n",
      "torch.Size([100, 784])\n",
      "torch.Size([100, 100])\n",
      "torch.Size([100, 100])\n",
      "torch.Size([1, 100])\n"
     ]
    }
   ],
   "source": [
    "torch.manual_seed(SEED)\n",
    "random.seed(SEED)\n",
    "np.random.seed(SEED)\n",
    "device='cuda'\n",
    "\n",
    "model = FC()\n",
    "model.to(device)\n",
    "model.apply(NTK_weights)\n",
    "\n",
    "torch.manual_seed(SEED)\n",
    "random.seed(SEED)\n",
    "np.random.seed(SEED)\n",
    "\n",
    "model2 = FC()\n",
    "model2.to(device)\n",
    "model2.apply(NTK_weights)\n",
    "\n",
    "x_test = np.random.normal(0,1,(3000,784)).astype(np.float32) #n c_in, h, w\n",
    "x_test = torch.from_numpy(x_test)\n",
    "x_test = x_test.to('cuda')"
   ]
  },
  {
   "cell_type": "code",
   "execution_count": 7,
   "id": "bca262d2",
   "metadata": {},
   "outputs": [],
   "source": [
    "x_4, x_3, x_2, x_1, x_0 = model(x_test)\n",
    "\n",
    "#These need to be numpy\n",
    "Ws = []\n",
    "Ws.append(model.d1.weight.detach())\n",
    "Ws.append(model.d2.weight.detach())\n",
    "Ws.append(model.d3.weight.detach())\n",
    "Ws.append(model.d4.weight.detach())\n",
    "\n",
    "#Kernel Matrices, Need to be numpy\n",
    "Ks = []\n",
    "Ks.append(torch.tensor([0.0],dtype=torch.float32)) \n",
    "Ks.append(torch.tensor([0.0],dtype=torch.float32))\n",
    "Ks.append(torch.tensor([0.0],dtype=torch.float32))\n",
    "Ks.append(torch.tensor([0.0],dtype=torch.float32))\n",
    "\n",
    "\n",
    "Xs = [] # Xs are shape (output x #DP) ; however, typical python notation is reversed, so we take transpose here\n",
    "Xs.append(x_0.T.detach())\n",
    "Xs.append(x_1.T.detach())\n",
    "Xs.append(x_2.T.detach())\n",
    "Xs.append(x_3.T.detach())\n",
    "\n",
    "#This is used to create arrays-- needs to be integer list to play nice with compilers\n",
    "d_int = []\n",
    "d_int.append(100)\n",
    "d_int.append(100)\n",
    "d_int.append(100)\n",
    "d_int.append(100)\n",
    "\n",
    "d_array = [] #this is for the NTK formulation, \n",
    "#ds_array.append(torch.tensor([1.0],dtype=torch.float32).to(device)) #first element is a spacer, could be anything.\n",
    "\n",
    "d_array.append(torch.tensor([100.0],dtype=torch.float32).to(device)) \n",
    "d_array.append(torch.tensor([100.0],dtype=torch.float32).to(device)) \n",
    "d_array.append(torch.tensor([100.0],dtype=torch.float32).to(device))\n",
    "d_array.append(torch.tensor([100.0],dtype=torch.float32).to(device))\n",
    "d_array.append(torch.tensor([100.0],dtype=torch.float32).to(device))\n",
    "\n",
    "filters = []\n",
    "filters.append(0)\n",
    "filters.append(0)\n",
    "filters.append(0)\n",
    "filters.append(0)\n",
    "\n",
    "padding = []\n",
    "padding.append(0)\n",
    "padding.append(0)\n",
    "padding.append(0)\n",
    "padding.append(0)\n",
    "\n",
    "strides = []\n",
    "strides.append(0)\n",
    "strides.append(0)\n",
    "strides.append(0)\n",
    "strides.append(0)\n",
    "\n",
    "layers=[model.d1,\n",
    "        model.d2,\n",
    "        model.d3,\n",
    "        model.d4,\n",
    "       ]"
   ]
  },
  {
   "cell_type": "code",
   "execution_count": 8,
   "id": "78cc0ab4",
   "metadata": {},
   "outputs": [],
   "source": [
    "from easy_ntk import compute_NTK_CNN"
   ]
  },
  {
   "cell_type": "code",
   "execution_count": 9,
   "id": "3020c458",
   "metadata": {},
   "outputs": [],
   "source": [
    "components = compute_NTK_CNN(Ws, Ks, Xs, d_int, d_array, strides, padding, layers, d_activationt, device=\"cuda\",)"
   ]
  },
  {
   "cell_type": "code",
   "execution_count": 10,
   "id": "2beffae3",
   "metadata": {},
   "outputs": [],
   "source": [
    "NTK = torch.sum(torch.stack(components),dim=0).cpu().numpy()"
   ]
  },
  {
   "cell_type": "markdown",
   "id": "add6ca7b",
   "metadata": {},
   "source": [
    "# First, can we show the NTK equation is correct?"
   ]
  },
  {
   "cell_type": "code",
   "execution_count": 11,
   "id": "054c3637",
   "metadata": {},
   "outputs": [],
   "source": [
    "#in order to do that we need the initial parameters and the parameters after an update step.\n",
    "\n",
    "#Ws are the initial weights"
   ]
  },
  {
   "cell_type": "code",
   "execution_count": 12,
   "id": "d5139d8c",
   "metadata": {},
   "outputs": [],
   "source": [
    "assert torch.all(model2.d1.weight == model.d1.weight)\n",
    "assert torch.all(model2.d2.weight == model.d2.weight)\n",
    "assert torch.all(model2.d3.weight == model.d3.weight)\n",
    "assert torch.all(model2.d4.weight == model.d4.weight)"
   ]
  },
  {
   "cell_type": "code",
   "execution_count": 13,
   "id": "4354b911",
   "metadata": {},
   "outputs": [],
   "source": [
    "# so lets do an update step. lets pretend we are solving a regression problem, so we need to get the targets\n",
    "\n",
    "y_test = torch.sin(np.pi*100*torch.mean(x_test,dim=1))[:,None]"
   ]
  },
  {
   "cell_type": "code",
   "execution_count": 14,
   "id": "a58f2b14",
   "metadata": {},
   "outputs": [],
   "source": [
    "lr = 1e-2\n",
    "\n",
    "out = model(x_test)[0]\n",
    "\n",
    "out.retain_grad()\n",
    "\n",
    "loss = torch.sum((y_test - out)**2)\n",
    "\n",
    "loss.backward()\n",
    "\n",
    "with torch.no_grad():\n",
    "    for name, W in model.named_parameters():\n",
    "        W-= lr*W.grad\n",
    "\n",
    "dwc = out.grad.detach().cpu().numpy()"
   ]
  },
  {
   "cell_type": "code",
   "execution_count": 15,
   "id": "00d485ee",
   "metadata": {},
   "outputs": [],
   "source": [
    "#okay so now model has the single update, model 2 has the first update.\n",
    "#if lr is small enough, then the ntk equation holds"
   ]
  },
  {
   "cell_type": "code",
   "execution_count": 16,
   "id": "61956888",
   "metadata": {},
   "outputs": [],
   "source": [
    "leftside = (model(x_test)[0] - model2(x_test)[0]).detach().cpu().numpy()"
   ]
  },
  {
   "cell_type": "code",
   "execution_count": 17,
   "id": "be26a856",
   "metadata": {},
   "outputs": [],
   "source": [
    "rightsides = []\n",
    "for j in range(len(leftside)):\n",
    "    rightside = 0\n",
    "    for i in range(len(leftside)):\n",
    "        rightside+=NTK[j,i] * dwc[i,0]\n",
    "    rightside*= lr\n",
    "    rightsides.append(rightside)\n",
    "    \n",
    "rightside = np.array(rightsides)"
   ]
  },
  {
   "cell_type": "code",
   "execution_count": 18,
   "id": "cf55f33b",
   "metadata": {},
   "outputs": [
    {
     "data": {
      "text/plain": [
       "-1.405895449149557"
      ]
     },
     "execution_count": 18,
     "metadata": {},
     "output_type": "execute_result"
    }
   ],
   "source": [
    "rightside[0]"
   ]
  },
  {
   "cell_type": "code",
   "execution_count": 19,
   "id": "de164344",
   "metadata": {},
   "outputs": [
    {
     "data": {
      "text/plain": [
       "array([0.683164], dtype=float32)"
      ]
     },
     "execution_count": 19,
     "metadata": {},
     "output_type": "execute_result"
    }
   ],
   "source": [
    "leftside[0]"
   ]
  },
  {
   "cell_type": "code",
   "execution_count": 20,
   "id": "4ebc9490",
   "metadata": {},
   "outputs": [
    {
     "data": {
      "text/plain": [
       "411"
      ]
     },
     "execution_count": 20,
     "metadata": {},
     "output_type": "execute_result"
    }
   ],
   "source": [
    "np.sum(np.isclose(leftside,rightside, rtol=1e-3, atol=1e-100))\n",
    "\n",
    "#411  1e-2\n",
    "#1693 1e-3\n",
    "#1373 1e-4\n",
    "#1392 1e-5\n",
    "#1231 1e-6\n",
    "#918  1e-7\n",
    "#0 1e-9 (I think we hit computer precision for pytorch)"
   ]
  }
 ],
 "metadata": {
  "kernelspec": {
   "display_name": "Python 3",
   "language": "python",
   "name": "python3"
  },
  "language_info": {
   "codemirror_mode": {
    "name": "ipython",
    "version": 3
   },
   "file_extension": ".py",
   "mimetype": "text/x-python",
   "name": "python",
   "nbconvert_exporter": "python",
   "pygments_lexer": "ipython3",
   "version": "3.9.6"
  }
 },
 "nbformat": 4,
 "nbformat_minor": 5
}
