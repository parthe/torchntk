{
 "cells": [
  {
   "cell_type": "markdown",
   "id": "aceb24f1",
   "metadata": {},
   "source": [
    "# This code demonstrates that the layerwise computation is accurate in the same way that the easy ntk experiment is. We also verify that the easy_NTK gives the same answer as layerwise_NTK, lending credibility to both."
   ]
  },
  {
   "cell_type": "code",
   "execution_count": 1,
   "id": "318e76b9",
   "metadata": {},
   "outputs": [],
   "source": [
    "import numpy as np\n",
    "import torch\n",
    "import random\n",
    "\n",
    "import matplotlib.pyplot as plt\n",
    "%matplotlib inline\n",
    "\n",
    "import torch\n",
    "from torch import nn, optim\n",
    "from torch import load\n",
    "from torch.nn import functional as F\n",
    "from torch import autograd\n",
    "\n",
    "from torch.utils.data import TensorDataset\n",
    "from torch.utils.data import DataLoader\n",
    "\n",
    "#from ..easy_ntk import calculate_NTK\n",
    "#from einops import rearrange\n",
    "\n",
    "import time\n",
    "\n",
    "import sys\n",
    "from pathlib import Path\n",
    "\n",
    "from numba import njit"
   ]
  },
  {
   "cell_type": "code",
   "execution_count": 2,
   "id": "7c3a07aa",
   "metadata": {},
   "outputs": [],
   "source": [
    "import copy\n",
    "\n",
    "def _del_nested_attr(obj, names):\n",
    "    \"\"\"\n",
    "    Deletes the attribute specified by the given list of names.\n",
    "    For example, to delete the attribute obj.conv.weight,\n",
    "    use _del_nested_attr(obj, ['conv', 'weight'])\n",
    "    \"\"\"\n",
    "    if len(names) == 1:\n",
    "        delattr(obj, names[0])\n",
    "    else:\n",
    "        _del_nested_attr(getattr(obj, names[0]), names[1:])\n",
    "\n",
    "def _set_nested_attr(obj, names, value):\n",
    "    \"\"\"\n",
    "    Set the attribute specified by the given list of names to value.\n",
    "    For example, to set the attribute obj.conv.weight,\n",
    "    use _del_nested_attr(obj, ['conv', 'weight'], value)\n",
    "    \"\"\"\n",
    "    if len(names) == 1:\n",
    "        setattr(obj, names[0], value)\n",
    "    else:\n",
    "        _set_nested_attr(getattr(obj, names[0]), names[1:], value)\n",
    "\n",
    "def extract_weights(mod):\n",
    "    \"\"\"\n",
    "    This function removes all the Parameters from the model and\n",
    "    return them as a tuple as well as their original attribute names.\n",
    "    The weights must be re-loaded with `load_weights` before the model\n",
    "    can be used again.\n",
    "    Note that this function modifies the model in place and after this\n",
    "    call, mod.parameters() will be empty.\n",
    "    \"\"\"\n",
    "    orig_params = tuple(mod.parameters())\n",
    "    # Remove all the parameters in the model\n",
    "    names = []\n",
    "    for name, p in list(mod.named_parameters()):\n",
    "        _del_nested_attr(mod, name.split(\".\"))\n",
    "        names.append(name)\n",
    "\n",
    "    # Make params regular Tensors instead of nn.Parameter\n",
    "    params = tuple(p.detach().requires_grad_() for p in orig_params)\n",
    "    return params, names\n",
    "\n",
    "def load_weights(mod, names, params):\n",
    "    \"\"\"\n",
    "    Reload a set of weights so that `mod` can be used again to perform a forward pass.\n",
    "    Note that the `params` are regular Tensors (that can have history) and so are left\n",
    "    as Tensors. This means that mod.parameters() will still be empty after this call.\n",
    "    \"\"\"\n",
    "    for name, p in zip(names, params):\n",
    "        _set_nested_attr(mod, name.split(\".\"), p)\n",
    "        \n",
    "def calculate_NTK(model,x,device='cpu',MODE='samples'):\n",
    "    \"\"\"\n",
    "    INPUTS:\n",
    "        model: torch.nn.Module \n",
    "        x: torch.Tensor\n",
    "        device: 'cpu',\n",
    "        MODE: 'minima'\n",
    "    \n",
    "    OUTPUTS:\n",
    "        NTK: torch.Tensor\n",
    "    \n",
    "    Calculates the NTK for a model, p_dict a state dictionary, and x, a single tensor fed into the model\n",
    "    \n",
    "    The NTK is the grammian of the Jacobian of the model output to w.r.t. the weights of the model\n",
    "    \n",
    "    This function will output the NTK such that the minima matrix size is used. If the Jacobian is an NxM\n",
    "    matrix, then the NTK is formulated so that if N < M; NTK is NxN. If M<N, then NTK is MxM.\n",
    "    \n",
    "    #EXAMPLE USAGE:\n",
    "    device='cpu'\n",
    "    model = MODEL() #a torch.nn.Module object \n",
    "    model.to(device)\n",
    "    state_dict = model.state_dict()\n",
    "\n",
    "    x_test = np.ones((100,1,28,28),dtype=np.float32)\n",
    "    x_test = torch.from_numpy(x_test)\n",
    "\n",
    "    NTK = calculate_NTK(model,x_test)\n",
    "    \"\"\"\n",
    "    if not(MODE in ['minima','samples','params']):\n",
    "        raise ValueError(\"MODE must be one of 'minima','samples','params'\")\n",
    "    \n",
    "    x = x.to(device)\n",
    "    x.requires_grad=False\n",
    "    N = x.shape[0]\n",
    "    M = sum(p.numel() for p in model.parameters() if p.requires_grad)\n",
    "    \n",
    "    #We need to create a clone of the model or else we make it unusable as part of the trickery \n",
    "    #to get pytorch to do what we want. Unforutantely, this exlcludes super big models. but, eh.\n",
    "    model_clone = copy.deepcopy(model)\n",
    "    \n",
    "    params, names = extract_weights(model_clone)\n",
    "    def model_ntk(*args,model=model_clone, names=names):\n",
    "        params = tuple(args)\n",
    "        load_weights(model, names, params)\n",
    "        return model(x)\n",
    "    \n",
    "    Js = torch.autograd.functional.jacobian(model_ntk, tuple(params), create_graph=False, vectorize=True)\n",
    "    \n",
    "    Js = list(Js)\n",
    "    #Js = [element for tupl in Js for element in tupl]\n",
    "    #collapse the tensors\n",
    "    for i,tensor in enumerate(Js):\n",
    "        Js[i] = tensor.reshape(N,-1)\n",
    "    \n",
    "    J = torch.cat(Js,axis=1)\n",
    "    \n",
    "    if MODE=='minima':\n",
    "        if N < M: #if datasize points is less than number of parameters:\n",
    "            NTK = torch.matmul(J,J.T)\n",
    "\n",
    "        if N >= M:#if number of parameters is less than datasize:\n",
    "            NTK = torch.matmul(J.T,J)\n",
    "    elif MODE=='samples':\n",
    "        NTK = torch.matmul(J,J.T)\n",
    "    elif MODE=='params':\n",
    "        NTK = torch.matmul(J.T,J)\n",
    "    \n",
    "    return NTK"
   ]
  },
  {
   "cell_type": "code",
   "execution_count": 4,
   "id": "acdbfa50",
   "metadata": {},
   "outputs": [],
   "source": [
    "def relu(X,normalize=False):\n",
    "    X = F.relu(X)\n",
    "    if normalize:\n",
    "        return np.sqrt(2*np.pi/(np.pi-1))*(X-1/np.sqrt(2*np.pi))\n",
    "    else:\n",
    "        return X\n",
    "    \n",
    "\n",
    "#Identity\n",
    "def activation(x):\n",
    "    return x\n",
    "\n",
    "@njit\n",
    "def d_activation(x):\n",
    "    #return 1 \n",
    "    return np.ones(np.shape(x),dtype=np.float32) #this should be a differnt value...?\n",
    "    #return np.eye(np.shape(x)[0],np.shape(x)[1])\n",
    "\n",
    "#Tanh\n",
    "# def activation(x):\n",
    "#     return torch.tanh(x)\n",
    "\n",
    "#@njit\n",
    "# def d_activation(x):\n",
    "#     return np.cosh(x)**-2"
   ]
  },
  {
   "cell_type": "code",
   "execution_count": 5,
   "id": "ca370bbe",
   "metadata": {},
   "outputs": [],
   "source": [
    "input_features = 5\n",
    "hidden_layer = 128\n",
    "N_datapoints = 100"
   ]
  },
  {
   "cell_type": "code",
   "execution_count": 6,
   "id": "b5bbdd75",
   "metadata": {},
   "outputs": [],
   "source": [
    "SEED = 1"
   ]
  },
  {
   "cell_type": "code",
   "execution_count": 195,
   "id": "f5237787",
   "metadata": {},
   "outputs": [],
   "source": [
    "@njit\n",
    "def cross(X):\n",
    "    return np.dot(np.transpose(X),X)\n",
    "\n",
    "#@njit\n",
    "def compute_NTK(Ws, Xs, d_int, d_array):#L counts from 1 to number of layers.\n",
    "    '''\n",
    "    I should add some docstring\n",
    "    \n",
    "    Ws, a list of the weights as np.array type np.float32,                          [W1, W2, W3 ... W]\n",
    "    Xs, a list of the conjugate kernels as np.array type np.float32,            [X0, X1, X2, ... XL]\n",
    "    d_int, a list of the dimensionality of X_l as int64,                        [d0, d1, d2, ... dL]\n",
    "    d_array, a list of the dimensionality of X_l, as np.array type np.float 32, [d0, d1, d2, ... dL] \n",
    "    all of this is neccessary because numba doesnt like type conversion.\n",
    "    \n",
    "    outputs the NTK as a np.array of type np.float32\n",
    "    '''\n",
    "    L = len(Xs)-1 #number of layers, Xs goes from inputs to right before outputs; X_0 is the input, X_L CK\n",
    "    n = Xs[0].shape[1] #number of datapoints\n",
    "    Ds = [np.array([[0.0]],dtype=np.float32)] #holds the derivatives, first value is empty list...?; just a spacer, replace with array\n",
    "    for l in range(L):\n",
    "        Ds.append(d_activation(np.dot(Ws[l],Xs[l])))\n",
    "    KNTK = cross(Xs[L]) #this is eventually summed over\n",
    "    print(L+1,KNTK)\n",
    "    for l in range(1,L+1):\n",
    "        #we are going to construct terms that look like ( S^T S ) * (X^T X)\n",
    "        XtX = cross(Xs[l-1])\n",
    "        S = np.zeros((d_int[l],n),dtype=np.float32)\n",
    "        for i in range(n):\n",
    "            s = Ws[-1].T.reshape(-1)/np.sqrt(d_array[L])\n",
    "            for k in range(L,l-1,-1):\n",
    "                s = Ds[k][:,i]*s\n",
    "                if k > l:\n",
    "                    s = np.dot(Ws[k-1],s)/np.sqrt(d_array[k-1])\n",
    "            S[:,i] = s\n",
    "        print(l,cross(S)*XtX)\n",
    "        KNTK += cross(S) * XtX\n",
    "    return KNTK"
   ]
  },
  {
   "cell_type": "code",
   "execution_count": 196,
   "id": "dc0c4f53",
   "metadata": {},
   "outputs": [],
   "source": [
    "def NTK_weights(m):\n",
    "    if isinstance(m, nn.Linear):\n",
    "        print(m.weight.shape)\n",
    "        nn.init.normal_(m.weight.data)#/m.weight.shape[0]\n",
    "        if m.bias != None:\n",
    "            nn.init.normal_(m.bias.data)#/m.weight.shape[0]\n",
    "    if isinstance(m, nn.Conv2d):\n",
    "        print(m.weight.shape)\n",
    "        nn.init.normal_(m.weight.data)#/m.weight.shape[0]\n",
    "        if m.bias != None:\n",
    "            nn.init.normal_(m.bias.data)#/m.weight.shape[0]"
   ]
  },
  {
   "cell_type": "code",
   "execution_count": 197,
   "id": "0ddd4e70",
   "metadata": {},
   "outputs": [],
   "source": [
    "#Layerwise Needs each conjugate Kernel\n",
    "class dumb_small_layerwise(torch.nn.Module):\n",
    "    '''\n",
    "    simple network for test cases\n",
    "    '''\n",
    "    def __init__(self,):\n",
    "        super(dumb_small_layerwise, self).__init__()\n",
    "        \n",
    "        self.d1 = torch.nn.Linear(3,2,bias=False)\n",
    "        self.d2 = torch.nn.Linear(2,2,bias=False)\n",
    "        self.d3 = torch.nn.Linear(2,1,bias=False)\n",
    "        \n",
    "    def forward(self, x_0):\n",
    "        x_1 = activation(self.d1(x_0)) / np.sqrt(2)\n",
    "        x_2 = activation(self.d2(x_1)) / np.sqrt(2)\n",
    "        x_3 = activation(self.d3(x_2))\n",
    "        \n",
    "        return x_3, x_2, x_1, x_0\n",
    "    \n",
    "# Easy NTK expects one output alone\n",
    "# class dumb_small(torch.nn.Module):\n",
    "#     '''\n",
    "#     simple network for test cases\n",
    "#     '''\n",
    "#     def __init__(self,):\n",
    "#         super(dumb_small, self).__init__()\n",
    "        \n",
    "#         self.d1 = torch.nn.Linear(3,2,bias=False)\n",
    "#         self.d2 = torch.nn.Linear(2,1,bias=False)\n",
    "        \n",
    "#     def forward(self, x_0):\n",
    "#         x_1 = (self.d1(x_0)) / np.sqrt(2)\n",
    "#         x_2 = self.d2(x_1) \n",
    "        \n",
    "#         return x_2"
   ]
  },
  {
   "cell_type": "code",
   "execution_count": 198,
   "id": "4b7f4757",
   "metadata": {},
   "outputs": [
    {
     "name": "stdout",
     "output_type": "stream",
     "text": [
      "torch.Size([2, 3])\n",
      "torch.Size([1, 2])\n",
      "torch.Size([2, 3])\n",
      "torch.Size([2, 2])\n",
      "torch.Size([1, 2])\n"
     ]
    }
   ],
   "source": [
    "torch.manual_seed(SEED)\n",
    "random.seed(SEED)\n",
    "np.random.seed(SEED)\n",
    "device='cpu'\n",
    "\n",
    "model_small = dumb_small()\n",
    "model_small.to(device)\n",
    "model_small.apply(NTK_weights)\n",
    "\n",
    "#Reset the seed and \n",
    "torch.manual_seed(SEED)\n",
    "random.seed(SEED)\n",
    "np.random.seed(SEED)\n",
    "\n",
    "\n",
    "model_layerwise = dumb_small_layerwise()\n",
    "model_layerwise.to(device)\n",
    "model_layerwise.apply(NTK_weights)\n",
    "\n",
    "x_test = np.random.normal(0,1,(2,3)).astype(np.float32)\n",
    "x_test = torch.from_numpy(x_test)\n",
    "\n"
   ]
  },
  {
   "cell_type": "markdown",
   "id": "3e053b37",
   "metadata": {},
   "source": [
    "# Now compute 3 ways:\n",
    "\n",
    "#### by hand"
   ]
  },
  {
   "cell_type": "code",
   "execution_count": 199,
   "id": "d537b845",
   "metadata": {},
   "outputs": [],
   "source": [
    "# W1 = model_small.d1.weight.detach().numpy().T\n",
    "# W2 = model_small.d2.weight.detach().numpy().T\n",
    "\n",
    "# print(W1.shape)\n",
    "\n",
    "# A00 = W1[0,0] \n",
    "# A01 = W1[0,1]\n",
    "# A10 = W1[1,0] \n",
    "# A11 = W1[1,1]\n",
    "# A20 = W1[2,0]\n",
    "# A21 = W1[2,1]\n",
    "\n",
    "# B00 = W2[0,0]\n",
    "# B10 = W2[1,0]\n",
    "\n",
    "# X00 = x_test[0,0]\n",
    "# X01 = x_test[0,1]\n",
    "# X02 = x_test[0,2]\n",
    "# X10 = x_test[1,0]\n",
    "# X11 = x_test[1,1]\n",
    "# X12 = x_test[1,2]\n",
    "\n",
    "# J = np.array([[X00*B00, X01*B00, X02*B00, X00*B10, X01*B10, X02*B10, X00*A00 + X01*A10 + X02*A20, X00*A01 + X01*A11 + X02*A21],\n",
    "#               [X10*B00, X11*B00, X12*B00, X10*B10, X11*B10, X12*B10, X10*A00 + X11*A10 + X12*A20, X10*A01 + X11*A11 + X12*A21]])\n",
    "\n",
    "# J = J / np.sqrt(2) #in this 2 layer linear network, this is okay.\n",
    "\n",
    "# NTK_byhand = (J @ J.T) "
   ]
  },
  {
   "cell_type": "markdown",
   "id": "b26eaf1d",
   "metadata": {},
   "source": [
    "#### Layerwise"
   ]
  },
  {
   "cell_type": "code",
   "execution_count": 200,
   "id": "50ee09bf",
   "metadata": {},
   "outputs": [
    {
     "name": "stdout",
     "output_type": "stream",
     "text": [
      "3 [[ 0.3927115  -0.6094302 ]\n",
      " [-0.6094302   0.99327856]]\n",
      "1 [[ 0.35391566 -0.11361163]\n",
      " [-0.11361163  0.7738312 ]]\n",
      "2 [[ 0.52566415 -1.0252295 ]\n",
      " [-1.0252295   2.053475  ]]\n"
     ]
    }
   ],
   "source": [
    "x_3, x_2, x_1, x_0 = model_layerwise(x_test)\n",
    "\n",
    "Ws = []\n",
    "Ws.append(model_layerwise.d1.weight.detach().numpy().astype(np.float32))\n",
    "Ws.append(model_layerwise.d2.weight.detach().numpy().astype(np.float32))\n",
    "Ws.append(model_layerwise.d3.weight.detach().numpy().astype(np.float32))\n",
    "\n",
    "Xs = [] # Xs are shape (output x #DP) ; however, typical python notation is reversed, so we take transpose here\n",
    "Xs.append(x_0.detach().numpy().T.astype(np.float32))\n",
    "Xs.append(x_1.detach().numpy().T.astype(np.float32))\n",
    "Xs.append(x_2.detach().numpy().T.astype(np.float32))\n",
    "\n",
    "ds_int = []\n",
    "ds_int.append(3)\n",
    "ds_int.append(2)\n",
    "ds_int.append(2)\n",
    "\n",
    "ds_array = []\n",
    "ds_array.append(np.array([3.0],dtype=np.float32)) #first element is the input length\n",
    "ds_array.append(np.array([2.0],dtype=np.float32))\n",
    "ds_array.append(np.array([2.0],dtype=np.float32)) #the remaining elements are the output lengths, but omit the last output length assumed 1.\n",
    "\n",
    "NTK_layerwise = compute_NTK(Ws, Xs, ds_int, ds_array)"
   ]
  },
  {
   "cell_type": "markdown",
   "id": "800c0794",
   "metadata": {},
   "source": [
    "#### Jacobian autograd"
   ]
  },
  {
   "cell_type": "code",
   "execution_count": 143,
   "id": "1aea495f",
   "metadata": {},
   "outputs": [],
   "source": [
    "#NTK_easy = calculate_NTK(model_small,x_test)"
   ]
  },
  {
   "cell_type": "markdown",
   "id": "860ab7a5",
   "metadata": {},
   "source": [
    "# Compare"
   ]
  },
  {
   "cell_type": "code",
   "execution_count": 144,
   "id": "5a2a2fc8",
   "metadata": {},
   "outputs": [],
   "source": [
    "#print(NTK_byhand)"
   ]
  },
  {
   "cell_type": "code",
   "execution_count": 201,
   "id": "db163930",
   "metadata": {},
   "outputs": [
    {
     "name": "stdout",
     "output_type": "stream",
     "text": [
      "[[ 1.2722913 -1.7482712]\n",
      " [-1.7482712  3.8205848]]\n"
     ]
    }
   ],
   "source": [
    "print(NTK_layerwise)"
   ]
  },
  {
   "cell_type": "code",
   "execution_count": 146,
   "id": "1cbcc08d",
   "metadata": {},
   "outputs": [],
   "source": [
    "#print(NTK_easy)"
   ]
  },
  {
   "cell_type": "markdown",
   "id": "f8dad52e",
   "metadata": {},
   "source": [
    "# Can we get pytorch to give us the matrices with the correct kinds of derivative?"
   ]
  },
  {
   "cell_type": "code",
   "execution_count": 147,
   "id": "9a5c987c",
   "metadata": {},
   "outputs": [],
   "source": [
    "model_layerwise.zero_grad()"
   ]
  },
  {
   "cell_type": "code",
   "execution_count": 148,
   "id": "59cbe1d5",
   "metadata": {},
   "outputs": [],
   "source": [
    "#grad can only be called on a single element at a time. \n",
    "#I think we want to construct the s matrices which are done one column / one x-element at a time\n",
    "#then we want to multiply them in by the conjugate kernels?\n",
    "one_element = x_3[0]"
   ]
  },
  {
   "cell_type": "code",
   "execution_count": 149,
   "id": "4e9a0bcf",
   "metadata": {},
   "outputs": [],
   "source": [
    "one_element.backward()"
   ]
  },
  {
   "cell_type": "code",
   "execution_count": 150,
   "id": "bafa5af8",
   "metadata": {},
   "outputs": [],
   "source": [
    "w3_grad = model_layerwise.d3.weight.grad.detach().numpy()\n",
    "w2_grad = model_layerwise.d2.weight.grad.detach().numpy()\n",
    "w1_grad = model_layerwise.d1.weight.grad.detach().numpy()"
   ]
  },
  {
   "cell_type": "code",
   "execution_count": 151,
   "id": "6e898818",
   "metadata": {},
   "outputs": [],
   "source": [
    "w3 = model_layerwise.d3.weight.detach().numpy()\n",
    "w2 = model_layerwise.d2.weight.detach().numpy()\n",
    "w1 = model_layerwise.d1.weight.detach().numpy()"
   ]
  },
  {
   "cell_type": "markdown",
   "id": "6c0e91b7",
   "metadata": {},
   "source": [
    "# Find the CK:"
   ]
  },
  {
   "cell_type": "code",
   "execution_count": 152,
   "id": "7dab8d59",
   "metadata": {},
   "outputs": [
    {
     "data": {
      "text/plain": [
       "tensor([ 0.3747, -0.5023], grad_fn=<SelectBackward>)"
      ]
     },
     "execution_count": 152,
     "metadata": {},
     "output_type": "execute_result"
    }
   ],
   "source": [
    "x_2[0] #nice, iterating over this gives the first component of the NTK, the rows of the conjugate kernel"
   ]
  },
  {
   "cell_type": "code",
   "execution_count": 153,
   "id": "10bed462",
   "metadata": {},
   "outputs": [
    {
     "data": {
      "text/plain": [
       "array([[ 0.37473935, -0.5022767 ]], dtype=float32)"
      ]
     },
     "execution_count": 153,
     "metadata": {},
     "output_type": "execute_result"
    }
   ],
   "source": [
    "w3_grad #however, we can also just grab them from here"
   ]
  },
  {
   "cell_type": "markdown",
   "id": "c9ffbc4f",
   "metadata": {},
   "source": [
    "# Find the next terms"
   ]
  },
  {
   "cell_type": "code",
   "execution_count": null,
   "id": "ecca2d33",
   "metadata": {},
   "outputs": [],
   "source": [
    "# so you can either call backward, a number of times by "
   ]
  },
  {
   "cell_type": "code",
   "execution_count": 174,
   "id": "68c6de9f",
   "metadata": {},
   "outputs": [
    {
     "data": {
      "text/plain": [
       "0.3927115"
      ]
     },
     "execution_count": 174,
     "metadata": {},
     "output_type": "execute_result"
    }
   ],
   "source": [
    "w3_grad.reshape(-1).T @ w3_grad.reshape(-1) #matches exactly, conjugate kernel x conjugate kernel."
   ]
  },
  {
   "cell_type": "code",
   "execution_count": 175,
   "id": "af2a7e23",
   "metadata": {},
   "outputs": [
    {
     "data": {
      "text/plain": [
       "0.5256641"
      ]
     },
     "execution_count": 175,
     "metadata": {},
     "output_type": "execute_result"
    }
   ],
   "source": [
    "w2_grad.reshape(-1).T @ w2_grad.reshape(-1) #matches the third component exactly; where is the second?"
   ]
  },
  {
   "cell_type": "code",
   "execution_count": 188,
   "id": "6f60af0e",
   "metadata": {},
   "outputs": [
    {
     "data": {
      "text/plain": [
       "(6,)"
      ]
     },
     "execution_count": 188,
     "metadata": {},
     "output_type": "execute_result"
    }
   ],
   "source": [
    "w1_grad.reshape(-1,n).T.shape"
   ]
  },
  {
   "cell_type": "code",
   "execution_count": 176,
   "id": "38ee0236",
   "metadata": {},
   "outputs": [
    {
     "data": {
      "text/plain": [
       "0.074721396"
      ]
     },
     "execution_count": 176,
     "metadata": {},
     "output_type": "execute_result"
    }
   ],
   "source": [
    "w1_grad.reshape(-1).T @ w1_grad.reshape(-1) #this ought to be 0.35391566, what gives."
   ]
  },
  {
   "cell_type": "code",
   "execution_count": 157,
   "id": "df991f13",
   "metadata": {},
   "outputs": [
    {
     "data": {
      "text/plain": [
       "0.993097"
      ]
     },
     "execution_count": 157,
     "metadata": {},
     "output_type": "execute_result"
    }
   ],
   "source": [
    "w3_grad.reshape(-1).T @ w3_grad.reshape(-1) +\\\n",
    "w2_grad.reshape(-1).T @ w2_grad.reshape(-1) +\\\n",
    "w1_grad.reshape(-1).T @ w1_grad.reshape(-1)"
   ]
  },
  {
   "cell_type": "markdown",
   "id": "248a46a2",
   "metadata": {},
   "source": [
    "# verify hypothesis by increasing number of terms...\n",
    "\n",
    "### also lets us see how this fares on more than one datapoint... it'll be alot of calls to backward...\n",
    "\n",
    "### https://pytorch.org/docs/stable/generated/torch.Tensor.backward.html\n",
    "\n",
    "### note to future self, since these are partials pretty sure we can use inputs = w1 and that will make it so the gradients are computed alittle more efficiently\n",
    "\n",
    "### and if inputs does work like that, then the reallly best thing would be to find a way to get vector gradients working.\n",
    "\n",
    "\n",
    "### also note pytorch doesn't support autograd on non-scalar values, which means we are forced to call on backwards multiple times"
   ]
  },
  {
   "cell_type": "code",
   "execution_count": 220,
   "id": "5e1448c4",
   "metadata": {},
   "outputs": [
    {
     "name": "stdout",
     "output_type": "stream",
     "text": [
      "tensor([0.0987], grad_fn=<UnbindBackward>)\n",
      "[[ 0.37473935 -0.5022767 ]]\n",
      "tensor([-0.2933], grad_fn=<UnbindBackward>)\n",
      "[[-0.4067955   0.90983295]]\n"
     ]
    }
   ],
   "source": [
    "#in the future we would iterate over layers instead of like this...\n",
    "layer_components_w1 = [] #and we can make these arrays since we will know their size and slice into them\n",
    "# and we would only do this one array element at a time.\n",
    "layer_components_w2 = []\n",
    "layer_components_w3 = []\n",
    "for output in x_3:\n",
    "    model_layerwise.zero_grad()\n",
    "    output.backward(retain_graph=True)\n",
    "    print(output)\n",
    "\n",
    "    w3_grad = model_layerwise.d3.weight.grad.detach().numpy()\n",
    "    print(w3_grad)\n",
    "    w2_grad = model_layerwise.d2.weight.grad.detach().numpy()\n",
    "    w1_grad = model_layerwise.d1.weight.grad.detach().numpy()\n",
    "\n",
    "    layer_components_w1.append(w1_grad.reshape(-1).copy())\n",
    "    layer_components_w2.append(w2_grad.reshape(-1).copy())\n",
    "    layer_components_w3.append(w3_grad.reshape(-1).copy())"
   ]
  },
  {
   "cell_type": "code",
   "execution_count": 221,
   "id": "42b817fa",
   "metadata": {},
   "outputs": [],
   "source": [
    "layer_components_w1 = np.array(layer_components_w1)\n",
    "layer_components_w2 = np.array(layer_components_w2)\n",
    "layer_components_w3 = np.array(layer_components_w3)"
   ]
  },
  {
   "cell_type": "code",
   "execution_count": 222,
   "id": "3d4d39d6",
   "metadata": {},
   "outputs": [
    {
     "data": {
      "text/plain": [
       "array([[ 0.37473935, -0.5022767 ],\n",
       "       [-0.4067955 ,  0.90983295]], dtype=float32)"
      ]
     },
     "execution_count": 222,
     "metadata": {},
     "output_type": "execute_result"
    }
   ],
   "source": [
    "layer_components_w3"
   ]
  },
  {
   "cell_type": "code",
   "execution_count": 223,
   "id": "c23a232f",
   "metadata": {},
   "outputs": [
    {
     "data": {
      "text/plain": [
       "array([[ 0.37473935, -0.5022767 ],\n",
       "       [-0.4067955 ,  0.90983295]], dtype=float32)"
      ]
     },
     "execution_count": 223,
     "metadata": {},
     "output_type": "execute_result"
    }
   ],
   "source": [
    "layer_components_w3"
   ]
  },
  {
   "cell_type": "code",
   "execution_count": 224,
   "id": "06c08abe",
   "metadata": {},
   "outputs": [
    {
     "data": {
      "text/plain": [
       "array([[ 0.0747214 , -0.02398656],\n",
       "       [-0.02398656,  0.1633772 ]], dtype=float32)"
      ]
     },
     "execution_count": 224,
     "metadata": {},
     "output_type": "execute_result"
    }
   ],
   "source": [
    "layer_components_w1 @ layer_components_w1.T"
   ]
  },
  {
   "cell_type": "code",
   "execution_count": 225,
   "id": "326117d3",
   "metadata": {},
   "outputs": [
    {
     "data": {
      "text/plain": [
       "array([[ 0.5256641, -1.0252293],\n",
       "       [-1.0252293,  2.0534747]], dtype=float32)"
      ]
     },
     "execution_count": 225,
     "metadata": {},
     "output_type": "execute_result"
    }
   ],
   "source": [
    "layer_components_w2 @ layer_components_w2.T"
   ]
  },
  {
   "cell_type": "code",
   "execution_count": 226,
   "id": "e6d1c339",
   "metadata": {},
   "outputs": [
    {
     "data": {
      "text/plain": [
       "array([[ 0.3927115 , -0.6094302 ],\n",
       "       [-0.6094302 ,  0.99327856]], dtype=float32)"
      ]
     },
     "execution_count": 226,
     "metadata": {},
     "output_type": "execute_result"
    }
   ],
   "source": [
    "layer_components_w3 @ layer_components_w3.T"
   ]
  },
  {
   "cell_type": "code",
   "execution_count": null,
   "id": "0a0cc4bb",
   "metadata": {},
   "outputs": [],
   "source": [
    "3 [[ 0.3927115  -0.6094302 ] #good\n",
    " [-0.6094302   0.99327856]]\n",
    "\n",
    "1 [[ 0.35391566 -0.11361163] #wrong. very confusing.\n",
    " [-0.11361163  0.7738312 ]]\n",
    "\n",
    "2 [[ 0.52566415 -1.0252295 ] #pretty good\n",
    " [-1.0252295   2.053475  ]]"
   ]
  }
 ],
 "metadata": {
  "kernelspec": {
   "display_name": "Python 3",
   "language": "python",
   "name": "python3"
  },
  "language_info": {
   "codemirror_mode": {
    "name": "ipython",
    "version": 3
   },
   "file_extension": ".py",
   "mimetype": "text/x-python",
   "name": "python",
   "nbconvert_exporter": "python",
   "pygments_lexer": "ipython3",
   "version": "3.9.6"
  }
 },
 "nbformat": 4,
 "nbformat_minor": 5
}
