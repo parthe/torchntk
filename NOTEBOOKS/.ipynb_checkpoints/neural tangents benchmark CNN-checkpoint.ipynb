{
 "cells": [
  {
   "cell_type": "markdown",
   "id": "31c6782a",
   "metadata": {},
   "source": [
    "# Here we Benchmark the code using neural-tangents, which is a python package with tons more bells and whistles built on jax"
   ]
  },
  {
   "cell_type": "code",
   "execution_count": 1,
   "id": "b342a93f",
   "metadata": {},
   "outputs": [],
   "source": [
    "import jax.numpy as np\n",
    "\n",
    "from jax import random\n",
    "from jax.example_libraries import optimizers\n",
    "from jax import jit, grad, vmap\n",
    "\n",
    "import functools\n",
    "\n",
    "import neural_tangents as nt\n",
    "from neural_tangents import stax"
   ]
  },
  {
   "cell_type": "code",
   "execution_count": 2,
   "id": "1183f88b",
   "metadata": {},
   "outputs": [],
   "source": [
    "train_points = 100\n",
    "width = 100"
   ]
  },
  {
   "cell_type": "code",
   "execution_count": 3,
   "id": "867d3db4",
   "metadata": {},
   "outputs": [],
   "source": [
    "def ConvolutionalNetwork(depth, W_std=1.0, b_std=0.0):\n",
    "    layers = []\n",
    "    for _ in range(depth):\n",
    "        layers += [stax.Conv(width, (3, 3), strides=(1, 1), W_std=W_std, b_std=b_std, padding='SAME'), stax.Relu()]\n",
    "    layers += [stax.Flatten(), stax.Dense(1, W_std, b_std)]\n",
    "    return stax.serial(*layers)\n"
   ]
  },
  {
   "cell_type": "code",
   "execution_count": 4,
   "id": "0a534ffc",
   "metadata": {},
   "outputs": [],
   "source": [
    "init_fn, apply_fn, kernel_fn = ConvolutionalNetwork(4)\n",
    "apply_fn = jit(apply_fn)\n",
    "kernel_fn = jit(kernel_fn, static_argnums=(2,))\n"
   ]
  },
  {
   "cell_type": "code",
   "execution_count": 5,
   "id": "118ce59a",
   "metadata": {},
   "outputs": [],
   "source": [
    "key = random.PRNGKey(10)\n",
    "\n",
    "key, x_key, y_key = random.split(key, 3)\n",
    "\n",
    "train_xs = random.normal(x_key, (train_points, 1, 28, 28),)"
   ]
  },
  {
   "cell_type": "code",
   "execution_count": 6,
   "id": "765927af",
   "metadata": {},
   "outputs": [
    {
     "name": "stderr",
     "output_type": "stream",
     "text": [
      "2021-12-02 12:19:24.080674: W external/org_tensorflow/tensorflow/core/common_runtime/bfc_allocator.cc:275] Allocator (GPU_0_bfc) ran out of memory trying to allocate 10.45GiB with freed_by_count=0. The caller indicates that this is not a failure, but may mean that there could be performance gains if more memory were available.\n"
     ]
    },
    {
     "ename": "RuntimeError",
     "evalue": "RESOURCE_EXHAUSTED: Out of memory while trying to allocate 11216777216 bytes.",
     "output_type": "error",
     "traceback": [
      "\u001b[0;31m---------------------------------------------------------------------------\u001b[0m",
      "\u001b[0;31mRuntimeError\u001b[0m                              Traceback (most recent call last)",
      "\u001b[0;32m/tmp/ipykernel_25897/3229492684.py\u001b[0m in \u001b[0;36m<module>\u001b[0;34m\u001b[0m\n\u001b[0;32m----> 1\u001b[0;31m \u001b[0mntk\u001b[0m \u001b[0;34m=\u001b[0m \u001b[0mkernel_fn\u001b[0m\u001b[0;34m(\u001b[0m\u001b[0mtrain_xs\u001b[0m\u001b[0;34m,\u001b[0m \u001b[0mtrain_xs\u001b[0m\u001b[0;34m)\u001b[0m\u001b[0;34m.\u001b[0m\u001b[0mntk\u001b[0m\u001b[0;34m.\u001b[0m\u001b[0mblock_until_ready\u001b[0m\u001b[0;34m(\u001b[0m\u001b[0;34m)\u001b[0m\u001b[0;34m\u001b[0m\u001b[0;34m\u001b[0m\u001b[0m\n\u001b[0m",
      "    \u001b[0;31m[... skipping hidden 12 frame]\u001b[0m\n",
      "\u001b[0;32m~/.conda/envs/perfect/lib/python3.7/site-packages/jax/interpreters/xla.py\u001b[0m in \u001b[0;36mbackend_compile\u001b[0;34m(backend, built_c, options)\u001b[0m\n\u001b[1;32m    472\u001b[0m   \u001b[0;31m# we use a separate function call to ensure that XLA compilation appears\u001b[0m\u001b[0;34m\u001b[0m\u001b[0;34m\u001b[0m\u001b[0;34m\u001b[0m\u001b[0m\n\u001b[1;32m    473\u001b[0m   \u001b[0;31m# separately in Python profiling results\u001b[0m\u001b[0;34m\u001b[0m\u001b[0;34m\u001b[0m\u001b[0;34m\u001b[0m\u001b[0m\n\u001b[0;32m--> 474\u001b[0;31m   \u001b[0;32mreturn\u001b[0m \u001b[0mbackend\u001b[0m\u001b[0;34m.\u001b[0m\u001b[0mcompile\u001b[0m\u001b[0;34m(\u001b[0m\u001b[0mbuilt_c\u001b[0m\u001b[0;34m,\u001b[0m \u001b[0mcompile_options\u001b[0m\u001b[0;34m=\u001b[0m\u001b[0moptions\u001b[0m\u001b[0;34m)\u001b[0m\u001b[0;34m\u001b[0m\u001b[0;34m\u001b[0m\u001b[0m\n\u001b[0m\u001b[1;32m    475\u001b[0m \u001b[0;34m\u001b[0m\u001b[0m\n\u001b[1;32m    476\u001b[0m \u001b[0;34m\u001b[0m\u001b[0m\n",
      "\u001b[0;31mRuntimeError\u001b[0m: RESOURCE_EXHAUSTED: Out of memory while trying to allocate 11216777216 bytes."
     ]
    }
   ],
   "source": [
    "ntk = kernel_fn(train_xs, train_xs).ntk.block_until_ready()"
   ]
  },
  {
   "cell_type": "code",
   "execution_count": null,
   "id": "d6362c4a",
   "metadata": {},
   "outputs": [],
   "source": [
    "%%timeit\n",
    "ntk = kernel_fn(train_xs, train_xs).ntk.block_until_ready()"
   ]
  },
  {
   "cell_type": "code",
   "execution_count": null,
   "id": "2fe1cb0c",
   "metadata": {},
   "outputs": [],
   "source": [
    "ntk.shape"
   ]
  }
 ],
 "metadata": {
  "kernelspec": {
   "display_name": "Python 3",
   "language": "python",
   "name": "python3"
  },
  "language_info": {
   "codemirror_mode": {
    "name": "ipython",
    "version": 3
   },
   "file_extension": ".py",
   "mimetype": "text/x-python",
   "name": "python",
   "nbconvert_exporter": "python",
   "pygments_lexer": "ipython3",
   "version": "3.9.6"
  }
 },
 "nbformat": 4,
 "nbformat_minor": 5
}
