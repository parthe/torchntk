{
 "cells": [
  {
   "cell_type": "code",
   "execution_count": 1,
   "id": "04284129",
   "metadata": {},
   "outputs": [],
   "source": [
    "#from layerwise_ntk import compute_NTK_CNN\n",
    "import numpy as np\n",
    "import random\n",
    "\n",
    "import torch\n",
    "from torch import nn, optim\n",
    "from torch import load\n",
    "from torch.nn import functional as F\n",
    "from torch import autograd\n",
    "\n",
    "from torch.utils.data import TensorDataset\n",
    "from torch.utils.data import DataLoader\n",
    "\n",
    "import time\n",
    "\n",
    "from numba import njit"
   ]
  },
  {
   "cell_type": "code",
   "execution_count": 2,
   "id": "69d19b02",
   "metadata": {},
   "outputs": [],
   "source": [
    "from easy_ntk import calculate_NTK\n",
    "from easy_ntk import get_ntk_n"
   ]
  },
  {
   "cell_type": "code",
   "execution_count": 3,
   "id": "ddb8c12f",
   "metadata": {},
   "outputs": [],
   "source": [
    "SEED = 1\n",
    "how_many = 100\n",
    "width = 100"
   ]
  },
  {
   "cell_type": "code",
   "execution_count": 4,
   "id": "01a67172",
   "metadata": {},
   "outputs": [],
   "source": [
    "def activation(x):\n",
    "    return torch.tanh(x)\n",
    "\n",
    "def d_activationt(x):\n",
    "    return torch.cosh(x)**-2"
   ]
  },
  {
   "cell_type": "code",
   "execution_count": 5,
   "id": "1a4a912e",
   "metadata": {},
   "outputs": [],
   "source": [
    "def NTK_weights(m):\n",
    "    if isinstance(m, nn.Linear):\n",
    "        print(m.weight.shape)\n",
    "        nn.init.normal_(m.weight.data)#/m.weight.shape[0]\n",
    "        if m.bias != None:\n",
    "            nn.init.normal_(m.bias.data)#/m.weight.shape[0]\n",
    "    if isinstance(m, nn.Conv2d):\n",
    "        print(m.weight.shape)\n",
    "        nn.init.normal_(m.weight.data)#/m.weight.shape[0]\n",
    "        if m.bias != None:\n",
    "            nn.init.normal_(m.bias.data)#/m.weight.shape[0]"
   ]
  },
  {
   "cell_type": "code",
   "execution_count": 6,
   "id": "d96f4e28",
   "metadata": {},
   "outputs": [],
   "source": [
    "class dumb_small(torch.nn.Module):\n",
    "    '''\n",
    "    simple network for test cases\n",
    "    \n",
    "    \n",
    "    It seems like bias vectors aren't trivially added.\n",
    "    '''\n",
    "    def __init__(self,):\n",
    "        super(dumb_small, self).__init__()\n",
    "        \n",
    "        self.d1 = torch.nn.Linear(784,width,bias=True) #28 -> 28\n",
    "\n",
    "        self.d2 = torch.nn.Linear(width,width,bias=True) #28 -> 28\n",
    "        \n",
    "        self.d3 = torch.nn.Linear(width,width,bias=True) #28 -> 28\n",
    "        \n",
    "        self.d4 = torch.nn.Linear(width,width,bias=True) #28 -> 28\n",
    "        \n",
    "        self.d5 = torch.nn.Linear(width,1,bias=True)\n",
    "        \n",
    "    def forward(self, x_0):\n",
    "        x_1 = activation(self.d1(x_0))\n",
    "        x_2 = activation(self.d2(x_1))\n",
    "        x_3 = activation(self.d3(x_2))\n",
    "        x_4 = activation(self.d4(x_3))\n",
    "        x_5 = self.d5(x_4)\n",
    "        return x_5"
   ]
  },
  {
   "cell_type": "code",
   "execution_count": 7,
   "id": "6b211d34",
   "metadata": {},
   "outputs": [
    {
     "name": "stdout",
     "output_type": "stream",
     "text": [
      "torch.Size([100, 784])\n",
      "torch.Size([100, 100])\n",
      "torch.Size([100, 100])\n",
      "torch.Size([100, 100])\n",
      "torch.Size([1, 100])\n"
     ]
    }
   ],
   "source": [
    "torch.manual_seed(SEED)\n",
    "random.seed(SEED)\n",
    "np.random.seed(SEED)\n",
    "\n",
    "model_2 = dumb_small()\n",
    "model_2.apply(NTK_weights)\n",
    "x_test = np.random.normal(0,1,(how_many,784)).astype(np.float32) #n c_in, h, w\n",
    "x_test = torch.from_numpy(x_test)"
   ]
  },
  {
   "cell_type": "code",
   "execution_count": 8,
   "id": "28d466a2",
   "metadata": {},
   "outputs": [],
   "source": [
    "#NTK_1 = calculate_NTK(model_2, x_test)"
   ]
  },
  {
   "cell_type": "code",
   "execution_count": 9,
   "id": "6f3b8df0",
   "metadata": {},
   "outputs": [],
   "source": [
    "#%%timeit\n",
    "#calculate_NTK(model_2, x_test)"
   ]
  },
  {
   "cell_type": "markdown",
   "id": "40defa73",
   "metadata": {},
   "source": [
    "# now for an autograd method"
   ]
  },
  {
   "cell_type": "code",
   "execution_count": 10,
   "id": "adbb1446",
   "metadata": {},
   "outputs": [],
   "source": [
    "fake_targets = torch.tensor(np.ones(how_many))\n",
    "dataset = TensorDataset(x_test, fake_targets)\n",
    "xloader = DataLoader(dataset, batch_size=how_many, shuffle=False)"
   ]
  },
  {
   "cell_type": "code",
   "execution_count": 11,
   "id": "58bd91e0",
   "metadata": {},
   "outputs": [],
   "source": [
    "model_2 = model_2.to('cuda')"
   ]
  },
  {
   "cell_type": "code",
   "execution_count": null,
   "id": "07bd434d",
   "metadata": {},
   "outputs": [],
   "source": [
    "NTK_2 = get_ntk_n(xloader,model_2,device='cuda')"
   ]
  },
  {
   "cell_type": "code",
   "execution_count": null,
   "id": "d269f116",
   "metadata": {},
   "outputs": [],
   "source": [
    "now = time.time()\n",
    "get_ntk_n(xloader,model_2,device='cuda')\n",
    "time.time() - now"
   ]
  },
  {
   "cell_type": "code",
   "execution_count": null,
   "id": "a70a291a",
   "metadata": {},
   "outputs": [],
   "source": [
    "%%timeit\n",
    "get_ntk_n(xloader,model_2)"
   ]
  },
  {
   "cell_type": "markdown",
   "id": "dda38a44",
   "metadata": {},
   "source": [
    "# By the way, these are consistent with each other"
   ]
  },
  {
   "cell_type": "code",
   "execution_count": null,
   "id": "ff67602e",
   "metadata": {},
   "outputs": [],
   "source": [
    "np.allclose(NTK_1,NTK_2,1e-4)"
   ]
  }
 ],
 "metadata": {
  "kernelspec": {
   "display_name": "Python 3",
   "language": "python",
   "name": "python3"
  },
  "language_info": {
   "codemirror_mode": {
    "name": "ipython",
    "version": 3
   },
   "file_extension": ".py",
   "mimetype": "text/x-python",
   "name": "python",
   "nbconvert_exporter": "python",
   "pygments_lexer": "ipython3",
   "version": "3.9.6"
  }
 },
 "nbformat": 4,
 "nbformat_minor": 5
}
