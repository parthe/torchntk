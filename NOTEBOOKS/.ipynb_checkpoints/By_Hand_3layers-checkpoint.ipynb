{
 "cells": [
  {
   "cell_type": "markdown",
   "id": "aceb24f1",
   "metadata": {},
   "source": [
    "# This code attempts to check the validity of my jacobian layerwise method given a layer with biases. We will take the right answer as given by the 'easy' method, since it just computes straight jacobians"
   ]
  },
  {
   "cell_type": "code",
   "execution_count": 1,
   "id": "318e76b9",
   "metadata": {},
   "outputs": [],
   "source": [
    "import numpy as np\n",
    "import torch\n",
    "import random\n",
    "\n",
    "import matplotlib.pyplot as plt\n",
    "\n",
    "\n",
    "import torch\n",
    "from torch import nn, optim\n",
    "from torch import load\n",
    "from torch.nn import functional as F\n",
    "from torch import autograd\n",
    "\n",
    "from torch.utils.data import TensorDataset\n",
    "from torch.utils.data import DataLoader\n",
    "\n",
    "#from ..easy_ntk import calculate_NTK\n",
    "#from einops import rearrange\n",
    "\n",
    "import time\n",
    "\n",
    "import sys\n",
    "from pathlib import Path\n",
    "\n",
    "from numba import njit\n",
    "from numba.typed import List\n",
    "\n",
    "%matplotlib inline\n",
    "%load_ext line_profiler\n",
    "%load_ext memory_profiler"
   ]
  },
  {
   "cell_type": "code",
   "execution_count": 2,
   "id": "7c3a07aa",
   "metadata": {},
   "outputs": [],
   "source": [
    "import copy\n",
    "\n",
    "def _del_nested_attr(obj, names):\n",
    "    \"\"\"\n",
    "    Deletes the attribute specified by the given list of names.\n",
    "    For example, to delete the attribute obj.conv.weight,\n",
    "    use _del_nested_attr(obj, ['conv', 'weight'])\n",
    "    \"\"\"\n",
    "    if len(names) == 1:\n",
    "        delattr(obj, names[0])\n",
    "    else:\n",
    "        _del_nested_attr(getattr(obj, names[0]), names[1:])\n",
    "\n",
    "def _set_nested_attr(obj, names, value):\n",
    "    \"\"\"\n",
    "    Set the attribute specified by the given list of names to value.\n",
    "    For example, to set the attribute obj.conv.weight,\n",
    "    use _del_nested_attr(obj, ['conv', 'weight'], value)\n",
    "    \"\"\"\n",
    "    if len(names) == 1:\n",
    "        setattr(obj, names[0], value)\n",
    "    else:\n",
    "        _set_nested_attr(getattr(obj, names[0]), names[1:], value)\n",
    "\n",
    "def extract_weights(mod):\n",
    "    \"\"\"\n",
    "    This function removes all the Parameters from the model and\n",
    "    return them as a tuple as well as their original attribute names.\n",
    "    The weights must be re-loaded with `load_weights` before the model\n",
    "    can be used again.\n",
    "    Note that this function modifies the model in place and after this\n",
    "    call, mod.parameters() will be empty.\n",
    "    \"\"\"\n",
    "    orig_params = tuple(mod.parameters())\n",
    "    # Remove all the parameters in the model\n",
    "    names = []\n",
    "    for name, p in list(mod.named_parameters()):\n",
    "        _del_nested_attr(mod, name.split(\".\"))\n",
    "        names.append(name)\n",
    "\n",
    "    # Make params regular Tensors instead of nn.Parameter\n",
    "    params = tuple(p.detach().requires_grad_() for p in orig_params)\n",
    "    return params, names\n",
    "\n",
    "def load_weights(mod, names, params):\n",
    "    \"\"\"\n",
    "    Reload a set of weights so that `mod` can be used again to perform a forward pass.\n",
    "    Note that the `params` are regular Tensors (that can have history) and so are left\n",
    "    as Tensors. This means that mod.parameters() will still be empty after this call.\n",
    "    \"\"\"\n",
    "    for name, p in zip(names, params):\n",
    "        _set_nested_attr(mod, name.split(\".\"), p)\n",
    "        \n",
    "def calculate_NTK(model,x,device='cpu',MODE='samples'):\n",
    "    \"\"\"\n",
    "    INPUTS:\n",
    "        model: torch.nn.Module \n",
    "        x: torch.Tensor\n",
    "        device: 'cpu',\n",
    "        MODE: 'minima'\n",
    "    \n",
    "    OUTPUTS:\n",
    "        NTK: torch.Tensor\n",
    "    \n",
    "    Calculates the NTK for a model, p_dict a state dictionary, and x, a single tensor fed into the model\n",
    "    \n",
    "    The NTK is the grammian of the Jacobian of the model output to w.r.t. the weights of the model\n",
    "    \n",
    "    This function will output the NTK such that the minima matrix size is used. If the Jacobian is an NxM\n",
    "    matrix, then the NTK is formulated so that if N < M; NTK is NxN. If M<N, then NTK is MxM.\n",
    "    \n",
    "    #EXAMPLE USAGE:\n",
    "    device='cpu'\n",
    "    model = MODEL() #a torch.nn.Module object \n",
    "    model.to(device)\n",
    "    state_dict = model.state_dict()\n",
    "\n",
    "    x_test = np.ones((100,1,28,28),dtype=np.float32)\n",
    "    x_test = torch.from_numpy(x_test)\n",
    "\n",
    "    NTK = calculate_NTK(model,x_test)\n",
    "    \"\"\"\n",
    "    if not(MODE in ['minima','samples','params']):\n",
    "        raise ValueError(\"MODE must be one of 'minima','samples','params'\")\n",
    "    \n",
    "    x = x.to(device)\n",
    "    x.requires_grad=False\n",
    "    N = x.shape[0]\n",
    "    M = sum(p.numel() for p in model.parameters() if p.requires_grad)\n",
    "    \n",
    "    #We need to create a clone of the model or else we make it unusable as part of the trickery \n",
    "    #to get pytorch to do what we want. Unforutantely, this exlcludes super big models. but, eh.\n",
    "    model_clone = copy.deepcopy(model)\n",
    "    \n",
    "    params, names = extract_weights(model_clone)\n",
    "    def model_ntk(*args,model=model_clone, names=names):\n",
    "        params = tuple(args)\n",
    "        load_weights(model, names, params)\n",
    "        return model(x)\n",
    "    \n",
    "    Js = torch.autograd.functional.jacobian(model_ntk, tuple(params), create_graph=False, vectorize=True)\n",
    "    \n",
    "    Js = list(Js)\n",
    "    #Js = [element for tupl in Js for element in tupl]\n",
    "    #collapse the tensors\n",
    "    for i,tensor in enumerate(Js):\n",
    "        Js[i] = tensor.reshape(N,-1)\n",
    "    \n",
    "    J = torch.cat(Js,axis=1)\n",
    "    \n",
    "    if MODE=='minima':\n",
    "        if N < M: #if datasize points is less than number of parameters:\n",
    "            NTK = torch.matmul(J,J.T)\n",
    "\n",
    "        if N >= M:#if number of parameters is less than datasize:\n",
    "            NTK = torch.matmul(J.T,J)\n",
    "    elif MODE=='samples':\n",
    "        NTK = torch.matmul(J,J.T)\n",
    "    elif MODE=='params':\n",
    "        NTK = torch.matmul(J.T,J)\n",
    "    \n",
    "    return NTK"
   ]
  },
  {
   "cell_type": "code",
   "execution_count": 3,
   "id": "acdbfa50",
   "metadata": {},
   "outputs": [],
   "source": [
    "def relu(X,normalize=False):\n",
    "    X = F.relu(X)\n",
    "    if normalize:\n",
    "        return np.sqrt(2*np.pi/(np.pi-1))*(X-1/np.sqrt(2*np.pi))\n",
    "    else:\n",
    "        return X\n",
    "    \n",
    "\n",
    "# #Identity\n",
    "def activation(x):\n",
    "    return x\n",
    "\n",
    "@njit\n",
    "def d_activation(x):\n",
    "    return np.ones(np.shape(x),dtype=np.float32) \n",
    "\n",
    "\n",
    "# #Tanh\n",
    "# def activation(x):\n",
    "#     return torch.tanh(x)\n",
    "\n",
    "# @njit\n",
    "# def d_activation(x):\n",
    "#     return np.cosh(x)**-2"
   ]
  },
  {
   "cell_type": "code",
   "execution_count": 4,
   "id": "b5bbdd75",
   "metadata": {},
   "outputs": [],
   "source": [
    "SEED = 2"
   ]
  },
  {
   "cell_type": "code",
   "execution_count": 5,
   "id": "dc0c4f53",
   "metadata": {},
   "outputs": [],
   "source": [
    "def NTK_weights(m):\n",
    "    if isinstance(m, nn.Linear):\n",
    "        print(m.weight.shape)\n",
    "        nn.init.normal_(m.weight.data)#/m.weight.shape[0]\n",
    "        if m.bias != None:\n",
    "            nn.init.normal_(m.bias.data)#/m.weight.shape[0]\n",
    "    if isinstance(m, nn.Conv2d):\n",
    "        print(m.weight.shape)\n",
    "        nn.init.normal_(m.weight.data)#/m.weight.shape[0]\n",
    "        if m.bias != None:\n",
    "            nn.init.normal_(m.bias.data)#/m.weight.shape[0]"
   ]
  },
  {
   "cell_type": "code",
   "execution_count": 6,
   "id": "0ddd4e70",
   "metadata": {},
   "outputs": [],
   "source": [
    "# Easy NTK expects one output alone\n",
    "class dumb_small(torch.nn.Module):\n",
    "    '''\n",
    "    simple network for test cases\n",
    "    \n",
    "    \n",
    "    It seems like bias vectors aren't trivially added.\n",
    "    '''\n",
    "    def __init__(self,):\n",
    "        super(dumb_small, self).__init__()\n",
    "        \n",
    "        self.d1 = torch.nn.Linear(2,3)\n",
    "        self.d2 = torch.nn.Linear(3,3)\n",
    "        self.d3 = torch.nn.Linear(3,1)\n",
    "        \n",
    "    def forward(self, x_0):\n",
    "        x_1 = activation(self.d1(x_0))\n",
    "        x_2 = activation(self.d2(x_1))\n",
    "        x_3 = self.d3(x_2)\n",
    "        return x_3\n",
    "    \n",
    "# Easy NTK expects one output alone\n",
    "class dumb_small_layerwise(torch.nn.Module):\n",
    "    '''\n",
    "    simple network for test cases\n",
    "    \n",
    "    \n",
    "    It seems like bias vectors aren't trivially added.\n",
    "    '''\n",
    "    def __init__(self,):\n",
    "        super(dumb_small_layerwise, self).__init__()\n",
    "        \n",
    "        self.d1 = torch.nn.Linear(2,3)\n",
    "        self.d2 = torch.nn.Linear(3,3)\n",
    "        self.d3 = torch.nn.Linear(3,1)\n",
    "        \n",
    "    def forward(self, x_0):\n",
    "        x_1 = activation(self.d1(x_0))\n",
    "        x_2 = activation(self.d2(x_1))\n",
    "        x_3 = self.d3(x_2)\n",
    "        return x_3, x_2, x_1, x_0"
   ]
  },
  {
   "cell_type": "code",
   "execution_count": 7,
   "id": "4b7f4757",
   "metadata": {},
   "outputs": [
    {
     "name": "stdout",
     "output_type": "stream",
     "text": [
      "torch.Size([3, 2])\n",
      "torch.Size([3, 3])\n",
      "torch.Size([1, 3])\n",
      "torch.Size([3, 2])\n",
      "torch.Size([3, 3])\n",
      "torch.Size([1, 3])\n"
     ]
    }
   ],
   "source": [
    "torch.manual_seed(SEED)\n",
    "random.seed(SEED)\n",
    "np.random.seed(SEED)\n",
    "device='cpu'\n",
    "\n",
    "model_small = dumb_small()\n",
    "model_small.to(device)\n",
    "model_small.apply(NTK_weights)\n",
    "\n",
    "torch.manual_seed(SEED)\n",
    "random.seed(SEED)\n",
    "np.random.seed(SEED)\n",
    "device='cpu'\n",
    "\n",
    "model_layerwise = dumb_small_layerwise()\n",
    "model_layerwise.to(device)\n",
    "model_layerwise.apply(NTK_weights)\n",
    "\n",
    "x_test = np.random.normal(0,1,(3,2)).astype(np.float32)\n",
    "x_test = torch.from_numpy(x_test)"
   ]
  },
  {
   "cell_type": "code",
   "execution_count": 8,
   "id": "ebeda123",
   "metadata": {},
   "outputs": [],
   "source": [
    "assert torch.all(model_layerwise.d1.weight == model_small.d1.weight)\n",
    "assert torch.all(model_layerwise.d2.weight == model_small.d2.weight)\n",
    "assert torch.all(model_layerwise.d3.weight == model_small.d3.weight)"
   ]
  },
  {
   "cell_type": "markdown",
   "id": "800c0794",
   "metadata": {},
   "source": [
    "#### Jacobian autograd"
   ]
  },
  {
   "cell_type": "code",
   "execution_count": 9,
   "id": "1aea495f",
   "metadata": {},
   "outputs": [],
   "source": [
    "NTK_easy = calculate_NTK(model_small,x_test).detach().numpy()"
   ]
  },
  {
   "cell_type": "markdown",
   "id": "d9e28569",
   "metadata": {},
   "source": [
    "#### By Hand"
   ]
  },
  {
   "cell_type": "code",
   "execution_count": 10,
   "id": "3478a241",
   "metadata": {},
   "outputs": [
    {
     "data": {
      "text/plain": [
       "array([[ 3.973685, 15.353924, 18.65885 ],\n",
       "       [15.353924, 85.88938 , 63.837574],\n",
       "       [18.65885 , 63.837574, 90.18205 ]], dtype=float32)"
      ]
     },
     "execution_count": 10,
     "metadata": {},
     "output_type": "execute_result"
    }
   ],
   "source": [
    "A = model_small.d1.weight.detach().numpy().T\n",
    "B = model_small.d2.weight.detach().numpy().T\n",
    "C = model_small.d3.weight.detach().numpy().T\n",
    "\n",
    "A00 = A[0,0]\n",
    "A01 = A[0,1]\n",
    "A02 = A[0,2]\n",
    "A10 = A[1,0]\n",
    "A11 = A[1,1]\n",
    "A12 = A[1,2]\n",
    "\n",
    "B00 = B[0,0]\n",
    "B01 = B[0,1]\n",
    "B02 = B[0,2]\n",
    "B10 = B[1,0]\n",
    "B11 = B[1,1]\n",
    "B12 = B[1,2]\n",
    "B20 = B[2,0]\n",
    "B21 = B[2,1]\n",
    "B22 = B[2,2]\n",
    "\n",
    "C00 = C[0,0]\n",
    "C10 = C[1,0]\n",
    "C20 = C[2,0]\n",
    "\n",
    "x_test_np = x_test.numpy()\n",
    "\n",
    "X00 = x_test_np[0,0]\n",
    "X01 = x_test_np[0,1]\n",
    "X10 = x_test_np[1,0]\n",
    "X11 = x_test_np[1,1]\n",
    "X20 = x_test_np[2,0]\n",
    "X21 = x_test_np[2,1]\n",
    "\n",
    "J = [[\n",
    "    B00*(X00*A00 + X01*A10) + B10*(X00*A01+X01*A11) +B20*(X00*A02+X01*A12),\n",
    "    B01*(X00*A00 + X01*A10) + B11*(X00*A01+X01*A11) +B21*(X00*A02+X01*A12),\n",
    "    B02*(X00*A00 + X01*A10) + B12*(X00*A01+X01*A11) +B22*(X00*A02+X01*A12),\n",
    "    C00*(X00*A00+X01*A10),\n",
    "    C10*(X00*A00+X01*A10),\n",
    "    C20*(X00*A00+X01*A10),\n",
    "    C00*(X00*A01+X01*A11),\n",
    "    C10*(X00*A01+X01*A11),\n",
    "    C20*(X00*A01+X01*A11),\n",
    "    C00*(X00*A02+X01*A12),\n",
    "    C10*(X00*A02+X01*A12),\n",
    "    C20*(X00*A02+X01*A12),\n",
    "    C00*B00*X00 + C10*B01*X00 + C20*B02*X00,\n",
    "    C00*B10*X00 + C10*B11*X00 + C20*B12*X00,\n",
    "    C00*B20*X00 + C10*B21*X00 + C20*B22*X00,\n",
    "    C00*B00*X01 + C10*B01*X01 + C20*B02*X01,\n",
    "    C00*B10*X01 + C10*B11*X01 + C20*B12*X01,\n",
    "    C00*B20*X01 + C10*B21*X01 + C20*B22*X01\n",
    "    ],\n",
    "    [\n",
    "    B00*(X10*A00 + X11*A10) + B10*(X10*A01+X11*A11) +B20*(X10*A02+X11*A12),\n",
    "    B01*(X10*A00 + X11*A10) + B11*(X10*A01+X11*A11) +B21*(X10*A02+X11*A12),\n",
    "    B02*(X10*A00 + X11*A10) + B12*(X10*A01+X11*A11) +B22*(X10*A02+X11*A12),\n",
    "    C00*(X10*A00+X11*A10),\n",
    "    C10*(X10*A00+X11*A10),\n",
    "    C20*(X10*A00+X11*A10),\n",
    "    C00*(X10*A01+X11*A11),\n",
    "    C10*(X10*A01+X11*A11),\n",
    "    C20*(X10*A01+X11*A11),\n",
    "    C00*(X10*A02+X11*A12),\n",
    "    C10*(X10*A02+X11*A12),\n",
    "    C20*(X10*A02+X11*A12),\n",
    "    C00*B00*X10 + C10*B01*X10 + C20*B02*X10,\n",
    "    C00*B10*X10 + C10*B11*X10 + C20*B12*X10,\n",
    "    C00*B20*X10 + C10*B21*X10 + C20*B22*X10,\n",
    "    C00*B00*X11 + C10*B01*X11 + C20*B02*X11,\n",
    "    C00*B10*X11 + C10*B11*X11 + C20*B12*X11,\n",
    "    C00*B20*X11 + C10*B21*X11 + C20*B22*X11\n",
    "    ],\n",
    "    [\n",
    "    B00*(X20*A00 + X21*A10) + B10*(X20*A01+X21*A11) +B20*(X20*A02+X21*A12),\n",
    "    B01*(X20*A00 + X21*A10) + B11*(X20*A01+X21*A11) +B21*(X20*A02+X21*A12),\n",
    "    B02*(X20*A00 + X21*A10) + B12*(X20*A01+X21*A11) +B22*(X20*A02+X21*A12),\n",
    "    C00*(X20*A00+X21*A10),\n",
    "    C10*(X20*A00+X21*A10),\n",
    "    C20*(X20*A00+X21*A10),\n",
    "    C00*(X20*A01+X21*A11),\n",
    "    C10*(X20*A01+X21*A11),\n",
    "    C20*(X20*A01+X21*A11),\n",
    "    C00*(X20*A02+X21*A12),\n",
    "    C10*(X20*A02+X21*A12),\n",
    "    C20*(X20*A02+X21*A12),\n",
    "    C00*B00*X20 + C10*B01*X20 + C20*B02*X20,\n",
    "    C00*B10*X20 + C10*B11*X20 + C20*B12*X20,\n",
    "    C00*B20*X20 + C10*B21*X20 + C20*B22*X20,\n",
    "    C00*B00*X21 + C10*B01*X21 + C20*B02*X21,\n",
    "    C00*B10*X21 + C10*B11*X21 + C20*B12*X21,\n",
    "    C00*B20*X21 + C10*B21*X21 + C20*B22*X21\n",
    "    ]]\n",
    "\n",
    "J = np.array(J)\n",
    "\n",
    "J @ J.T"
   ]
  },
  {
   "cell_type": "code",
   "execution_count": 11,
   "id": "10a1dd5b",
   "metadata": {},
   "outputs": [
    {
     "name": "stdout",
     "output_type": "stream",
     "text": [
      "[[ 1.1859366  5.351098   5.3296876]\n",
      " [ 5.351098  48.64249   16.432072 ]\n",
      " [ 5.3296876 16.432072  26.319826 ]]\n",
      "[[ 0.9833354  3.3494906  4.7572618]\n",
      " [ 3.3494906 11.82553   16.075016 ]\n",
      " [ 4.7572618 16.075016  23.055311 ]]\n",
      "[[ 1.8044131  6.6533346  8.571902 ]\n",
      " [ 6.6533346 25.421356  31.330482 ]\n",
      " [ 8.571902  31.330482  40.806915 ]]\n"
     ]
    }
   ],
   "source": [
    "JC = [[\n",
    "    B00*(X00*A00 + X01*A10) + B10*(X00*A01+X01*A11) +B20*(X00*A02+X01*A12),\n",
    "    B01*(X00*A00 + X01*A10) + B11*(X00*A01+X01*A11) +B21*(X00*A02+X01*A12),\n",
    "    B02*(X00*A00 + X01*A10) + B12*(X00*A01+X01*A11) +B22*(X00*A02+X01*A12)\n",
    "    ],\n",
    "    [\n",
    "    B00*(X10*A00 + X11*A10) + B10*(X10*A01+X11*A11) +B20*(X10*A02+X11*A12),\n",
    "    B01*(X10*A00 + X11*A10) + B11*(X10*A01+X11*A11) +B21*(X10*A02+X11*A12),\n",
    "    B02*(X10*A00 + X11*A10) + B12*(X10*A01+X11*A11) +B22*(X10*A02+X11*A12)    \n",
    "    ],\n",
    "    [\n",
    "    B00*(X20*A00 + X21*A10) + B10*(X20*A01+X21*A11) +B20*(X20*A02+X21*A12),\n",
    "    B01*(X20*A00 + X21*A10) + B11*(X20*A01+X21*A11) +B21*(X20*A02+X21*A12),\n",
    "    B02*(X20*A00 + X21*A10) + B12*(X20*A01+X21*A11) +B22*(X20*A02+X21*A12)    \n",
    "    ]]\n",
    "\n",
    "JB = [[\n",
    "    C00*(X00*A00+X01*A10),\n",
    "    C10*(X00*A00+X01*A10),\n",
    "    C20*(X00*A00+X01*A10),\n",
    "    C00*(X00*A01+X01*A11),\n",
    "    C10*(X00*A01+X01*A11),\n",
    "    C20*(X00*A01+X01*A11),\n",
    "    C00*(X00*A02+X01*A12),\n",
    "    C10*(X00*A02+X01*A12),\n",
    "    C20*(X00*A02+X01*A12)\n",
    "    ],\n",
    "    [\n",
    "    C00*(X10*A00+X11*A10),\n",
    "    C10*(X10*A00+X11*A10),\n",
    "    C20*(X10*A00+X11*A10),\n",
    "    C00*(X10*A01+X11*A11),\n",
    "    C10*(X10*A01+X11*A11),\n",
    "    C20*(X10*A01+X11*A11),\n",
    "    C00*(X10*A02+X11*A12),\n",
    "    C10*(X10*A02+X11*A12),\n",
    "    C20*(X10*A02+X11*A12)    \n",
    "    ],\n",
    "    [\n",
    "    C00*(X20*A00+X21*A10),\n",
    "    C10*(X20*A00+X21*A10),\n",
    "    C20*(X20*A00+X21*A10),\n",
    "    C00*(X20*A01+X21*A11),\n",
    "    C10*(X20*A01+X21*A11),\n",
    "    C20*(X20*A01+X21*A11),\n",
    "    C00*(X20*A02+X21*A12),\n",
    "    C10*(X20*A02+X21*A12),\n",
    "    C20*(X20*A02+X21*A12)   \n",
    "    ]]\n",
    "\n",
    "JA = [[\n",
    "    C00*B00*X00 + C10*B01*X00 + C20*B02*X00,\n",
    "    C00*B10*X00 + C10*B11*X00 + C20*B12*X00,\n",
    "    C00*B20*X00 + C10*B21*X00 + C20*B22*X00,\n",
    "    C00*B00*X01 + C10*B01*X01 + C20*B02*X01,\n",
    "    C00*B10*X01 + C10*B11*X01 + C20*B12*X01,\n",
    "    C00*B20*X01 + C10*B21*X01 + C20*B22*X01\n",
    "    ],\n",
    "    [\n",
    "    C00*B00*X10 + C10*B01*X10 + C20*B02*X10,\n",
    "    C00*B10*X10 + C10*B11*X10 + C20*B12*X10,\n",
    "    C00*B20*X10 + C10*B21*X10 + C20*B22*X10,\n",
    "    C00*B00*X11 + C10*B01*X11 + C20*B02*X11,\n",
    "    C00*B10*X11 + C10*B11*X11 + C20*B12*X11,\n",
    "    C00*B20*X11 + C10*B21*X11 + C20*B22*X11    \n",
    "    ],\n",
    "    [\n",
    "    C00*B00*X20 + C10*B01*X20 + C20*B02*X20,\n",
    "    C00*B10*X20 + C10*B11*X20 + C20*B12*X20,\n",
    "    C00*B20*X20 + C10*B21*X20 + C20*B22*X20,\n",
    "    C00*B00*X21 + C10*B01*X21 + C20*B02*X21,\n",
    "    C00*B10*X21 + C10*B11*X21 + C20*B12*X21,\n",
    "    C00*B20*X21 + C10*B21*X21 + C20*B22*X21    \n",
    "    ]]\n",
    "\n",
    "JA = np.array(JA)\n",
    "\n",
    "JB = np.array(JB)\n",
    "\n",
    "JC = np.array(JC)\n",
    "\n",
    "print(JA @ JA.T)\n",
    "print(JB @ JB.T)\n",
    "print(JC @ JC.T)"
   ]
  },
  {
   "cell_type": "markdown",
   "id": "f8dad52e",
   "metadata": {},
   "source": [
    "# Can we get pytorch to give us the matrices with the correct kinds of derivative?"
   ]
  },
  {
   "cell_type": "code",
   "execution_count": 12,
   "id": "c2661e77",
   "metadata": {},
   "outputs": [],
   "source": [
    "model_small.zero_grad()\n",
    "x_4 = model_small(x_test)"
   ]
  },
  {
   "cell_type": "code",
   "execution_count": 13,
   "id": "5e1448c4",
   "metadata": {},
   "outputs": [],
   "source": [
    "#this method agrees between model layerwise and model small; meaning that the calculation is indepdent of those\n",
    "#two models. the insinuation is somehting is wrong with both my methods for calculating,--- the same thing, since\n",
    "#they agree with one another.\n",
    "\n",
    "#in the future we would iterate over layers instead of like this...\n",
    "layer_components_w1 = [] \n",
    "layer_components_w2 = []\n",
    "layer_components_w3 = []\n",
    "\n",
    "\n",
    "\n",
    "for output in x_4:\n",
    "    model_small.zero_grad()\n",
    "    \n",
    "    output.backward(retain_graph=True)\n",
    "\n",
    "    #Get the tensors\n",
    "\n",
    "    w3_grad = model_small.d3.weight.grad.detach().numpy()\n",
    "    w2_grad = model_small.d2.weight.grad.detach().numpy()\n",
    "    w1_grad = model_small.d1.weight.grad.detach().numpy()\n",
    "\n",
    "\n",
    "    #reshape and append. deep copy neccessary or else they are the same objects\n",
    "    layer_components_w1.append(w1_grad.reshape(-1).copy())\n",
    "    layer_components_w2.append(w2_grad.reshape(-1).copy())\n",
    "    layer_components_w3.append(w3_grad.reshape(-1).copy())\n"
   ]
  },
  {
   "cell_type": "code",
   "execution_count": 14,
   "id": "42b817fa",
   "metadata": {},
   "outputs": [],
   "source": [
    "layer_components_w1 = np.array(layer_components_w1)\n",
    "layer_components_w2 = np.array(layer_components_w2)\n",
    "layer_components_w3 = np.array(layer_components_w3)"
   ]
  },
  {
   "cell_type": "code",
   "execution_count": 15,
   "id": "0a0cc4bb",
   "metadata": {},
   "outputs": [],
   "source": [
    "autograd_NTK = layer_components_w1 @ layer_components_w1.T+\\\n",
    "    layer_components_w2 @ layer_components_w2.T+\\\n",
    "    layer_components_w3 @ layer_components_w3.T"
   ]
  },
  {
   "cell_type": "markdown",
   "id": "7983c695",
   "metadata": {},
   "source": [
    "# Layerwise exact"
   ]
  },
  {
   "cell_type": "code",
   "execution_count": 23,
   "id": "0782d11e",
   "metadata": {},
   "outputs": [],
   "source": [
    "@njit #no parallel transformation available ;#fasterer\n",
    "def cross(X):\n",
    "    return X.T.dot(X)\n",
    "\n",
    "def compute_NTK_new(Ws, Xs, d_int, d_array):\n",
    "    L = len(Xs)-1 #number of layers, Xs goes from inputs to right before outputs; X_0 is the input, X_L CK\n",
    "    components = []\n",
    "    n = Xs[0].shape[1] #number of datapoints\n",
    "\n",
    "    #holds the derivatives, first value is empty list...?; just a spacer, replace with array\n",
    "    Ds = [np.array([[0.0]],dtype=np.float32)] \n",
    "    for l in range(L):\n",
    "        Ds.append(d_activation(np.dot(Ws[l],Xs[l])))\n",
    "    #The first term is just conjugate kernel\n",
    "    KNTK = cross(Xs[L])\n",
    "    components.append(cross(Xs[L]))\n",
    "    ####################\n",
    "    for l in range(1,L+1):#l counts layers going forward from 1...\n",
    "        #we are going to construct terms that look like ( S^T S ) * (X^T X)\n",
    "        XtX = cross(Xs[l-1])\n",
    "        S = np.expand_dims(Ws[-1].T.reshape(-1)/np.sqrt(d_array[L]),axis=1) #has shape input to last layer.\n",
    "        for k in range(L,l-1,-1): #counts backwards from l\n",
    "            S = Ds[k]*S\n",
    "            if k > l:\n",
    "                #Whenever we enter this, we pick up a scalar error on the component\n",
    "                #though the source may not neccessarily be here.\n",
    "                S = np.dot(S.T,Ws[k-1]).T/np.sqrt(d_array[k-1])\n",
    "        components.append(cross(S) * XtX)\n",
    "        KNTK += cross(S) * XtX\n",
    "    return KNTK, components\n",
    "\n",
    "# def compute_NTK(Ws, Xs, d_int, d_array):#L counts from 1 to number of layers.\n",
    "#     '''\n",
    "#     I should add some docstring\n",
    "    \n",
    "#     Ws, a list of the weights as np.array type np.float32,                          [W1, W2, W3 ... W]\n",
    "#     Xs, a list of the conjugate kernels as np.array type np.float32,            [X0, X1, X2, ... XL]\n",
    "#     d_int, a list of the dimensionality of X_l as int64,                        [d0, d1, d2, ... dL]\n",
    "#     d_array, a list of the dimensionality of X_l, as np.array type np.float 32, [d0, d1, d2, ... dL] \n",
    "#     all of this is neccessary because numba doesnt like type conversion.\n",
    "    \n",
    "#     outputs the NTK as a np.array of type np.float32\n",
    "#     '''\n",
    "#     L = len(Xs)-1 #number of layers, Xs goes from inputs to right before outputs; X_0 is the input, X_L CK\n",
    "#     components= []\n",
    "#     n = Xs[0].shape[1] #number of datapoints\n",
    "    \n",
    "#     #holds the derivatives, first value is empty list...?; just a spacer, replace with array\n",
    "#     Ds = [np.array([[0.0]],dtype=np.float32)] \n",
    "#     for l in range(L):\n",
    "#         Ds.append(d_activation(np.dot(Ws[l],Xs[l])))\n",
    "    \n",
    "#     #The first term is just conjugate kernel\n",
    "#     KNTK = cross(Xs[L])\n",
    "#     components.append(cross(Xs[L]))\n",
    "#     for l in range(1,L+1):#l counts layers going forward from 1...\n",
    "#         #we are going to construct terms that look like ( S^T S ) * (X^T X)\n",
    "#         XtX = cross(Xs[l-1])\n",
    "#         S = np.zeros((d_int[l],n),dtype=np.float32)\n",
    "#         for i in range(n):\n",
    "            \n",
    "#             #this is always the same, could be calculated once and saved\n",
    "#             s = Ws[-1].T.reshape(-1)/np.sqrt(d_array[L]) #has shape input to last layer.\n",
    "\n",
    "#             for k in range(L,l-1,-1): #counts backwards from L to l, inclusive both\n",
    "#                 s = np.diag(Ds[k][:,i]) @ s\n",
    "#                 if k > l:\n",
    "\n",
    "#                     s = np.dot(s,Ws[k-1])/np.sqrt(d_array[k-1])\n",
    "\n",
    "#             S[:,i] = s\n",
    "        \n",
    "#         components.append(cross(S) * XtX)\n",
    "#         KNTK += cross(S) * XtX\n",
    "#     return KNTK, components"
   ]
  },
  {
   "cell_type": "code",
   "execution_count": 24,
   "id": "96dc50e2",
   "metadata": {},
   "outputs": [],
   "source": [
    "x_3, x_2, x_1, x_0 = model_layerwise(x_test)\n",
    "\n",
    "Ws = []\n",
    "Ws.append(model_layerwise.d1.weight.detach().numpy().astype(np.float32))\n",
    "Ws.append(model_layerwise.d2.weight.detach().numpy().astype(np.float32))\n",
    "Ws.append(model_layerwise.d3.weight.detach().numpy().astype(np.float32))\n",
    "\n",
    "Bs = []\n",
    "Bs.append(model_layerwise.d1.bias.detach().numpy().astype(np.float32))\n",
    "Bs.append(model_layerwise.d2.bias.detach().numpy().astype(np.float32))\n",
    "Bs.append(model_layerwise.d3.bias.detach().numpy().astype(np.float32))\n",
    "\n",
    "Xs = [] # Xs are shape (output x #DP) ; however, typical python notation is reversed, so we take transpose here\n",
    "Xs.append(x_0.detach().numpy().T.astype(np.float32))\n",
    "Xs.append(x_1.detach().numpy().T.astype(np.float32))\n",
    "Xs.append(x_2.detach().numpy().T.astype(np.float32))\n",
    "\n",
    "ds_int = []\n",
    "ds_int.append(0)\n",
    "ds_int.append(3)\n",
    "ds_int.append(3)\n",
    "\n",
    "ds_array = []\n",
    "ds_array.append(np.array([0.0],dtype=np.float32)) #first element is the input length\n",
    "ds_array.append(np.array([1.0],dtype=np.float32))\n",
    "ds_array.append(np.array([1.0],dtype=np.float32)) #the remaining elements are the output lengths, but omit the last output length assumed 1.\n",
    "ds_array.append(np.array([1.0],dtype=np.float32))"
   ]
  },
  {
   "cell_type": "code",
   "execution_count": 25,
   "id": "43dba8ca",
   "metadata": {},
   "outputs": [],
   "source": [
    "layerwise_NTK, components = compute_NTK_new_WithBias(Ws, Bs, Xs, ds_int, ds_array)"
   ]
  },
  {
   "cell_type": "markdown",
   "id": "a6ef74fc",
   "metadata": {},
   "source": [
    "# Compare all against each other"
   ]
  },
  {
   "cell_type": "code",
   "execution_count": 26,
   "id": "1fd4779f",
   "metadata": {},
   "outputs": [
    {
     "data": {
      "text/plain": [
       "array([[160.76213, 193.00449, 200.97227],\n",
       "       [193.00449, 284.4021 , 267.01312],\n",
       "       [200.97227, 267.01312, 298.02045]], dtype=float32)"
      ]
     },
     "execution_count": 26,
     "metadata": {},
     "output_type": "execute_result"
    }
   ],
   "source": [
    "layerwise_NTK"
   ]
  },
  {
   "cell_type": "code",
   "execution_count": 27,
   "id": "685ebe5c",
   "metadata": {},
   "outputs": [
    {
     "data": {
      "text/plain": [
       "array([[ 54.521683,  86.76405 ,  94.73182 ],\n",
       "       [ 86.76405 , 178.16164 , 160.77267 ],\n",
       "       [ 94.73183 , 160.77267 , 191.78003 ]], dtype=float32)"
      ]
     },
     "execution_count": 27,
     "metadata": {},
     "output_type": "execute_result"
    }
   ],
   "source": [
    "NTK_easy"
   ]
  },
  {
   "cell_type": "code",
   "execution_count": 28,
   "id": "5200c91f",
   "metadata": {},
   "outputs": [
    {
     "data": {
      "text/plain": [
       "array([[ 45.40515 ,  77.647514,  85.615295],\n",
       "       [ 77.647514, 169.0451  , 151.65613 ],\n",
       "       [ 85.615295, 151.65613 , 182.66347 ]], dtype=float32)"
      ]
     },
     "execution_count": 28,
     "metadata": {},
     "output_type": "execute_result"
    }
   ],
   "source": [
    "autograd_NTK"
   ]
  },
  {
   "cell_type": "code",
   "execution_count": 29,
   "id": "faef56a0",
   "metadata": {},
   "outputs": [
    {
     "data": {
      "text/plain": [
       "array([[ 3.973685, 15.353924, 18.65885 ],\n",
       "       [15.353924, 85.88938 , 63.837574],\n",
       "       [18.65885 , 63.837574, 90.18205 ]], dtype=float32)"
      ]
     },
     "execution_count": 29,
     "metadata": {},
     "output_type": "execute_result"
    }
   ],
   "source": [
    "J @ J.T"
   ]
  },
  {
   "cell_type": "markdown",
   "id": "44c4c83e",
   "metadata": {},
   "source": [
    "# Compare components against one another"
   ]
  },
  {
   "cell_type": "code",
   "execution_count": 59,
   "id": "7c7d94d1",
   "metadata": {},
   "outputs": [
    {
     "name": "stdout",
     "output_type": "stream",
     "text": [
      "[[  2.875438  12.974344  12.922433]\n",
      " [ 12.974344 117.93925   39.841427]\n",
      " [ 12.922433  39.841427  63.815407]]\n",
      "[[  0.74225026   2.4397616    3.6184444 ]\n",
      " [  2.4397616   79.9333     -10.463793  ]\n",
      " [  3.6184444  -10.463793    24.590609  ]]\n",
      "[[  0.5682735  -3.9876812   4.590777 ]\n",
      " [ -3.9876812  44.74071   -37.424416 ]\n",
      " [  4.590777  -37.424416   38.706203 ]]\n"
     ]
    }
   ],
   "source": [
    "print(layer_components_w1 @ layer_components_w1.T)\n",
    "print(layer_components_w2 @ layer_components_w2.T)\n",
    "print(layer_components_w3 @ layer_components_w3.T)\n"
   ]
  },
  {
   "cell_type": "code",
   "execution_count": 60,
   "id": "65b4311b",
   "metadata": {},
   "outputs": [
    {
     "name": "stdout",
     "output_type": "stream",
     "text": [
      "[[  2.8754382  12.974345   12.922433 ]\n",
      " [ 12.974345  117.939255   39.841427 ]\n",
      " [ 12.922433   39.841427   63.815407 ]]\n",
      "[[  0.74225026   2.4397616    3.6184444 ]\n",
      " [  2.4397616   79.933304   -10.463793  ]\n",
      " [  3.6184444  -10.463793    24.590607  ]]\n",
      "[[  0.5682735  -3.9876812   4.590777 ]\n",
      " [ -3.9876812  44.74071   -37.424416 ]\n",
      " [  4.590777  -37.424416   38.706203 ]]\n"
     ]
    }
   ],
   "source": [
    "print(components[1])\n",
    "print(components[2])\n",
    "print(components[0])"
   ]
  },
  {
   "cell_type": "code",
   "execution_count": 61,
   "id": "fe52e9fc",
   "metadata": {},
   "outputs": [
    {
     "name": "stdout",
     "output_type": "stream",
     "text": [
      "[[  2.8754382  12.974345   12.922433 ]\n",
      " [ 12.974345  117.93924    39.841423 ]\n",
      " [ 12.922433   39.841423   63.8154   ]]\n",
      "[[  0.7422503   2.4397616   3.6184447]\n",
      " [  2.4397616  79.9333    -10.463793 ]\n",
      " [  3.6184447 -10.463793   24.590609 ]]\n",
      "[[  0.5682735  -3.9876812   4.590777 ]\n",
      " [ -3.9876812  44.74071   -37.424416 ]\n",
      " [  4.590777  -37.424416   38.706203 ]]\n"
     ]
    }
   ],
   "source": [
    "print(JA @ JA.T)\n",
    "print(JB @ JB.T)\n",
    "print(JC @ JC.T)"
   ]
  },
  {
   "cell_type": "code",
   "execution_count": 62,
   "id": "8bb59b4a",
   "metadata": {},
   "outputs": [
    {
     "data": {
      "text/plain": [
       "array([[1.0000001, 1.0000001, 1.       ],\n",
       "       [1.0000001, 1.0000001, 1.       ],\n",
       "       [1.       , 1.       , 1.       ]], dtype=float32)"
      ]
     },
     "execution_count": 62,
     "metadata": {},
     "output_type": "execute_result"
    }
   ],
   "source": [
    "#off by a scalar?, and this sclar is dependent on the seed, meaning is depdendent on some property of the weights\n",
    "np.array(components[1]) / (layer_components_w1 @ layer_components_w1.T)"
   ]
  },
  {
   "cell_type": "markdown",
   "id": "13c0535a",
   "metadata": {},
   "source": [
    "# Conclusions, very sure that NTK_easy and Layerwise_autograd are consistent with something done by hand. \n",
    "\n",
    "# The layerwise calcuations components are off by a scalar. if we modulate the number of nodes in a layer, and it changes, then we might be able to figure out what is going wrong. or is it dependent on some property of weight matrix?"
   ]
  }
 ],
 "metadata": {
  "kernelspec": {
   "display_name": "Python 3",
   "language": "python",
   "name": "python3"
  },
  "language_info": {
   "codemirror_mode": {
    "name": "ipython",
    "version": 3
   },
   "file_extension": ".py",
   "mimetype": "text/x-python",
   "name": "python",
   "nbconvert_exporter": "python",
   "pygments_lexer": "ipython3",
   "version": "3.9.6"
  }
 },
 "nbformat": 4,
 "nbformat_minor": 5
}
