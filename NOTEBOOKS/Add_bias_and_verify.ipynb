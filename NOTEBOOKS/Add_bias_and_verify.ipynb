{
 "cells": [
  {
   "cell_type": "markdown",
   "id": "aceb24f1",
   "metadata": {},
   "source": [
    "# This notebook is dedicated to trying to add a derivation for the bias vector I made by hand, and verifying that it is correct with the other methods\n",
    "\n",
    "# SInce I am using bias vectors, I won'y be verifying by hand. because I am lazy"
   ]
  },
  {
   "cell_type": "code",
   "execution_count": 1,
   "id": "318e76b9",
   "metadata": {},
   "outputs": [],
   "source": [
    "import numpy as np\n",
    "import torch\n",
    "import random\n",
    "\n",
    "import matplotlib.pyplot as plt\n",
    "\n",
    "import torch\n",
    "from torch import nn, optim\n",
    "from torch import load\n",
    "from torch.nn import functional as F\n",
    "from torch import autograd\n",
    "\n",
    "from torch.utils.data import TensorDataset\n",
    "from torch.utils.data import DataLoader\n",
    "\n",
    "#from ..easy_ntk import calculate_NTK\n",
    "#from einops import rearrange\n",
    "\n",
    "import time\n",
    "\n",
    "import sys\n",
    "from pathlib import Path\n",
    "\n",
    "from numba import njit\n",
    "from numba.typed import List\n",
    "\n",
    "%matplotlib inline\n",
    "%load_ext line_profiler\n",
    "%load_ext memory_profiler"
   ]
  },
  {
   "cell_type": "code",
   "execution_count": 2,
   "id": "7c3a07aa",
   "metadata": {},
   "outputs": [],
   "source": [
    "import copy\n",
    "\n",
    "def _del_nested_attr(obj, names):\n",
    "    \"\"\"\n",
    "    Deletes the attribute specified by the given list of names.\n",
    "    For example, to delete the attribute obj.conv.weight,\n",
    "    use _del_nested_attr(obj, ['conv', 'weight'])\n",
    "    \"\"\"\n",
    "    if len(names) == 1:\n",
    "        delattr(obj, names[0])\n",
    "    else:\n",
    "        _del_nested_attr(getattr(obj, names[0]), names[1:])\n",
    "\n",
    "def _set_nested_attr(obj, names, value):\n",
    "    \"\"\"\n",
    "    Set the attribute specified by the given list of names to value.\n",
    "    For example, to set the attribute obj.conv.weight,\n",
    "    use _del_nested_attr(obj, ['conv', 'weight'], value)\n",
    "    \"\"\"\n",
    "    if len(names) == 1:\n",
    "        setattr(obj, names[0], value)\n",
    "    else:\n",
    "        _set_nested_attr(getattr(obj, names[0]), names[1:], value)\n",
    "\n",
    "def extract_weights(mod):\n",
    "    \"\"\"\n",
    "    This function removes all the Parameters from the model and\n",
    "    return them as a tuple as well as their original attribute names.\n",
    "    The weights must be re-loaded with `load_weights` before the model\n",
    "    can be used again.\n",
    "    Note that this function modifies the model in place and after this\n",
    "    call, mod.parameters() will be empty.\n",
    "    \"\"\"\n",
    "    orig_params = tuple(mod.parameters())\n",
    "    # Remove all the parameters in the model\n",
    "    names = []\n",
    "    for name, p in list(mod.named_parameters()):\n",
    "        _del_nested_attr(mod, name.split(\".\"))\n",
    "        names.append(name)\n",
    "\n",
    "    # Make params regular Tensors instead of nn.Parameter\n",
    "    params = tuple(p.detach().requires_grad_() for p in orig_params)\n",
    "    return params, names\n",
    "\n",
    "def load_weights(mod, names, params):\n",
    "    \"\"\"\n",
    "    Reload a set of weights so that `mod` can be used again to perform a forward pass.\n",
    "    Note that the `params` are regular Tensors (that can have history) and so are left\n",
    "    as Tensors. This means that mod.parameters() will still be empty after this call.\n",
    "    \"\"\"\n",
    "    for name, p in zip(names, params):\n",
    "        _set_nested_attr(mod, name.split(\".\"), p)\n",
    "        \n",
    "def calculate_NTK(model,x,device='cpu',MODE='samples'):\n",
    "    \"\"\"\n",
    "    INPUTS:\n",
    "        model: torch.nn.Module \n",
    "        x: torch.Tensor\n",
    "        device: 'cpu',\n",
    "        MODE: 'minima'\n",
    "    \n",
    "    OUTPUTS:\n",
    "        NTK: torch.Tensor\n",
    "    \n",
    "    Calculates the NTK for a model, p_dict a state dictionary, and x, a single tensor fed into the model\n",
    "    \n",
    "    The NTK is the grammian of the Jacobian of the model output to w.r.t. the weights of the model\n",
    "    \n",
    "    This function will output the NTK such that the minima matrix size is used. If the Jacobian is an NxM\n",
    "    matrix, then the NTK is formulated so that if N < M; NTK is NxN. If M<N, then NTK is MxM.\n",
    "    \n",
    "    #EXAMPLE USAGE:\n",
    "    device='cpu'\n",
    "    model = MODEL() #a torch.nn.Module object \n",
    "    model.to(device)\n",
    "    state_dict = model.state_dict()\n",
    "\n",
    "    x_test = np.ones((100,1,28,28),dtype=np.float32)\n",
    "    x_test = torch.from_numpy(x_test)\n",
    "\n",
    "    NTK = calculate_NTK(model,x_test)\n",
    "    \"\"\"\n",
    "    if not(MODE in ['minima','samples','params']):\n",
    "        raise ValueError(\"MODE must be one of 'minima','samples','params'\")\n",
    "    \n",
    "    x = x.to(device)\n",
    "    x.requires_grad=False\n",
    "    N = x.shape[0]\n",
    "    M = sum(p.numel() for p in model.parameters() if p.requires_grad)\n",
    "    \n",
    "    #We need to create a clone of the model or else we make it unusable as part of the trickery \n",
    "    #to get pytorch to do what we want. Unforutantely, this exlcludes super big models. but, eh.\n",
    "    model_clone = copy.deepcopy(model)\n",
    "    \n",
    "    params, names = extract_weights(model_clone)\n",
    "    def model_ntk(*args,model=model_clone, names=names):\n",
    "        params = tuple(args)\n",
    "        load_weights(model, names, params)\n",
    "        return model(x)\n",
    "    \n",
    "    Js = torch.autograd.functional.jacobian(model_ntk, tuple(params), create_graph=False, vectorize=True)\n",
    "    \n",
    "    Js = list(Js)\n",
    "    #Js = [element for tupl in Js for element in tupl]\n",
    "    #collapse the tensors\n",
    "    for i,tensor in enumerate(Js):\n",
    "        Js[i] = tensor.reshape(N,-1)\n",
    "    \n",
    "    J = torch.cat(Js,axis=1)\n",
    "    \n",
    "    if MODE=='minima':\n",
    "        if N < M: #if datasize points is less than number of parameters:\n",
    "            NTK = torch.matmul(J,J.T)\n",
    "\n",
    "        if N >= M:#if number of parameters is less than datasize:\n",
    "            NTK = torch.matmul(J.T,J)\n",
    "    elif MODE=='samples':\n",
    "        NTK = torch.matmul(J,J.T)\n",
    "    elif MODE=='params':\n",
    "        NTK = torch.matmul(J.T,J)\n",
    "    \n",
    "    return NTK"
   ]
  },
  {
   "cell_type": "code",
   "execution_count": 3,
   "id": "acdbfa50",
   "metadata": {},
   "outputs": [],
   "source": [
    "def relu(X,normalize=False):\n",
    "    X = F.relu(X)\n",
    "    if normalize:\n",
    "        return np.sqrt(2*np.pi/(np.pi-1))*(X-1/np.sqrt(2*np.pi))\n",
    "    else:\n",
    "        return X\n",
    "    \n",
    "\n",
    "# #Identity\n",
    "# def activation(x):\n",
    "#     return x\n",
    "\n",
    "# @njit\n",
    "# def d_activation(x):\n",
    "#     return np.ones(np.shape(x),dtype=np.float32) \n",
    "\n",
    "\n",
    "# #Tanh\n",
    "def activation(x):\n",
    "    return torch.tanh(x)\n",
    "\n",
    "@njit\n",
    "def d_activation(x):\n",
    "    return np.cosh(x)**-2"
   ]
  },
  {
   "cell_type": "code",
   "execution_count": 4,
   "id": "b5bbdd75",
   "metadata": {},
   "outputs": [],
   "source": [
    "SEED = 2"
   ]
  },
  {
   "cell_type": "code",
   "execution_count": 5,
   "id": "dc0c4f53",
   "metadata": {},
   "outputs": [],
   "source": [
    "def NTK_weights(m):\n",
    "    if isinstance(m, nn.Linear):\n",
    "        print(m.weight.shape)\n",
    "        nn.init.normal_(m.weight.data)#/m.weight.shape[0]\n",
    "        if m.bias != None:\n",
    "            nn.init.normal_(m.bias.data)#/m.weight.shape[0]\n",
    "    if isinstance(m, nn.Conv2d):\n",
    "        print(m.weight.shape)\n",
    "        nn.init.normal_(m.weight.data)#/m.weight.shape[0]\n",
    "        if m.bias != None:\n",
    "            nn.init.normal_(m.bias.data)#/m.weight.shape[0]"
   ]
  },
  {
   "cell_type": "code",
   "execution_count": 6,
   "id": "0ddd4e70",
   "metadata": {},
   "outputs": [],
   "source": [
    "# Easy NTK expects one output alone\n",
    "class dumb_small(torch.nn.Module):\n",
    "    '''\n",
    "    simple network for test cases\n",
    "    \n",
    "    \n",
    "    It seems like bias vectors aren't trivially added.\n",
    "    '''\n",
    "    def __init__(self,):\n",
    "        super(dumb_small, self).__init__()\n",
    "        \n",
    "        self.d1 = torch.nn.Linear(2,3)\n",
    "        self.d2 = torch.nn.Linear(3,3)\n",
    "        self.d3 = torch.nn.Linear(3,1)\n",
    "        \n",
    "    def forward(self, x_0):\n",
    "        x_1 = activation(self.d1(x_0))\n",
    "        x_2 = activation(self.d2(x_1))\n",
    "        x_3 = self.d3(x_2)\n",
    "        return x_3\n",
    "    \n",
    "# Easy NTK expects one output alone\n",
    "class dumb_small_layerwise(torch.nn.Module):\n",
    "    '''\n",
    "    simple network for test cases\n",
    "    \n",
    "    \n",
    "    It seems like bias vectors aren't trivially added.\n",
    "    '''\n",
    "    def __init__(self,):\n",
    "        super(dumb_small_layerwise, self).__init__()\n",
    "        \n",
    "        self.d1 = torch.nn.Linear(2,3)\n",
    "        self.d2 = torch.nn.Linear(3,3)\n",
    "        self.d3 = torch.nn.Linear(3,1)\n",
    "        \n",
    "    def forward(self, x_0):\n",
    "        x_1 = activation(self.d1(x_0))\n",
    "        x_2 = activation(self.d2(x_1))\n",
    "        x_3 = self.d3(x_2)\n",
    "        return x_3, x_2, x_1, x_0"
   ]
  },
  {
   "cell_type": "code",
   "execution_count": 7,
   "id": "4b7f4757",
   "metadata": {},
   "outputs": [
    {
     "name": "stdout",
     "output_type": "stream",
     "text": [
      "torch.Size([3, 2])\n",
      "torch.Size([3, 3])\n",
      "torch.Size([1, 3])\n",
      "torch.Size([3, 2])\n",
      "torch.Size([3, 3])\n",
      "torch.Size([1, 3])\n"
     ]
    }
   ],
   "source": [
    "torch.manual_seed(SEED)\n",
    "random.seed(SEED)\n",
    "np.random.seed(SEED)\n",
    "device='cpu'\n",
    "\n",
    "model_small = dumb_small()\n",
    "model_small.to(device)\n",
    "model_small.apply(NTK_weights)\n",
    "\n",
    "torch.manual_seed(SEED)\n",
    "random.seed(SEED)\n",
    "np.random.seed(SEED)\n",
    "device='cpu'\n",
    "\n",
    "model_layerwise = dumb_small_layerwise()\n",
    "model_layerwise.to(device)\n",
    "model_layerwise.apply(NTK_weights)\n",
    "\n",
    "x_test = np.random.normal(0,1,(4,2)).astype(np.float32)\n",
    "x_test = torch.from_numpy(x_test)"
   ]
  },
  {
   "cell_type": "code",
   "execution_count": 8,
   "id": "ebeda123",
   "metadata": {},
   "outputs": [
    {
     "data": {
      "text/plain": [
       "(3,)"
      ]
     },
     "execution_count": 8,
     "metadata": {},
     "output_type": "execute_result"
    }
   ],
   "source": [
    "assert torch.all(model_layerwise.d1.weight == model_small.d1.weight)\n",
    "assert torch.all(model_layerwise.d2.weight == model_small.d2.weight)\n",
    "assert torch.all(model_layerwise.d3.weight == model_small.d3.weight)\n",
    "\n",
    "assert torch.all(model_layerwise.d1.bias == model_small.d1.bias)\n",
    "assert torch.all(model_layerwise.d2.bias == model_small.d2.bias)\n",
    "assert torch.all(model_layerwise.d3.bias == model_small.d3.bias)\n",
    "\n",
    "model_layerwise.d1.bias.detach().numpy().shape"
   ]
  },
  {
   "cell_type": "markdown",
   "id": "800c0794",
   "metadata": {},
   "source": [
    "#### Jacobian autograd"
   ]
  },
  {
   "cell_type": "code",
   "execution_count": 9,
   "id": "1aea495f",
   "metadata": {},
   "outputs": [],
   "source": [
    "NTK_easy = calculate_NTK(model_small,x_test).detach().numpy()"
   ]
  },
  {
   "cell_type": "markdown",
   "id": "f8dad52e",
   "metadata": {},
   "source": [
    "#### Can we get pytorch to give us the matrices with the correct kinds of derivative?"
   ]
  },
  {
   "cell_type": "code",
   "execution_count": 10,
   "id": "c2661e77",
   "metadata": {},
   "outputs": [],
   "source": [
    "model_small.zero_grad()\n",
    "x_4 = model_small(x_test)"
   ]
  },
  {
   "cell_type": "code",
   "execution_count": 11,
   "id": "5e1448c4",
   "metadata": {},
   "outputs": [],
   "source": [
    "#this method agrees between model layerwise and model small; meaning that the calculation is indepdent of those\n",
    "#two models. the insinuation is somehting is wrong with both my methods for calculating,--- the same thing, since\n",
    "#they agree with one another.\n",
    "\n",
    "#in the future we would iterate over layers instead of like this...\n",
    "layer_components_w1 = [] \n",
    "layer_components_w2 = []\n",
    "layer_components_w3 = []\n",
    "\n",
    "layer_components_b1 = []\n",
    "layer_components_b2 = []\n",
    "layer_components_b3 = []\n",
    "\n",
    "\n",
    "\n",
    "for output in x_4:\n",
    "    model_small.zero_grad()\n",
    "    \n",
    "    output.backward(retain_graph=True)\n",
    "\n",
    "    #Get the tensors\n",
    "\n",
    "    w3_grad = model_small.d3.weight.grad.detach().numpy()\n",
    "    w2_grad = model_small.d2.weight.grad.detach().numpy()\n",
    "    w1_grad = model_small.d1.weight.grad.detach().numpy()\n",
    "    \n",
    "    b3_grad = model_small.d3.bias.grad.detach().numpy()\n",
    "    b2_grad = model_small.d2.bias.grad.detach().numpy()\n",
    "    b1_grad = model_small.d1.bias.grad.detach().numpy()\n",
    "\n",
    "\n",
    "    #reshape and append. deep copy neccessary or else they are the same objects\n",
    "    layer_components_w1.append(w1_grad.reshape(-1).copy())\n",
    "    layer_components_w2.append(w2_grad.reshape(-1).copy())\n",
    "    layer_components_w3.append(w3_grad.reshape(-1).copy())\n",
    "\n",
    "    layer_components_b1.append(b1_grad.reshape(-1).copy())\n",
    "    layer_components_b2.append(b2_grad.reshape(-1).copy())\n",
    "    layer_components_b3.append(b3_grad.reshape(-1).copy())\n"
   ]
  },
  {
   "cell_type": "code",
   "execution_count": 12,
   "id": "b910e6b8",
   "metadata": {},
   "outputs": [
    {
     "data": {
      "text/plain": [
       "[array([1.], dtype=float32),\n",
       " array([1.], dtype=float32),\n",
       " array([1.], dtype=float32),\n",
       " array([1.], dtype=float32)]"
      ]
     },
     "execution_count": 12,
     "metadata": {},
     "output_type": "execute_result"
    }
   ],
   "source": [
    "layer_components_b3"
   ]
  },
  {
   "cell_type": "code",
   "execution_count": 13,
   "id": "42b817fa",
   "metadata": {},
   "outputs": [],
   "source": [
    "layer_components_w1 = np.array(layer_components_w1)\n",
    "layer_components_w2 = np.array(layer_components_w2)\n",
    "layer_components_w3 = np.array(layer_components_w3)\n",
    "\n",
    "layer_components_b1 = np.array(layer_components_b1)\n",
    "layer_components_b2 = np.array(layer_components_b2)\n",
    "layer_components_b3 = np.array(layer_components_b3)"
   ]
  },
  {
   "cell_type": "code",
   "execution_count": 14,
   "id": "0a0cc4bb",
   "metadata": {},
   "outputs": [],
   "source": [
    "autograd_NTK = layer_components_w1 @ layer_components_w1.T+\\\n",
    "    layer_components_w2 @ layer_components_w2.T+\\\n",
    "    layer_components_w3 @ layer_components_w3.T+\\\n",
    "    layer_components_b1 @ layer_components_b1.T+\\\n",
    "    layer_components_b2 @ layer_components_b2.T+\\\n",
    "    layer_components_b3 @ layer_components_b3.T"
   ]
  },
  {
   "cell_type": "markdown",
   "id": "7983c695",
   "metadata": {},
   "source": [
    "# Layerwise exact"
   ]
  },
  {
   "cell_type": "code",
   "execution_count": 88,
   "id": "0782d11e",
   "metadata": {},
   "outputs": [],
   "source": [
    "@njit #no parallel transformation available ;#fasterer\n",
    "def cross(X):\n",
    "    return X.T.dot(X)\n",
    "\n",
    "def compute_NTK_new_WithBias(Ws, Bs, Xs, d_int, d_array):\n",
    "    L = len(Xs)-1 #number of layers, Xs goes from inputs to right before outputs; X_0 is the input, X_L CK\n",
    "    #components = []\n",
    "    n = Xs[0].shape[1] #number of datapoints\n",
    "\n",
    "    #holds the derivatives, first value is empty list...?; just a spacer, replace with array\n",
    "    Ds = [np.array([[0.0]],dtype=np.float32)] \n",
    "    for l in range(L):\n",
    "        Ds.append(d_activation(np.dot(Ws[l],Xs[l]) + Bs[l]))\n",
    "    #The first term is just conjugate kernel\n",
    "    KNTK = cross(Xs[L])\n",
    "    #components.append(cross(Xs[L]))\n",
    "    ####################\n",
    "    #Ds must be right, because this block is creating correct.\n",
    "    for l in range(1,L+1):#l counts layers going forward from 1...\n",
    "        #we are going to construct terms that look like ( S^T S ) * (X^T X)\n",
    "        XtX = cross(Xs[l-1])\n",
    "        S = np.expand_dims(Ws[-1].T.reshape(-1)/np.sqrt(d_array[L]),axis=1) #has shape input to last layer.\n",
    "        for k in range(L,l-1,-1): #counts backwards from l\n",
    "            S = Ds[k]*S\n",
    "            if k > l:\n",
    "                S = np.dot(S.T,Ws[k-1]).T/np.sqrt(d_array[k-1])\n",
    "        #components.append(cross(S) * XtX)\n",
    "        KNTK += cross(S) * XtX\n",
    "    ####################\n",
    "    for l in range(L+1,0,-1):\n",
    "        S=1\n",
    "        for k in range(L,l-1,-1):\n",
    "            \n",
    "            S = np.dot(Ws[k].T/np.sqrt(d_array[k]),S)\n",
    "            \n",
    "            S = S * Ds[k]\n",
    "\n",
    "        S = np.multiply(np.ones((d_int[l],n),dtype=np.float32),S)\n",
    "        #components.append(cross(S))\n",
    "        KNTK += cross(S)\n",
    "    return KNTK#, components"
   ]
  },
  {
   "cell_type": "code",
   "execution_count": 89,
   "id": "96dc50e2",
   "metadata": {},
   "outputs": [],
   "source": [
    "x_3, x_2, x_1, x_0 = model_layerwise(x_test)\n",
    "\n",
    "Ws = []\n",
    "Ws.append(model_layerwise.d1.weight.detach().numpy().astype(np.float32))\n",
    "Ws.append(model_layerwise.d2.weight.detach().numpy().astype(np.float32))\n",
    "Ws.append(model_layerwise.d3.weight.detach().numpy().astype(np.float32))\n",
    "\n",
    "Xs = [] # Xs are shape (output x #DP) ; however, typical python notation is reversed, so we take transpose here\n",
    "Xs.append(x_0.detach().numpy().T.astype(np.float32))\n",
    "Xs.append(x_1.detach().numpy().T.astype(np.float32))\n",
    "Xs.append(x_2.detach().numpy().T.astype(np.float32))\n",
    "\n",
    "Bs = []\n",
    "Bs.append(model_layerwise.d1.bias.detach().numpy().astype(np.float32)[:,None])\n",
    "Bs.append(model_layerwise.d2.bias.detach().numpy().astype(np.float32)[:,None])\n",
    "Bs.append(model_layerwise.d3.bias.detach().numpy().astype(np.float32)[:,None])\n",
    "\n",
    "ds_int = []\n",
    "ds_int.append(0)\n",
    "ds_int.append(3)\n",
    "ds_int.append(3)\n",
    "ds_int.append(1)\n",
    "\n",
    "ds_array = []\n",
    "ds_array.append(np.array([0.0],dtype=np.float32)) #first element is the input length\n",
    "ds_array.append(np.array([1.0],dtype=np.float32))\n",
    "ds_array.append(np.array([1.0],dtype=np.float32)) #the remaining elements are the output lengths, but omit the last output length assumed 1.\n",
    "ds_array.append(np.array([1.0],dtype=np.float32))"
   ]
  },
  {
   "cell_type": "code",
   "execution_count": 90,
   "id": "43dba8ca",
   "metadata": {},
   "outputs": [],
   "source": [
    "layerwise_NTK, components = compute_NTK_new_WithBias(Ws, Bs, Xs, ds_int, ds_array)"
   ]
  },
  {
   "cell_type": "code",
   "execution_count": 91,
   "id": "7c42b04e",
   "metadata": {},
   "outputs": [
    {
     "data": {
      "text/plain": [
       "array([[-3.6603562e-03,  9.8079455e-01, -1.1442316e-01],\n",
       "       [-1.4193730e-03,  2.4364762e-01, -2.2082861e-01],\n",
       "       [-9.4461028e-04,  4.8596486e-02, -2.6164386e-01],\n",
       "       [-6.7316373e-03,  1.0789857e+00, -1.1431656e-01]], dtype=float32)"
      ]
     },
     "execution_count": 91,
     "metadata": {},
     "output_type": "execute_result"
    }
   ],
   "source": [
    "layer_components_b2"
   ]
  },
  {
   "cell_type": "markdown",
   "id": "a6ef74fc",
   "metadata": {},
   "source": [
    "# Compare all against each other"
   ]
  },
  {
   "cell_type": "code",
   "execution_count": 92,
   "id": "1fd4779f",
   "metadata": {},
   "outputs": [
    {
     "data": {
      "text/plain": [
       "array([[ 8.254051 ,  4.5994496,  2.5208883,  7.149842 ],\n",
       "       [ 4.5994496,  5.586909 ,  3.136908 ,  1.288177 ],\n",
       "       [ 2.5208883,  3.136908 ,  3.7187269,  1.900444 ],\n",
       "       [ 7.149842 ,  1.288177 ,  1.900444 , 12.942534 ]], dtype=float32)"
      ]
     },
     "execution_count": 92,
     "metadata": {},
     "output_type": "execute_result"
    }
   ],
   "source": [
    "layerwise_NTK"
   ]
  },
  {
   "cell_type": "code",
   "execution_count": 93,
   "id": "685ebe5c",
   "metadata": {},
   "outputs": [
    {
     "data": {
      "text/plain": [
       "array([[ 8.254052 ,  4.59945  ,  2.5208886,  7.149842 ],\n",
       "       [ 4.59945  ,  5.586909 ,  3.1369083,  1.2881768],\n",
       "       [ 2.5208886,  3.1369083,  3.7187266,  1.9004439],\n",
       "       [ 7.149842 ,  1.2881768,  1.9004439, 12.942536 ]], dtype=float32)"
      ]
     },
     "execution_count": 93,
     "metadata": {},
     "output_type": "execute_result"
    }
   ],
   "source": [
    "NTK_easy"
   ]
  },
  {
   "cell_type": "code",
   "execution_count": 94,
   "id": "5200c91f",
   "metadata": {},
   "outputs": [
    {
     "data": {
      "text/plain": [
       "array([[ 8.254051 ,  4.59945  ,  2.5208883,  7.1498413],\n",
       "       [ 4.59945  ,  5.5869093,  3.136908 ,  1.2881768],\n",
       "       [ 2.5208883,  3.136908 ,  3.7187269,  1.9004438],\n",
       "       [ 7.1498413,  1.2881768,  1.9004438, 12.942534 ]], dtype=float32)"
      ]
     },
     "execution_count": 94,
     "metadata": {},
     "output_type": "execute_result"
    }
   ],
   "source": [
    "autograd_NTK"
   ]
  },
  {
   "cell_type": "markdown",
   "id": "44c4c83e",
   "metadata": {},
   "source": [
    "# Compare components against one another"
   ]
  },
  {
   "cell_type": "code",
   "execution_count": 95,
   "id": "7c7d94d1",
   "metadata": {},
   "outputs": [
    {
     "name": "stdout",
     "output_type": "stream",
     "text": [
      "[[ 0.53224283  0.56983453  0.2124167  -0.40349403]\n",
      " [ 0.56983453  1.8930786   0.2896796  -2.2823007 ]\n",
      " [ 0.2124167   0.2896796   0.22192383  0.04162453]\n",
      " [-0.40349403 -2.2823007   0.04162453  5.0680943 ]]\n",
      "[[0.96924645 0.2718444  0.07023415 0.973709  ]\n",
      " [0.2718444  0.17904218 0.11069712 0.17418593]\n",
      " [0.07023415 0.11069712 0.16018681 0.04559045]\n",
      " [0.973709   0.17418593 0.04559045 1.2190182 ]]\n",
      "[[1.7679785  1.7794366  0.89337176 1.6160638 ]\n",
      " [1.7794366  2.1456802  1.5486958  1.3759024 ]\n",
      " [0.89337176 1.5486958  2.2092543  0.4464258 ]\n",
      " [1.6160638  1.3759024  0.4464258  1.6681615 ]]\n",
      "[[3.00952    0.7140929  0.26726115 2.8921945 ]\n",
      " [0.7140929  0.2609767  0.11821551 0.7322429 ]\n",
      " [0.26726115 0.11821551 0.05654183 0.2844516 ]\n",
      " [2.8921945  0.7322429  0.2844516  2.8099377 ]]\n",
      "[[0.975064   0.26424137 0.07760475 1.0713685 ]\n",
      " [0.26424137 0.10813145 0.06962021 0.2881462 ]\n",
      " [0.07760475 0.06962021 0.07082002 0.0823515 ]\n",
      " [1.0713685  0.2881462  0.0823515  1.1773237 ]]\n",
      "[[1. 1. 1. 1.]\n",
      " [1. 1. 1. 1.]\n",
      " [1. 1. 1. 1.]\n",
      " [1. 1. 1. 1.]]\n"
     ]
    }
   ],
   "source": [
    "#Since this doesnt depend on the X\n",
    "print(layer_components_w1 @ layer_components_w1.T)\n",
    "print(layer_components_w2 @ layer_components_w2.T)\n",
    "print(layer_components_w3 @ layer_components_w3.T)\n",
    "\n",
    "print(layer_components_b1 @ layer_components_b1.T)\n",
    "print(layer_components_b2 @ layer_components_b2.T)\n",
    "print(layer_components_b3 @ layer_components_b3.T)"
   ]
  },
  {
   "cell_type": "code",
   "execution_count": 97,
   "id": "65b4311b",
   "metadata": {},
   "outputs": [
    {
     "name": "stdout",
     "output_type": "stream",
     "text": [
      "[[ 0.5322428   0.5698344   0.21241668 -0.40349403]\n",
      " [ 0.5698344   1.8930782   0.28967956 -2.2823005 ]\n",
      " [ 0.21241668  0.28967956  0.2219238   0.04162453]\n",
      " [-0.40349403 -2.2823005   0.04162453  5.0680943 ]]\n",
      "[[0.96924627 0.27184442 0.07023415 0.97370887]\n",
      " [0.27184442 0.1790422  0.11069711 0.17418592]\n",
      " [0.07023415 0.11069711 0.16018678 0.04559045]\n",
      " [0.97370887 0.17418592 0.04559045 1.2190182 ]]\n",
      "[[1.7679785  1.7794366  0.89337176 1.6160638 ]\n",
      " [1.7794366  2.1456802  1.5486958  1.3759024 ]\n",
      " [0.89337176 1.5486958  2.2092543  0.4464258 ]\n",
      " [1.6160638  1.3759024  0.4464258  1.6681615 ]]\n",
      "[[3.00951977 0.71409287 0.2672611  2.89219451]\n",
      " [0.71409287 0.26097667 0.1182155  0.73224284]\n",
      " [0.2672611  0.1182155  0.05654182 0.28445158]\n",
      " [2.89219451 0.73224284 0.28445158 2.80993776]]\n",
      "[[0.97506386 0.26424137 0.07760474 1.07136834]\n",
      " [0.26424137 0.10813146 0.0696202  0.28814626]\n",
      " [0.07760474 0.0696202  0.07082    0.08235151]\n",
      " [1.07136834 0.28814626 0.08235151 1.17732378]]\n",
      "[[1. 1. 1. 1.]\n",
      " [1. 1. 1. 1.]\n",
      " [1. 1. 1. 1.]\n",
      " [1. 1. 1. 1.]]\n"
     ]
    }
   ],
   "source": [
    "print(components[1])\n",
    "print(components[2])\n",
    "print(components[0])\n",
    "\n",
    "print(components[5])\n",
    "print(components[4])\n",
    "print(components[3])"
   ]
  },
  {
   "cell_type": "markdown",
   "id": "3ce4fd29",
   "metadata": {},
   "source": [
    "# huh"
   ]
  },
  {
   "cell_type": "code",
   "execution_count": 100,
   "id": "06d26632",
   "metadata": {},
   "outputs": [
    {
     "name": "stdout",
     "output_type": "stream",
     "text": [
      "True\n",
      "True\n",
      "True\n",
      "True\n",
      "True\n",
      "True\n"
     ]
    }
   ],
   "source": [
    "print(np.allclose(components[1],layer_components_w1 @ layer_components_w1.T))\n",
    "print(np.allclose(components[2],layer_components_w2 @ layer_components_w2.T))\n",
    "print(np.allclose(components[0],layer_components_w3 @ layer_components_w3.T))\n",
    "print(np.allclose(components[5],layer_components_b1 @ layer_components_b1.T))\n",
    "print(np.allclose(components[4],layer_components_b2 @ layer_components_b2.T))\n",
    "print(np.allclose(components[3],layer_components_b3 @ layer_components_b3.T))"
   ]
  }
 ],
 "metadata": {
  "kernelspec": {
   "display_name": "Python 3",
   "language": "python",
   "name": "python3"
  },
  "language_info": {
   "codemirror_mode": {
    "name": "ipython",
    "version": 3
   },
   "file_extension": ".py",
   "mimetype": "text/x-python",
   "name": "python",
   "nbconvert_exporter": "python",
   "pygments_lexer": "ipython3",
   "version": "3.9.6"
  }
 },
 "nbformat": 4,
 "nbformat_minor": 5
}
