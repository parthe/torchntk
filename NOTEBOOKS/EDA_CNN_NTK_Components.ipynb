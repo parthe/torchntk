{
 "cells": [
  {
   "cell_type": "code",
   "execution_count": 2,
   "id": "7285c030",
   "metadata": {},
   "outputs": [],
   "source": [
    "import numpy as np\n",
    "import torch\n",
    "import random\n",
    "\n",
    "import matplotlib.pyplot as plt\n",
    "\n",
    "\n",
    "import torch\n",
    "from torch import nn, optim\n",
    "from torch import load\n",
    "from torch.nn import functional as F\n",
    "from torch import autograd\n",
    "\n",
    "from torch.utils.data import TensorDataset\n",
    "from torch.utils.data import DataLoader\n",
    "\n",
    "#from ..easy_ntk import calculate_NTK\n",
    "from einops import rearrange\n",
    "\n",
    "import time\n",
    "\n",
    "import sys\n",
    "from pathlib import Path\n",
    "\n",
    "from numba import njit\n",
    "from numba.typed import List\n",
    "\n",
    "%matplotlib inline"
   ]
  },
  {
   "cell_type": "code",
   "execution_count": 3,
   "id": "6e95a53a",
   "metadata": {},
   "outputs": [],
   "source": [
    "SEED = 0"
   ]
  },
  {
   "cell_type": "code",
   "execution_count": 4,
   "id": "78cb6185",
   "metadata": {},
   "outputs": [],
   "source": [
    "import copy\n",
    "\n",
    "def _del_nested_attr(obj, names):\n",
    "    \"\"\"\n",
    "    Deletes the attribute specified by the given list of names.\n",
    "    For example, to delete the attribute obj.conv.weight,\n",
    "    use _del_nested_attr(obj, ['conv', 'weight'])\n",
    "    \"\"\"\n",
    "    if len(names) == 1:\n",
    "        delattr(obj, names[0])\n",
    "    else:\n",
    "        _del_nested_attr(getattr(obj, names[0]), names[1:])\n",
    "\n",
    "def _set_nested_attr(obj, names, value):\n",
    "    \"\"\"\n",
    "    Set the attribute specified by the given list of names to value.\n",
    "    For example, to set the attribute obj.conv.weight,\n",
    "    use _del_nested_attr(obj, ['conv', 'weight'], value)\n",
    "    \"\"\"\n",
    "    if len(names) == 1:\n",
    "        setattr(obj, names[0], value)\n",
    "    else:\n",
    "        _set_nested_attr(getattr(obj, names[0]), names[1:], value)\n",
    "\n",
    "def extract_weights(mod):\n",
    "    \"\"\"\n",
    "    This function removes all the Parameters from the model and\n",
    "    return them as a tuple as well as their original attribute names.\n",
    "    The weights must be re-loaded with `load_weights` before the model\n",
    "    can be used again.\n",
    "    Note that this function modifies the model in place and after this\n",
    "    call, mod.parameters() will be empty.\n",
    "    \"\"\"\n",
    "    orig_params = tuple(mod.parameters())\n",
    "    # Remove all the parameters in the model\n",
    "    names = []\n",
    "    for name, p in list(mod.named_parameters()):\n",
    "        _del_nested_attr(mod, name.split(\".\"))\n",
    "        names.append(name)\n",
    "\n",
    "    # Make params regular Tensors instead of nn.Parameter\n",
    "    params = tuple(p.detach().requires_grad_() for p in orig_params)\n",
    "    return params, names\n",
    "\n",
    "def load_weights(mod, names, params):\n",
    "    \"\"\"\n",
    "    Reload a set of weights so that `mod` can be used again to perform a forward pass.\n",
    "    Note that the `params` are regular Tensors (that can have history) and so are left\n",
    "    as Tensors. This means that mod.parameters() will still be empty after this call.\n",
    "    \"\"\"\n",
    "    for name, p in zip(names, params):\n",
    "        _set_nested_attr(mod, name.split(\".\"), p)\n",
    "        \n",
    "def calculate_NTK(model,x,device='cpu',MODE='samples'):\n",
    "    \"\"\"\n",
    "    INPUTS:\n",
    "        model: torch.nn.Module \n",
    "        x: torch.Tensor\n",
    "        device: 'cpu',\n",
    "        MODE: 'minima'\n",
    "    \n",
    "    OUTPUTS:\n",
    "        NTK: torch.Tensor\n",
    "    \n",
    "    Calculates the NTK for a model, p_dict a state dictionary, and x, a single tensor fed into the model\n",
    "    \n",
    "    The NTK is the grammian of the Jacobian of the model output to w.r.t. the weights of the model\n",
    "    \n",
    "    This function will output the NTK such that the minima matrix size is used. If the Jacobian is an NxM\n",
    "    matrix, then the NTK is formulated so that if N < M; NTK is NxN. If M<N, then NTK is MxM.\n",
    "    \n",
    "    #EXAMPLE USAGE:\n",
    "    device='cpu'\n",
    "    model = MODEL() #a torch.nn.Module object \n",
    "    model.to(device)\n",
    "    state_dict = model.state_dict()\n",
    "\n",
    "    x_test = np.ones((100,1,28,28),dtype=np.float32)\n",
    "    x_test = torch.from_numpy(x_test)\n",
    "\n",
    "    NTK = calculate_NTK(model,x_test)\n",
    "    \"\"\"\n",
    "    if not(MODE in ['minima','samples','params']):\n",
    "        raise ValueError(\"MODE must be one of 'minima','samples','params'\")\n",
    "    \n",
    "    x = x.to(device)\n",
    "    x.requires_grad=False\n",
    "    N = x.shape[0]\n",
    "    M = sum(p.numel() for p in model.parameters() if p.requires_grad)\n",
    "    \n",
    "    #We need to create a clone of the model or else we make it unusable as part of the trickery \n",
    "    #to get pytorch to do what we want. Unforutantely, this exlcludes super big models. but, eh.\n",
    "    model_clone = copy.deepcopy(model)\n",
    "    \n",
    "    params, names = extract_weights(model_clone)\n",
    "    def model_ntk(*args,model=model_clone, names=names):\n",
    "        params = tuple(args)\n",
    "        load_weights(model, names, params)\n",
    "        return model(x)\n",
    "    \n",
    "    Js = torch.autograd.functional.jacobian(model_ntk, tuple(params), create_graph=False, vectorize=True)\n",
    "    \n",
    "    Js = list(Js)\n",
    "    #Js = [element for tupl in Js for element in tupl]\n",
    "    #collapse the tensors\n",
    "    for i,tensor in enumerate(Js):\n",
    "        Js[i] = tensor.reshape(N,-1)\n",
    "    \n",
    "    J = torch.cat(Js,axis=1)\n",
    "    \n",
    "    if MODE=='minima':\n",
    "        if N < M: #if datasize points is less than number of parameters:\n",
    "            NTK = torch.matmul(J,J.T)\n",
    "\n",
    "        if N >= M:#if number of parameters is less than datasize:\n",
    "            NTK = torch.matmul(J.T,J)\n",
    "    elif MODE=='samples':\n",
    "        NTK = torch.matmul(J,J.T)\n",
    "    elif MODE=='params':\n",
    "        NTK = torch.matmul(J.T,J)\n",
    "    \n",
    "    return NTK"
   ]
  },
  {
   "cell_type": "code",
   "execution_count": 5,
   "id": "9bbaa3b2",
   "metadata": {},
   "outputs": [],
   "source": [
    "\n",
    "# #Identity\n",
    "# def activation(x):\n",
    "#     return x\n",
    "\n",
    "# @njit\n",
    "# def d_activation(x):\n",
    "#     return np.ones(np.shape(x),dtype=np.float32) \n",
    "\n",
    "\n",
    "# #Tanh\n",
    "def activation(x):\n",
    "    return torch.tanh(x)\n",
    "\n",
    "@njit\n",
    "def d_activation(x):\n",
    "    return np.cosh(x)**-2"
   ]
  },
  {
   "cell_type": "code",
   "execution_count": 6,
   "id": "4fa01035",
   "metadata": {},
   "outputs": [],
   "source": [
    "def NTK_weights(m):\n",
    "    if isinstance(m, nn.Linear):\n",
    "        print(m.weight.shape)\n",
    "        nn.init.normal_(m.weight.data)#/m.weight.shape[0]\n",
    "        if m.bias != None:\n",
    "            nn.init.normal_(m.bias.data)#/m.weight.shape[0]\n",
    "    if isinstance(m, nn.Conv2d):\n",
    "        print(m.weight.shape)\n",
    "        nn.init.normal_(m.weight.data)#/m.weight.shape[0]\n",
    "        if m.bias != None:\n",
    "            nn.init.normal_(m.bias.data)#/m.weight.shape[0]"
   ]
  },
  {
   "cell_type": "code",
   "execution_count": 7,
   "id": "651064e6",
   "metadata": {},
   "outputs": [
    {
     "data": {
      "text/plain": [
       "392"
      ]
     },
     "execution_count": 7,
     "metadata": {},
     "output_type": "execute_result"
    }
   ],
   "source": [
    "7*7*8"
   ]
  },
  {
   "cell_type": "code",
   "execution_count": 8,
   "id": "e996b64d",
   "metadata": {},
   "outputs": [],
   "source": [
    "class Simple_Conv(torch.nn.Module):\n",
    "    '''\n",
    "    simple network for test cases\n",
    "    \n",
    "    \n",
    "    It seems like bias vectors aren't trivially added.\n",
    "    '''\n",
    "    def __init__(self,):\n",
    "        super(Simple_Conv, self).__init__()\n",
    "        #input size=(N,1,28,28)\n",
    "        self.d1 = torch.nn.Conv2d(1,4,3,stride=2,padding=1,bias=False)\n",
    "\n",
    "        self.d2 = torch.nn.Conv2d(4,8,3,stride=2,padding=1,bias=False)\n",
    "        \n",
    "        self.d3 = torch.nn.Linear(7*7*8,32,bias=False)\n",
    "        \n",
    "        self.d4 = torch.nn.Linear(32,1,bias=False)\n",
    "        \n",
    "    def forward(self, x):\n",
    "        x = 1/np.sqrt(3*3*4) * activation(self.d1(x))\n",
    "        x = 1/np.sqrt(3*3*8) * activation(self.d2(x))\n",
    "        x = x.reshape(-1,7*7*8)\n",
    "        x = 1/np.sqrt(32) * activation(self.d3(x))\n",
    "        x = self.d4(x)\n",
    "        return x"
   ]
  },
  {
   "cell_type": "code",
   "execution_count": 9,
   "id": "785e8130",
   "metadata": {},
   "outputs": [
    {
     "name": "stdout",
     "output_type": "stream",
     "text": [
      "torch.Size([4, 1, 3, 3])\n",
      "torch.Size([8, 4, 3, 3])\n",
      "torch.Size([32, 392])\n",
      "torch.Size([1, 32])\n"
     ]
    }
   ],
   "source": [
    "torch.manual_seed(SEED)\n",
    "random.seed(SEED)\n",
    "np.random.seed(SEED)\n",
    "device='cpu'\n",
    "\n",
    "model_small = Simple_Conv()\n",
    "model_small.to(device)\n",
    "model_small.apply(NTK_weights)\n",
    "\n",
    "x_test = np.random.normal(0,1,(128,1,28,28)).astype(np.float32) #n c_in, h, w\n",
    "x_test = torch.from_numpy(x_test)"
   ]
  },
  {
   "cell_type": "markdown",
   "id": "2d1ecbba",
   "metadata": {},
   "source": [
    "# NTK Easy, (to make sure the convolutional network we designate is being correctly computed by our layerwise autograd method)"
   ]
  },
  {
   "cell_type": "code",
   "execution_count": 10,
   "id": "6655301f",
   "metadata": {},
   "outputs": [],
   "source": [
    "NTK_easy = calculate_NTK(model_small,x_test).detach().numpy()"
   ]
  },
  {
   "cell_type": "markdown",
   "id": "d707b6ab",
   "metadata": {},
   "source": [
    "# Find Components with autograd"
   ]
  },
  {
   "cell_type": "code",
   "execution_count": 11,
   "id": "867b8dec",
   "metadata": {},
   "outputs": [],
   "source": [
    "model_small.zero_grad()\n",
    "y = model_small(x_test)\n",
    "\n",
    "layer_components_w1 = [] \n",
    "layer_components_w2 = []\n",
    "layer_components_w3 = []\n",
    "layer_components_w4 = []\n",
    "\n",
    "for output in y:\n",
    "    model_small.zero_grad()\n",
    "    \n",
    "    output.backward(retain_graph=True)\n",
    "\n",
    "    #Get the tensors\n",
    "    w1_grad = model_small.d1.weight.grad.detach().numpy()\n",
    "    w2_grad = model_small.d2.weight.grad.detach().numpy()\n",
    "    w3_grad = model_small.d3.weight.grad.detach().numpy()\n",
    "    w4_grad = model_small.d4.weight.grad.detach().numpy()\n",
    "\n",
    "    #reshape and append. deep copy neccessary or else they are the same objects\n",
    "    layer_components_w1.append(w1_grad.reshape(-1).copy())\n",
    "    layer_components_w2.append(w2_grad.reshape(-1).copy())\n",
    "    layer_components_w3.append(w3_grad.reshape(-1).copy())\n",
    "    layer_components_w4.append(w4_grad.reshape(-1).copy())"
   ]
  },
  {
   "cell_type": "code",
   "execution_count": 12,
   "id": "6f39db9f",
   "metadata": {},
   "outputs": [],
   "source": [
    "layer_components_w1 = np.array(layer_components_w1)\n",
    "layer_components_w2 = np.array(layer_components_w2)\n",
    "layer_components_w3 = np.array(layer_components_w3)\n",
    "layer_components_w4 = np.array(layer_components_w4)"
   ]
  },
  {
   "cell_type": "code",
   "execution_count": 13,
   "id": "f02220d0",
   "metadata": {},
   "outputs": [],
   "source": [
    "autograd_NTK = layer_components_w1 @ layer_components_w1.T+\\\n",
    "    layer_components_w2 @ layer_components_w2.T+\\\n",
    "    layer_components_w3 @ layer_components_w3.T+\\\n",
    "    layer_components_w4 @ layer_components_w4.T"
   ]
  },
  {
   "cell_type": "code",
   "execution_count": 14,
   "id": "6575b20d",
   "metadata": {},
   "outputs": [
    {
     "name": "stdout",
     "output_type": "stream",
     "text": [
      "True\n",
      "maximum_difference:  1.66893e-06\n",
      "maximum difference index og array values:  3.9586504 3.9586487\n"
     ]
    }
   ],
   "source": [
    "print(np.allclose(autograd_NTK,NTK_easy,rtol=1e-3)) #The numbers contained in the NTK have very disparate values... rtol\n",
    "#can handle that better. \n",
    "\n",
    "maximum_difference_index = np.unravel_index(np.argmax(abs(autograd_NTK - NTK_easy)),np.shape(autograd_NTK))\n",
    "\n",
    "print('maximum_difference: ',abs(autograd_NTK - NTK_easy)[maximum_difference_index])\n",
    "print('maximum difference index og array values: ',autograd_NTK[maximum_difference_index],NTK_easy[maximum_difference_index])"
   ]
  },
  {
   "cell_type": "markdown",
   "id": "629914e2",
   "metadata": {},
   "source": [
    "# Because the Autograd method agrees with the easy NTK method, we can feel secure in analyzing the components"
   ]
  },
  {
   "cell_type": "code",
   "execution_count": 15,
   "id": "66baa22d",
   "metadata": {},
   "outputs": [],
   "source": [
    "l1_NTK = layer_components_w1 @ layer_components_w1.T\n",
    "l2_NTK = layer_components_w2 @ layer_components_w2.T\n",
    "l3_NTK = layer_components_w3 @ layer_components_w3.T\n",
    "l4_NTK = layer_components_w4 @ layer_components_w4.T"
   ]
  },
  {
   "cell_type": "markdown",
   "id": "ee7d783e",
   "metadata": {},
   "source": [
    "### Full NTK"
   ]
  },
  {
   "cell_type": "code",
   "execution_count": 16,
   "id": "17c58fa8",
   "metadata": {},
   "outputs": [
    {
     "data": {
      "image/png": "[encoded data removed]",
      "text/plain": [
       "<Figure size 432x288 with 1 Axes>"
      ]
     },
     "metadata": {
      "needs_background": "light"
     },
     "output_type": "display_data"
    }
   ],
   "source": [
    "plt.hist(autograd_NTK.flatten(),bins=np.linspace(-2,5,100))\n",
    "plt.show()"
   ]
  },
  {
   "cell_type": "code",
   "execution_count": 17,
   "id": "c713d652",
   "metadata": {},
   "outputs": [
    {
     "data": {
      "text/plain": [
       "(array([75., 19., 11.,  7.,  5.,  4.,  2.,  2.,  2.,  1.]),\n",
       " array([ 0.317283 ,  1.8301556,  3.343028 ,  4.855901 ,  6.3687735,\n",
       "         7.8816457,  9.394519 , 10.907391 , 12.420263 , 13.933136 ,\n",
       "        15.446009 ], dtype=float32),\n",
       " <BarContainer object of 10 artists>)"
      ]
     },
     "execution_count": 17,
     "metadata": {},
     "output_type": "execute_result"
    },
    {
     "data": {
      "image/png": "[encoded data removed]",
      "text/plain": [
       "<Figure size 432x288 with 1 Axes>"
      ]
     },
     "metadata": {
      "needs_background": "light"
     },
     "output_type": "display_data"
    }
   ],
   "source": [
    "plt.hist(np.linalg.eigh(autograd_NTK)[0])"
   ]
  },
  {
   "cell_type": "markdown",
   "id": "ca07ea87",
   "metadata": {},
   "source": [
    "### Histogram and QQ plot"
   ]
  },
  {
   "cell_type": "code",
   "execution_count": 18,
   "id": "11ebdc8a",
   "metadata": {},
   "outputs": [
    {
     "name": "stdout",
     "output_type": "stream",
     "text": [
      "Min:  -1.0642192\n",
      "Max:  2.871117\n",
      "Median:  -0.0001794912\n",
      "Mean:  0.008502591\n",
      "MAD:  0.2107512140393257\n",
      "STD:  0.26028508\n",
      " \n"
     ]
    },
    {
     "data": {
      "image/png": "[encoded data removed]",
      "text/plain": [
       "<Figure size 432x288 with 1 Axes>"
      ]
     },
     "metadata": {
      "needs_background": "light"
     },
     "output_type": "display_data"
    },
    {
     "data": {
      "image/png": "[encoded data removed]",
      "text/plain": [
       "<Figure size 432x288 with 1 Axes>"
      ]
     },
     "metadata": {
      "needs_background": "light"
     },
     "output_type": "display_data"
    }
   ],
   "source": [
    "A = l1_NTK\n",
    "MAD = 1.4826*np.median(np.abs(A-np.median(A)))\n",
    "MED = np.median(A)\n",
    "print('Min: ',np.min(A))\n",
    "print('Max: ',np.max(A))\n",
    "print('Median: ',np.median(A))\n",
    "print('Mean: ',np.mean(A))\n",
    "print('MAD: ',1.4826*np.median(np.abs(A-np.median(A))))\n",
    "print('STD: ',np.std(A))\n",
    "print(' ')\n",
    "\n",
    "plt.hist(A.flatten(),bins=np.linspace(-3,3,100))\n",
    "plt.vlines([MED-4*MAD,MED+4*MAD],0,800)\n",
    "plt.show()\n",
    "\n",
    "quantiles_of_normal = np.quantile(np.random.normal(np.median(A),1.4826*np.median(np.abs(A-np.median(A))),(1000)),np.linspace(0.01,0.99,20))\n",
    "quantiles_of_distribution = np.quantile(A,np.linspace(0.01,0.99,20))\n",
    "\n",
    "plt.plot(quantiles_of_normal,quantiles_of_distribution,'.')\n",
    "plt.plot([-1,1],[-1,1],'k--')\n",
    "plt.xlabel('Normal Distribution')\n",
    "plt.ylabel('NTK component Distribution')\n",
    "plt.show()"
   ]
  },
  {
   "cell_type": "code",
   "execution_count": 19,
   "id": "0fe3ac41",
   "metadata": {},
   "outputs": [
    {
     "name": "stdout",
     "output_type": "stream",
     "text": [
      "Min:  -0.1743128\n",
      "Max:  0.9647641\n",
      "Median:  0.000504049\n",
      "Mean:  0.003784738\n",
      "MAD:  0.040030537948384876\n",
      "STD:  0.061839547\n",
      " \n"
     ]
    },
    {
     "data": {
      "image/png": "[encoded data removed]",
      "text/plain": [
       "<Figure size 432x288 with 1 Axes>"
      ]
     },
     "metadata": {
      "needs_background": "light"
     },
     "output_type": "display_data"
    },
    {
     "data": {
      "image/png": "[encoded data removed]",
      "text/plain": [
       "<Figure size 432x288 with 1 Axes>"
      ]
     },
     "metadata": {
      "needs_background": "light"
     },
     "output_type": "display_data"
    }
   ],
   "source": [
    "A = l2_NTK\n",
    "MAD = 1.4826*np.median(np.abs(A-np.median(A)))\n",
    "MED = np.median(A)\n",
    "print('Min: ',np.min(A))\n",
    "print('Max: ',np.max(A))\n",
    "print('Median: ',np.median(A))\n",
    "print('Mean: ',np.mean(A))\n",
    "print('MAD: ',1.4826*np.median(np.abs(A-np.median(A))))\n",
    "print('STD: ',np.std(A))\n",
    "print(' ')\n",
    "\n",
    "plt.hist(A.flatten(),bins=np.linspace(-0.25,0.25,100))\n",
    "plt.vlines([MED-4*MAD,MED+4*MAD],0,800)\n",
    "plt.show()\n",
    "\n",
    "quantiles_of_normal = np.quantile(np.random.normal(np.median(A),1.4826*np.median(np.abs(A-np.median(A))),(1000)),np.linspace(0.01,0.99,20))\n",
    "quantiles_of_distribution = np.quantile(A,np.linspace(0.01,0.99,20))\n",
    "\n",
    "plt.plot(quantiles_of_normal,quantiles_of_distribution,'.')\n",
    "plt.plot([-0.1,0.1],[-0.1,0.1],'k--')\n",
    "plt.xlabel('Normal Distribution')\n",
    "plt.ylabel('NTK component Distribution')\n",
    "plt.show()"
   ]
  },
  {
   "cell_type": "code",
   "execution_count": 20,
   "id": "4717a7ef",
   "metadata": {},
   "outputs": [
    {
     "name": "stdout",
     "output_type": "stream",
     "text": [
      "Min:  -0.11139735\n",
      "Max:  0.79169047\n",
      "Median:  5.3437238e-05\n",
      "Mean:  0.0036569335\n",
      "MAD:  0.023098585425317286\n",
      "STD:  0.051624797\n",
      " \n"
     ]
    },
    {
     "data": {
      "image/png": "[encoded data removed]",
      "text/plain": [
       "<Figure size 432x288 with 1 Axes>"
      ]
     },
     "metadata": {
      "needs_background": "light"
     },
     "output_type": "display_data"
    },
    {
     "data": {
      "image/png": "[encoded data removed]",
      "text/plain": [
       "<Figure size 432x288 with 1 Axes>"
      ]
     },
     "metadata": {
      "needs_background": "light"
     },
     "output_type": "display_data"
    }
   ],
   "source": [
    "A = l3_NTK\n",
    "MAD = 1.4826*np.median(np.abs(A-np.median(A)))\n",
    "MED = np.median(A)\n",
    "print('Min: ',np.min(A))\n",
    "print('Max: ',np.max(A))\n",
    "print('Median: ',np.median(A))\n",
    "print('Mean: ',np.mean(A))\n",
    "print('MAD: ',1.4826*np.median(np.abs(A-np.median(A))))\n",
    "print('STD: ',np.std(A))\n",
    "print(' ')\n",
    "\n",
    "plt.hist(A.flatten(),bins=np.linspace(-0.25,0.25,100))\n",
    "plt.vlines([MED-4*MAD,MED+4*MAD],0,800)\n",
    "plt.show()\n",
    "\n",
    "quantiles_of_normal = np.quantile(np.random.normal(np.median(A),1.4826*np.median(np.abs(A-np.median(A))),(1000)),np.linspace(0.01,0.99,20))\n",
    "quantiles_of_distribution = np.quantile(A,np.linspace(0.01,0.99,20))\n",
    "\n",
    "plt.plot(quantiles_of_normal,quantiles_of_distribution,'.')\n",
    "plt.plot([-0.1,0.1],[-0.1,0.1],'k--')\n",
    "plt.xlabel('Normal Distribution')\n",
    "plt.ylabel('NTK component Distribution')\n",
    "plt.show()"
   ]
  },
  {
   "cell_type": "code",
   "execution_count": 21,
   "id": "cc2cf953",
   "metadata": {},
   "outputs": [
    {
     "name": "stdout",
     "output_type": "stream",
     "text": [
      "Min:  -0.3280837\n",
      "Max:  0.65529174\n",
      "Median:  -9.043842e-05\n",
      "Mean:  0.0030808137\n",
      "MAD:  0.09879337901473045\n",
      "STD:  0.10466915\n",
      " \n"
     ]
    },
    {
     "data": {
      "image/png": "[encoded data removed]",
      "text/plain": [
       "<Figure size 432x288 with 1 Axes>"
      ]
     },
     "metadata": {
      "needs_background": "light"
     },
     "output_type": "display_data"
    },
    {
     "data": {
      "image/png": "[encoded data removed]",
      "text/plain": [
       "<Figure size 432x288 with 1 Axes>"
      ]
     },
     "metadata": {
      "needs_background": "light"
     },
     "output_type": "display_data"
    }
   ],
   "source": [
    "A = l4_NTK\n",
    "\n",
    "MAD = 1.4826*np.median(np.abs(A-np.median(A)))\n",
    "MED = np.median(A)\n",
    "\n",
    "print('Min: ',np.min(A))\n",
    "print('Max: ',np.max(A))\n",
    "print('Median: ',np.median(A))\n",
    "print('Mean: ',np.mean(A))\n",
    "print('MAD: ',1.4826*np.median(np.abs(A-np.median(A))))\n",
    "print('STD: ',np.std(A))\n",
    "print(' ')\n",
    "\n",
    "plt.hist(A.flatten(),bins=np.linspace(-0.5,0.8,100))\n",
    "plt.vlines([MED-4*MAD,MED+4*MAD],0,800)\n",
    "plt.show()\n",
    "\n",
    "quantiles_of_normal = np.quantile(np.random.normal(np.median(A),1.4826*np.median(np.abs(A-np.median(A))),(1000)),np.linspace(0.01,0.99,20))\n",
    "quantiles_of_distribution = np.quantile(A,np.linspace(0.01,0.99,20))\n",
    "\n",
    "plt.plot(quantiles_of_normal,quantiles_of_distribution,'.')\n",
    "\n",
    "plt.plot([-0.2,0.2],[-0.2,0.2],'k--')\n",
    "plt.xlabel('Normal Distribution')\n",
    "plt.ylabel('NTK component Distribution')\n",
    "plt.show()"
   ]
  },
  {
   "cell_type": "markdown",
   "id": "33df03bc",
   "metadata": {},
   "source": [
    "# Discussion on Histogram:\n",
    "\n",
    "the number of outliers changes for each layer. According to the interpretation that we have on wikipedia, these are outliers of 'influence.'\n",
    "\n",
    "Each row of the NTK tells us the contributing influence on the value of x from the other datapoints, xi. so the column number tell us that column index datapoint has above average influence on the output of the neural network towards row index value x.\n",
    "\n",
    "The fact that the NTK's value follow a normal distribution shouldn't be surprising given we have used synthetic data. The fact that there are outliers at all is actually very confusing....? How can normally distributed data have any undue influence on any other datapoint. \n",
    "\n",
    "Given the above we have a few questions:\n",
    "\n",
    "* Are the same indices outliers in all the layers? or do the outliers change?\n",
    "* How are x values similar or different to another? Naively, maybe these are just relatively close values?\n",
    "* Do these amount to the same outliers in the full NTK?\n",
    "* What is the meaning of a bulk decrease or increase in the spread of the distribution?\n",
    "\n",
    "* are the outliers shared between the full NTK and these components?\n",
    "* Are the NTK outliers predominately the diagonal elements?\n",
    "* repeat the analysis for Feed Forward\n",
    "* repeat the analysis on MNIST\n",
    "* Are we sure the equation in the wikipedia article is correct?\n",
    "\n",
    "\n",
    "Also, we should run a gradient update and make sure the equation listed on wikiedia is actually true. "
   ]
  },
  {
   "cell_type": "markdown",
   "id": "4fddc790",
   "metadata": {},
   "source": [
    "### but First, lets look at the Eigenvalues, because why not"
   ]
  },
  {
   "cell_type": "code",
   "execution_count": 22,
   "id": "975a50f1",
   "metadata": {},
   "outputs": [
    {
     "data": {
      "text/plain": [
       "True"
      ]
     },
     "execution_count": 22,
     "metadata": {},
     "output_type": "execute_result"
    }
   ],
   "source": [
    "np.all(l1_NTK == l1_NTK.T)"
   ]
  },
  {
   "cell_type": "code",
   "execution_count": 23,
   "id": "385bbf1c",
   "metadata": {},
   "outputs": [
    {
     "name": "stdout",
     "output_type": "stream",
     "text": [
      "2.2316136e-18\n",
      "183.73294\n"
     ]
    },
    {
     "data": {
      "image/png": "[encoded data removed]",
      "text/plain": [
       "<Figure size 432x288 with 1 Axes>"
      ]
     },
     "metadata": {
      "needs_background": "light"
     },
     "output_type": "display_data"
    }
   ],
   "source": [
    "#I believe that np.linalg.eigh is running into some numerical problems, luckily, beacuse NTK are composed of\n",
    "#gram matrices we know that the eigenvalues are positive semi-definite. That means we can compute the singular\n",
    "#values and square them, which will atleast numerically agree that all the eigenvalues are positive\n",
    "eig_l1 = np.linalg.svd(l1_NTK)[1]\n",
    "eig_l1 = eig_l1**2\n",
    "\n",
    "print(np.min(eig_l1))\n",
    "print(np.max(eig_l1))\n",
    "plt.hist(eig_l1,bins=np.linspace(0,100,20))\n",
    "#plt.xscale('log')\n",
    "plt.show()"
   ]
  },
  {
   "cell_type": "code",
   "execution_count": 24,
   "id": "7f63b8c0",
   "metadata": {},
   "outputs": [
    {
     "name": "stdout",
     "output_type": "stream",
     "text": [
      "0.0007380894\n",
      "5.2819815\n"
     ]
    },
    {
     "data": {
      "image/png": "[encoded data removed]",
      "text/plain": [
       "<Figure size 432x288 with 1 Axes>"
      ]
     },
     "metadata": {
      "needs_background": "light"
     },
     "output_type": "display_data"
    }
   ],
   "source": [
    "#I believe that np.linalg.eigh is running into some numerical problems, luckily, beacuse NTK are composed of\n",
    "#gram matrices we know that the eigenvalues are positive semi-definite. That means we can compute the singular\n",
    "#values and square them, which will atleast numerically agree that all the eigenvalues are positive\n",
    "eig_l2 = np.linalg.svd(l2_NTK)[1]\n",
    "eig_l2 = eig_l2**2\n",
    "\n",
    "print(np.min(eig_l2))\n",
    "print(np.max(eig_l2))\n",
    "plt.hist(eig_l2,bins=np.linspace(0,6,20))\n",
    "#plt.xscale('log')\n",
    "plt.show()"
   ]
  },
  {
   "cell_type": "code",
   "execution_count": 25,
   "id": "791f59bc",
   "metadata": {},
   "outputs": [
    {
     "name": "stdout",
     "output_type": "stream",
     "text": [
      "0.015169455\n",
      "2.453462\n"
     ]
    },
    {
     "data": {
      "image/png": "[encoded data removed]",
      "text/plain": [
       "<Figure size 432x288 with 1 Axes>"
      ]
     },
     "metadata": {
      "needs_background": "light"
     },
     "output_type": "display_data"
    }
   ],
   "source": [
    "#I believe that np.linalg.eigh is running into some numerical problems, luckily, beacuse NTK are composed of\n",
    "#gram matrices we know that the eigenvalues are positive semi-definite. That means we can compute the singular\n",
    "#values and square them, which will atleast numerically agree that all the eigenvalues are positive\n",
    "eig_l3 = np.linalg.svd(l3_NTK)[1]\n",
    "eig_l3 = eig_l3**2\n",
    "\n",
    "print(np.min(eig_l3))\n",
    "print(np.max(eig_l3))\n",
    "plt.hist(eig_l3,bins=np.linspace(0,3,20))\n",
    "plt.show()"
   ]
  },
  {
   "cell_type": "code",
   "execution_count": 26,
   "id": "63746aaa",
   "metadata": {},
   "outputs": [
    {
     "name": "stdout",
     "output_type": "stream",
     "text": [
      "1.0253307e-18\n",
      "24.850464\n"
     ]
    },
    {
     "data": {
      "image/png": "[encoded data removed]",
      "text/plain": [
       "<Figure size 432x288 with 1 Axes>"
      ]
     },
     "metadata": {
      "needs_background": "light"
     },
     "output_type": "display_data"
    }
   ],
   "source": [
    "#I believe that np.linalg.eigh is running into some numerical problems, luckily, beacuse NTK are composed of\n",
    "#gram matrices we know that the eigenvalues are positive semi-definite. That means we can compute the singular\n",
    "#values and square them, which will atleast numerically agree that all the eigenvalues are positive\n",
    "eig_l4 = np.linalg.svd(l4_NTK)[1]\n",
    "eig_l4 = eig_l4**2\n",
    "\n",
    "print(np.min(eig_l4))\n",
    "print(np.max(eig_l4))\n",
    "plt.hist(eig_l4,bins=np.linspace(0,20,20))\n",
    "plt.show()"
   ]
  },
  {
   "cell_type": "markdown",
   "id": "4e96578b",
   "metadata": {},
   "source": [
    "# Eh...\n",
    "\n",
    "### lets go back to the NTK values. To be systematic, we will identify all the indices in each layer that are 3 sigma MAD outliers. Then, we can look for hits across using these masks and logical_and."
   ]
  },
  {
   "cell_type": "code",
   "execution_count": 27,
   "id": "c98aed59",
   "metadata": {},
   "outputs": [
    {
     "name": "stdout",
     "output_type": "stream",
     "text": [
      "number of 3-sigma outliers:  136\n",
      "number of 3-sigma outliers:  138\n",
      "number of 3-sigma outliers:  160\n",
      "number of 3-sigma outliers:  127\n",
      " \n",
      "Number of Hits, l1 and l2:  94\n",
      "Number of Hits, l2 and l3:  128\n",
      "Number of Hits, l3 and l4:  127\n",
      " \n",
      "Number of Hits, l1 and l3:  94\n",
      "Number of Hits, l1 and l4:  93\n",
      "Number of Hits, l2 and l4:  127\n",
      " \n",
      "probability of being an outlier in l2 if in l1: 0.691\n",
      "probability of being an outlier in l2: 0.00842\n"
     ]
    }
   ],
   "source": [
    "KAPPA = 4 #Number of MADs to be an outlier\n",
    "\n",
    "A = l1_NTK\n",
    "MED = np.median(A)\n",
    "MAD = 1.4826*np.median(np.abs(A-np.median(A)))\n",
    "MAD_mask_l1 = np.logical_or(A>KAPPA*MAD+MED,A<MED-KAPPA*MAD)\n",
    "print('number of 3-sigma outliers: ',np.sum(MAD_mask_l1))\n",
    "\n",
    "A = l2_NTK\n",
    "MED = np.median(A)\n",
    "MAD = 1.4826*np.median(np.abs(A-np.median(A)))\n",
    "MAD_mask_l2 = np.logical_or(A>KAPPA*MAD+MED,A<MED-KAPPA*MAD)\n",
    "print('number of 3-sigma outliers: ',np.sum(MAD_mask_l2))\n",
    "\n",
    "A = l3_NTK\n",
    "MED = np.median(A)\n",
    "MAD = 1.4826*np.median(np.abs(A-np.median(A)))\n",
    "MAD_mask_l3 = np.logical_or(A>KAPPA*MAD+MED,A<MED-KAPPA*MAD)\n",
    "print('number of 3-sigma outliers: ',np.sum(MAD_mask_l3))\n",
    "\n",
    "A = l4_NTK\n",
    "MED = np.median(A)\n",
    "MAD = 1.4826*np.median(np.abs(A-np.median(A)))\n",
    "MAD_mask_l4 = np.logical_or(A>KAPPA*MAD+MED,A<MED-KAPPA*MAD)\n",
    "print('number of 3-sigma outliers: ',np.sum(MAD_mask_l4))\n",
    "\n",
    "print(' ')\n",
    "print('Number of Hits, l1 and l2: ',np.sum(np.logical_and(MAD_mask_l1,MAD_mask_l2)))\n",
    "print('Number of Hits, l2 and l3: ',np.sum(np.logical_and(MAD_mask_l2,MAD_mask_l3)))\n",
    "print('Number of Hits, l3 and l4: ',np.sum(np.logical_and(MAD_mask_l3,MAD_mask_l4)))\n",
    "print(' ')\n",
    "print('Number of Hits, l1 and l3: ',np.sum(np.logical_and(MAD_mask_l1,MAD_mask_l3)))\n",
    "print('Number of Hits, l1 and l4: ',np.sum(np.logical_and(MAD_mask_l1,MAD_mask_l4)))\n",
    "print('Number of Hits, l2 and l4: ',np.sum(np.logical_and(MAD_mask_l2,MAD_mask_l4)))\n",
    "\n",
    "print(' ')\n",
    "print('probability of being an outlier in l2 if in l1: {:.3}'.format(np.sum(np.logical_and(MAD_mask_l1,MAD_mask_l2)/np.sum(MAD_mask_l1))))\n",
    "print('probability of being an outlier in l2: {:.3}'.format(np.sum(MAD_mask_l2)/len(MAD_mask_l2.flatten())))"
   ]
  },
  {
   "cell_type": "markdown",
   "id": "762adbcc",
   "metadata": {},
   "source": [
    "### Which means that the probability of being an outlier given already having been an outlier in one layer is substantially higher than being identified as an outlier from the entire group.\n",
    "\n",
    "### i.e., outlier are more typically shared between layers-- its probably a characteristic of the data rather than the layer\n",
    "\n",
    "\n",
    "#### so can we identify this characteristic?"
   ]
  },
  {
   "cell_type": "code",
   "execution_count": 28,
   "id": "0f42d657",
   "metadata": {},
   "outputs": [
    {
     "data": {
      "text/plain": [
       "torch.Size([128, 1, 28, 28])"
      ]
     },
     "execution_count": 28,
     "metadata": {},
     "output_type": "execute_result"
    }
   ],
   "source": [
    "x_test.shape"
   ]
  },
  {
   "cell_type": "code",
   "execution_count": 29,
   "id": "e6908235",
   "metadata": {},
   "outputs": [
    {
     "ename": "NameError",
     "evalue": "name 'i_index' is not defined",
     "output_type": "error",
     "traceback": [
      "\u001b[1;31m---------------------------------------------------------------------------\u001b[0m",
      "\u001b[1;31mNameError\u001b[0m                                 Traceback (most recent call last)",
      "\u001b[1;32m<ipython-input-29-e08d5a32e7cb>\u001b[0m in \u001b[0;36m<module>\u001b[1;34m\u001b[0m\n\u001b[1;32m----> 1\u001b[1;33m \u001b[0mi_index\u001b[0m\u001b[1;33m\u001b[0m\u001b[1;33m\u001b[0m\u001b[0m\n\u001b[0m",
      "\u001b[1;31mNameError\u001b[0m: name 'i_index' is not defined"
     ]
    }
   ],
   "source": [
    "i_index"
   ]
  },
  {
   "cell_type": "code",
   "execution_count": 30,
   "id": "c08561d8",
   "metadata": {},
   "outputs": [
    {
     "data": {
      "image/png": "[encoded data removed]",
      "text/plain": [
       "<Figure size 432x288 with 1 Axes>"
      ]
     },
     "metadata": {
      "needs_background": "light"
     },
     "output_type": "display_data"
    },
    {
     "data": {
      "image/png": "[encoded data removed]",
      "text/plain": [
       "<Figure size 432x288 with 1 Axes>"
      ]
     },
     "metadata": {
      "needs_background": "light"
     },
     "output_type": "display_data"
    },
    {
     "data": {
      "image/png": "[encoded data removed]",
      "text/plain": [
       "<Figure size 432x288 with 2 Axes>"
      ]
     },
     "metadata": {
      "needs_background": "light"
     },
     "output_type": "display_data"
    },
    {
     "name": "stdout",
     "output_type": "stream",
     "text": [
      "Corr coef between images:  1.0\n"
     ]
    }
   ],
   "source": [
    "#Given an index of an outlier from some layer, plot the image i, plot the image j, and plot the correlation matrix\n",
    "#between the two images pixels. This would be much more natural if we were looking at some regresison problem with\n",
    "#features.\n",
    "\n",
    "num = 5\n",
    "\n",
    "i_index, j_index = np.where(MAD_mask_l1)\n",
    "\n",
    "plt.imshow(x_test[i_index[num]].T)\n",
    "plt.show()\n",
    "\n",
    "plt.imshow(x_test[j_index[num]].T)\n",
    "plt.show()\n",
    "\n",
    "plt.imshow(abs(x_test[i_index[num]].T - x_test[j_index[num]].T),'Greys')\n",
    "plt.colorbar()\n",
    "plt.show()\n",
    "\n",
    "print('Corr coef between images: ',np.corrcoef(x_test[i_index[num]].flatten(),x_test[j_index[num]].flatten())[1,1])"
   ]
  },
  {
   "cell_type": "code",
   "execution_count": 31,
   "id": "dc4a8dde",
   "metadata": {},
   "outputs": [],
   "source": [
    "images = []\n",
    "for obj,ntk in zip([MAD_mask_l1, MAD_mask_l2, MAD_mask_l3, MAD_mask_l4],[l1_NTK,l2_NTK,l3_NTK,l4_NTK]):\n",
    "    i_index, j_index = np.where(obj)\n",
    "    image = np.zeros((128,128))\n",
    "    for k in range(len(i_index)):\n",
    "        image[i_index[k],j_index[k]] = abs(ntk[i_index[k],j_index[k]])\n",
    "    images.append(image)"
   ]
  },
  {
   "cell_type": "code",
   "execution_count": 32,
   "id": "22c1124f",
   "metadata": {},
   "outputs": [
    {
     "data": {
      "image/png": "[encoded data removed]",
      "text/plain": [
       "<Figure size 432x288 with 1 Axes>"
      ]
     },
     "metadata": {
      "needs_background": "light"
     },
     "output_type": "display_data"
    },
    {
     "data": {
      "image/png": "[encoded data removed]",
      "text/plain": [
       "<Figure size 432x288 with 1 Axes>"
      ]
     },
     "metadata": {
      "needs_background": "light"
     },
     "output_type": "display_data"
    },
    {
     "data": {
      "image/png": "[encoded data removed]",
      "text/plain": [
       "<Figure size 432x288 with 1 Axes>"
      ]
     },
     "metadata": {
      "needs_background": "light"
     },
     "output_type": "display_data"
    },
    {
     "data": {
      "image/png": "[encoded data removed]",
      "text/plain": [
       "<Figure size 432x288 with 1 Axes>"
      ]
     },
     "metadata": {
      "needs_background": "light"
     },
     "output_type": "display_data"
    }
   ],
   "source": [
    "for k,image in enumerate(images):\n",
    "    plt.imshow(images[k],cmap='Greys')\n",
    "    plt.title('Layer {}'.format(k+1))\n",
    "    plt.show()"
   ]
  },
  {
   "cell_type": "code",
   "execution_count": 33,
   "id": "24c51979",
   "metadata": {},
   "outputs": [],
   "source": [
    "#similarities and differences between layers...\n",
    "p = 2 # minkowski distance\n",
    "\n",
    "x = x_test.numpy()\n",
    "\n",
    "distances = np.zeros((len(x),len(x)))\n",
    "for i in range(len(x)):\n",
    "    for j in range(len(x)):\n",
    "        distances[i,j] = np.sum(abs(x[i,] - x[j])**p)**(1/p)"
   ]
  },
  {
   "cell_type": "code",
   "execution_count": 34,
   "id": "d7e6b931",
   "metadata": {},
   "outputs": [
    {
     "data": {
      "image/png": "[encoded data removed]",
      "text/plain": [
       "<Figure size 432x288 with 1 Axes>"
      ]
     },
     "metadata": {
      "needs_background": "light"
     },
     "output_type": "display_data"
    },
    {
     "data": {
      "image/png": "[encoded data removed]",
      "text/plain": [
       "<Figure size 432x288 with 1 Axes>"
      ]
     },
     "metadata": {
      "needs_background": "light"
     },
     "output_type": "display_data"
    },
    {
     "name": "stdout",
     "output_type": "stream",
     "text": [
      "-0.00995605121434715\n",
      "if W from shapiro Wilks is 1, basically normal:  0.9996227622032166\n"
     ]
    },
    {
     "name": "stderr",
     "output_type": "stream",
     "text": [
      "C:\\Users\\enge625\\Miniconda3\\envs\\pytorch1.9\\lib\\site-packages\\scipy\\stats\\morestats.py:1760: UserWarning: p-value may not be accurate for N > 5000.\n",
      "  warnings.warn(\"p-value may not be accurate for N > 5000.\")\n"
     ]
    }
   ],
   "source": [
    "plt.title('yes of course the looks like this...')\n",
    "plt.plot(l4_NTK.flatten(),distances.flatten(),'.')\n",
    "plt.ylabel('Distance')\n",
    "plt.xlabel('NTK Value')\n",
    "plt.show()\n",
    "\n",
    "\n",
    "plt.title('But if we zoom in?')\n",
    "plt.plot(l4_NTK.flatten(),distances.flatten(),'.',alpha=0.1)\n",
    "plt.ylabel('Distance')\n",
    "plt.xlabel('NTK Value')\n",
    "plt.ylim(35,45,)\n",
    "plt.xlim(-1.5,1.5)\n",
    "plt.show()\n",
    "\n",
    "print(np.cov(l4_NTK.flatten()[distances.flatten()!=0],distances.flatten()[distances.flatten()!=0])[0,1])\n",
    "\n",
    "from scipy.stats import shapiro\n",
    "\n",
    "print('if W from shapiro Wilks is 1, basically normal: ',shapiro(l4_NTK.flatten()[distances.flatten()!=0])[0])"
   ]
  },
  {
   "cell_type": "markdown",
   "id": "e874adcb",
   "metadata": {},
   "source": [
    "#### Is the spread in NTK(excluding diagonals) proportional to the number of components used to calculate it? "
   ]
  },
  {
   "cell_type": "code",
   "execution_count": 42,
   "id": "5d7c94ed",
   "metadata": {},
   "outputs": [
    {
     "data": {
      "text/plain": [
       "(128, 32)"
      ]
     },
     "execution_count": 42,
     "metadata": {},
     "output_type": "execute_result"
    }
   ],
   "source": [
    "layer_components_w4.shape"
   ]
  },
  {
   "cell_type": "code",
   "execution_count": 46,
   "id": "76056eda",
   "metadata": {},
   "outputs": [
    {
     "data": {
      "text/plain": [
       "Text(0.5, 1.0, 'is the spread in the NTK proportional to the number parameters in each layer?')"
      ]
     },
     "execution_count": 46,
     "metadata": {},
     "output_type": "execute_result"
    },
    {
     "data": {
      "image/png": "[encoded data removed]",
      "text/plain": [
       "<Figure size 432x288 with 1 Axes>"
      ]
     },
     "metadata": {
      "needs_background": "light"
     },
     "output_type": "display_data"
    }
   ],
   "source": [
    "lengths = np.array([np.shape(layer_components_w1)[1],np.shape(layer_components_w2)[1],np.shape(layer_components_w3)[1],np.shape(layer_components_w4)[1]])\n",
    "\n",
    "def MAD(A):\n",
    "    \n",
    "    return np.median(np.abs(np.median(A) - A))\n",
    "\n",
    "spreads = np.array([MAD(l1_NTK),MAD(l2_NTK),MAD(l3_NTK),MAD(l4_NTK)])\n",
    "\n",
    "plt.plot(lengths,spreads,'.')\n",
    "plt.xscale('log')\n",
    "plt.xlabel('number of parameters')\n",
    "plt.ylabel('MAD')\n",
    "plt.title('is the spread in the NTK proportional to the number parameters in each layer?')"
   ]
  },
  {
   "cell_type": "markdown",
   "id": "2797ca4b",
   "metadata": {},
   "source": [
    "### Right, so how many of the elements that are outliers are along the diagonal of the NTK, and does this explain why the number of outliers shared between layers are something like the number of datapoints?\n",
    "\n",
    "### If we find that many of them are, then this is all just to say, the most influential term in f(x)'s trajectory is x itself, which, duh.\n",
    "\n",
    "### Look at the histogram of the correaltion matrices for each of these layers datapoints that are shared outliers. Hypothesis is that most of those should be 1.0; and the remainder are part of the normal distribution"
   ]
  },
  {
   "cell_type": "code",
   "execution_count": null,
   "id": "98d0a645",
   "metadata": {},
   "outputs": [],
   "source": []
  }
 ],
 "metadata": {
  "kernelspec": {
   "display_name": "Python 3",
   "language": "python",
   "name": "python3"
  },
  "language_info": {
   "codemirror_mode": {
    "name": "ipython",
    "version": 3
   },
   "file_extension": ".py",
   "mimetype": "text/x-python",
   "name": "python",
   "nbconvert_exporter": "python",
   "pygments_lexer": "ipython3",
   "version": "3.9.6"
  }
 },
 "nbformat": 4,
 "nbformat_minor": 5
}
